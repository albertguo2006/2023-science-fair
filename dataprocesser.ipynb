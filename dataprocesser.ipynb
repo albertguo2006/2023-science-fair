{
 "cells": [
  {
   "cell_type": "code",
   "execution_count": 2,
   "id": "4980ddd7-464f-448e-a2d3-67e7abca5988",
   "metadata": {
    "tags": []
   },
   "outputs": [],
   "source": [
    "import csv\n",
    "import numpy as np\n",
    "import pandas as pd\n",
    "from PIL import Image\n",
    "import PIL\n",
    "import os, sys\n",
    "import torch\n",
    "import math\n",
    "import matplotlib.pyplot as plt\n",
    "import random\n",
    "import torchvision\n",
    "from torch import nn, Tensor\n",
    "import torch.nn.functional as F\n",
    "import tqdm\n",
    "\n",
    "from helper import *"
   ]
  },
  {
   "cell_type": "code",
   "execution_count": 8,
   "id": "fb3e6564-5fbe-4930-bec7-8e86199c25f3",
   "metadata": {},
   "outputs": [],
   "source": [
    "# with open('datasets/GSE140829_raw.csv', newline='') as dataset3:\n",
    "#     genes = {'ID_REF': 'ID_REF'}\n",
    "    \n",
    "#     reader3 = csv.DictReader(dataset3, delimiter=\"\\t\")\n",
    "    \n",
    "#     for row in reader3:\n",
    "#         if row['ILMN_GENE'] not in genes :\n",
    "#             genes[row['ILMN_GENE']] = row['PROBE_ID']"
   ]
  },
  {
   "cell_type": "code",
   "execution_count": 9,
   "id": "7426fb50-547a-483a-97e0-edc0257420a5",
   "metadata": {},
   "outputs": [],
   "source": [
    "# data = []\n",
    "\n",
    "# with open('datasets/GSE140829.csv', newline='') as dataset3:\n",
    "#     reader = csv.reader(dataset3, delimiter=\"\\t\")\n",
    "    \n",
    "#     for row in reader:\n",
    "#         try:\n",
    "#             row[0] = genes[row[0]]\n",
    "#             data.append(row)\n",
    "#         except KeyError:\n",
    "#             print(f\"gene {row[0]} does not exist!\")"
   ]
  },
  {
   "cell_type": "code",
   "execution_count": 10,
   "id": "1a14cdb0-6858-4e68-8f3c-3c860727f05a",
   "metadata": {},
   "outputs": [],
   "source": [
    "# with open('datasets/GSE140829.csv', 'w', newline='\\n') as f:\n",
    "#     writer = csv.writer(f, delimiter=\"\\t\", quotechar='\"', quoting=csv.QUOTE_MINIMAL)\n",
    "#     writer.writerows(data)"
   ]
  },
  {
   "cell_type": "code",
   "execution_count": 11,
   "id": "59c472fc-15cd-4ea4-8059-8551caf7d9b0",
   "metadata": {},
   "outputs": [],
   "source": [
    "commonGenes = []\n",
    "genes1 = []\n",
    "genes2 = []\n",
    "genes3 = []\n",
    "\n",
    "dataset1 = open('datasets/GSE63060.csv', newline='')\n",
    "dataset2 = open('datasets/GSE63061.csv', newline='')\n",
    "dataset3 = open('datasets/GSE140829.csv', newline='')\n",
    "\n",
    "reader1 = csv.reader(dataset1, delimiter=\"\\t\")\n",
    "reader2 = csv.reader(dataset2, delimiter=\"\\t\")\n",
    "reader3 = csv.reader(dataset3, delimiter=\"\\t\")\n",
    "\n",
    "for row in reader2:\n",
    "    genes2.append(row[0])\n",
    "    \n",
    "for row in reader3:\n",
    "    genes3.append(row[0])\n",
    "\n",
    "for row in reader1:\n",
    "    genes1.append(row[0])\n",
    "    \n",
    "    if row[0] in genes2 and row[0] in genes3:\n",
    "        commonGenes.append(row[0])\n",
    "\n",
    "dataset1.close()\n",
    "dataset2.close()\n",
    "dataset3.close()"
   ]
  },
  {
   "cell_type": "code",
   "execution_count": 12,
   "id": "c99dc166-c5ff-4d66-8dbe-b142786a6e87",
   "metadata": {},
   "outputs": [],
   "source": [
    "# print(commonGenes)\n",
    "# print(genes2)"
   ]
  },
  {
   "cell_type": "code",
   "execution_count": 13,
   "id": "569058da-0a3e-4af6-842d-d6017e55e82f",
   "metadata": {},
   "outputs": [],
   "source": [
    "set1 = []\n",
    "set2 = []\n",
    "set3 = []\n",
    "\n",
    "dataset1 = open('datasets/GSE63060.csv', newline='')\n",
    "dataset2 = open('datasets/GSE63061.csv', newline='')\n",
    "dataset3 = open('datasets/GSE140829.csv', newline='')\n",
    "\n",
    "reader1 = csv.reader(dataset1, delimiter=\"\\t\")\n",
    "reader2 = csv.reader(dataset2, delimiter=\"\\t\")\n",
    "reader3 = csv.reader(dataset3, delimiter=\"\\t\")\n",
    "\n",
    "for row in reader1:\n",
    "    if row not in set1 and row[0] in commonGenes:\n",
    "        set1.append(row)\n",
    "        \n",
    "for row in reader2:\n",
    "    if row not in set2 and row[0] in commonGenes:\n",
    "        set2.append(row)\n",
    "        \n",
    "for row in reader3:\n",
    "    if row not in set3 and row[0] in commonGenes:\n",
    "        set3.append(row)\n",
    "    \n",
    "# set1.sort(key=lambda x: x[0])\n",
    "# set2.sort(key=lambda x: x[0])\n",
    "# set3.sort(key=lambda x: x[0])\n",
    "\n",
    "data1 = []\n",
    "data2 = []\n",
    "data3 = []\n",
    "    \n",
    "for i in range(len(set1[0])):\n",
    "    rowData = []\n",
    "\n",
    "    for row in set1:\n",
    "        rowData.append(row[i])\n",
    "\n",
    "    data1.append(rowData)\n",
    "    \n",
    "for i in range(len(set2[0])):\n",
    "    rowData = []\n",
    "\n",
    "    for row in set2:\n",
    "        rowData.append(row[i])\n",
    "\n",
    "    data2.append(rowData)\n",
    "    \n",
    "for i in range(len(set3[0])):\n",
    "    rowData = []\n",
    "\n",
    "    for row in set3:\n",
    "        rowData.append(row[i])\n",
    "\n",
    "    data3.append(rowData)\n",
    "\n",
    "dataset1.close()\n",
    "dataset2.close()\n",
    "dataset3.close()"
   ]
  },
  {
   "cell_type": "code",
   "execution_count": 14,
   "id": "9fe27781-3539-4517-95af-73dd4caf73f0",
   "metadata": {},
   "outputs": [
    {
     "name": "stdout",
     "output_type": "stream",
     "text": [
      "10678\n"
     ]
    }
   ],
   "source": [
    "print(len(data3[0]))"
   ]
  },
  {
   "cell_type": "code",
   "execution_count": 15,
   "id": "c3765ab6-b1e8-4eeb-a3ff-1c621a0a0a0a",
   "metadata": {},
   "outputs": [],
   "source": [
    "conditions = {}\n",
    "\n",
    "dataset1 = open('datasets/GSE63060info.csv', newline='')\n",
    "dataset2 = open('datasets/GSE63061info.csv', newline='')\n",
    "dataset3 = open('datasets/GSE140829info.csv', newline='')\n",
    "\n",
    "reader1 = csv.DictReader(dataset1, delimiter=\"\\t\")\n",
    "reader2 = csv.DictReader(dataset2, delimiter=\"\\t\")\n",
    "reader3 = csv.DictReader(dataset3, delimiter=\"\\t\")\n",
    "\n",
    "conData = []\n",
    "\n",
    "for row in reader1:\n",
    "    conData.append(row)\n",
    "        \n",
    "for row in reader2:\n",
    "    conData.append(row)\n",
    "    \n",
    "for row in reader3:\n",
    "    conData.append(row)\n",
    "    \n",
    "conditions = merge(conData[0], conData[1])\n",
    "conditions = merge(conditions, conData[2])\n",
    "\n",
    "dataset1.close()\n",
    "dataset2.close()\n",
    "dataset3.close()"
   ]
  },
  {
   "cell_type": "code",
   "execution_count": 16,
   "id": "ce0f14fc-4c15-4560-bfb9-b7b9d60a29a6",
   "metadata": {},
   "outputs": [
    {
     "name": "stdout",
     "output_type": "stream",
     "text": [
      "ILMN_2403446\n",
      "54\n"
     ]
    }
   ],
   "source": [
    "for i in range(len(data1[0])):\n",
    "    if data1[0][i] != data2[0][i]:\n",
    "        print(data1[0][i])\n",
    "        print(i)\n",
    "        break"
   ]
  },
  {
   "cell_type": "code",
   "execution_count": 17,
   "id": "f3ef601d-8667-48c3-a622-e9f8b41af4d0",
   "metadata": {},
   "outputs": [],
   "source": [
    "if data1[0][0] == \"ID_REF\":\n",
    "    del data1[0]\n",
    "\n",
    "if data2[0][0] == \"ID_REF\":\n",
    "    del data2[0]\n",
    "\n",
    "if data3[0][0] == \"ID_REF\":\n",
    "    del data3[0]"
   ]
  },
  {
   "cell_type": "code",
   "execution_count": 18,
   "id": "fe4dbf29-7dad-4e6d-b276-b7172dcb71ca",
   "metadata": {},
   "outputs": [
    {
     "name": "stdout",
     "output_type": "stream",
     "text": [
      "4856076038_D\n",
      "208\n"
     ]
    }
   ],
   "source": [
    "# Remove 4856076038_D, as it has no diagnosis\n",
    "\n",
    "for i in range(len(data1)):\n",
    "    try:\n",
    "        if data1[i][0] not in conditions.keys():\n",
    "            print(data1[i][0])\n",
    "            print(i)\n",
    "            \n",
    "            del data1[i]\n",
    "    except:\n",
    "        pass"
   ]
  },
  {
   "cell_type": "code",
   "execution_count": 19,
   "id": "86daa62b-899b-4da2-96f8-833d66194a35",
   "metadata": {},
   "outputs": [],
   "source": [
    "i = 0\n",
    "\n",
    "while i < len(data1):\n",
    "    if conditions[data1[i][0]] == \"MCI\":\n",
    "        data1.pop(i)\n",
    "    \n",
    "    else:\n",
    "        i += 1"
   ]
  },
  {
   "cell_type": "code",
   "execution_count": 20,
   "id": "40ffe56a-535d-439e-914f-e9d86edbd710",
   "metadata": {},
   "outputs": [],
   "source": [
    "i = 0\n",
    "\n",
    "while i < len(data2):\n",
    "    if conditions[data2[i][0]] == \"MCI\":\n",
    "        data2.pop(i)\n",
    "    \n",
    "    else:\n",
    "        i += 1"
   ]
  },
  {
   "cell_type": "code",
   "execution_count": 21,
   "id": "4801d3e4-f218-43ad-b998-e37a81119176",
   "metadata": {},
   "outputs": [],
   "source": [
    "with open('datasets/data2.csv', 'w') as f:\n",
    "    writer = csv.writer(f, quotechar='\"', quoting=csv.QUOTE_MINIMAL)\n",
    "    writer.writerows(data2)"
   ]
  },
  {
   "cell_type": "code",
   "execution_count": 22,
   "id": "5d21c7d2-0561-4fa9-9b8e-476500dd8d1a",
   "metadata": {},
   "outputs": [],
   "source": [
    "# print(data2[2])"
   ]
  },
  {
   "cell_type": "code",
   "execution_count": 23,
   "id": "b79fb2a0-d495-4a38-a4f8-f198bc34af4c",
   "metadata": {},
   "outputs": [],
   "source": [
    "i = 0\n",
    "\n",
    "while i < len(data3):\n",
    "    if conditions[data3[i][0]] == \"MCI\":\n",
    "        data3.pop(i)\n",
    "    \n",
    "    else:\n",
    "        i += 1"
   ]
  },
  {
   "cell_type": "code",
   "execution_count": 24,
   "id": "36ad78db-f1ba-4718-9f60-c233045d4167",
   "metadata": {},
   "outputs": [],
   "source": [
    "data1 = toFloat(data1)\n",
    "data2 = toFloat(data2)\n",
    "data3 = toFloat(data3)"
   ]
  },
  {
   "cell_type": "code",
   "execution_count": 25,
   "id": "407233bd-e0f2-49d8-8f7e-9ec9453a62d8",
   "metadata": {},
   "outputs": [],
   "source": [
    "data = data1 + data2 + data3\n",
    "\n",
    "# data = data3\n",
    "\n",
    "data = normalizeRow(data)\n",
    "data = normalize(data)\n",
    "\n",
    "random.shuffle(data)\n",
    "\n",
    "nnTrain = len(data) - int(len(data) * 0.2)"
   ]
  },
  {
   "cell_type": "code",
   "execution_count": 26,
   "id": "a35c36bf-312b-49ad-b07b-01057e74a335",
   "metadata": {},
   "outputs": [
    {
     "name": "stdout",
     "output_type": "stream",
     "text": [
      "761\n"
     ]
    }
   ],
   "source": [
    "print(nnTrain)"
   ]
  },
  {
   "cell_type": "code",
   "execution_count": 27,
   "id": "63615f54-9e97-4f27-a3b5-aafb9f7fed66",
   "metadata": {},
   "outputs": [
    {
     "data": {
      "text/plain": [
       "<matplotlib.image.AxesImage at 0x1aee3815ac0>"
      ]
     },
     "execution_count": 27,
     "metadata": {},
     "output_type": "execute_result"
    },
    {
     "data": {
      "image/png": "[encoded data removed]",
      "text/plain": [
       "<Figure size 640x480 with 1 Axes>"
      ]
     },
     "metadata": {},
     "output_type": "display_data"
    }
   ],
   "source": [
    "import matplotlib.pyplot as plt\n",
    "\n",
    "plt.imshow(torch.Tensor(data1[1][1:10001]).view(100, 100))"
   ]
  },
  {
   "cell_type": "code",
   "execution_count": 28,
   "id": "54a34c1e-5573-475a-8046-ef5cddec2b42",
   "metadata": {},
   "outputs": [],
   "source": [
    "for item in data:\n",
    "    try:\n",
    "        item[0] = getCondition(conditions[item[0]])\n",
    "    except:\n",
    "        pass"
   ]
  },
  {
   "cell_type": "code",
   "execution_count": 29,
   "id": "053d515c-d7be-46a8-b037-195dfb1981c3",
   "metadata": {},
   "outputs": [],
   "source": [
    "ad = 0\n",
    "ctl = 0\n",
    "\n",
    "for i in range(len(data)):\n",
    "    if data[i][0] == 1:\n",
    "        ad += 1\n",
    "    else:\n",
    "        ctl += 1"
   ]
  },
  {
   "cell_type": "code",
   "execution_count": 30,
   "id": "471a4b27-2b97-4d8f-921e-729df403cd78",
   "metadata": {},
   "outputs": [
    {
     "name": "stdout",
     "output_type": "stream",
     "text": [
      "483\n",
      "468\n"
     ]
    }
   ],
   "source": [
    "print(ad)\n",
    "print(ctl)"
   ]
  },
  {
   "cell_type": "code",
   "execution_count": 31,
   "id": "f9f56a94-6687-405f-96bd-6c8ecfac6c2c",
   "metadata": {},
   "outputs": [],
   "source": [
    "train = data[:nnTrain]\n",
    "test = data[nnTrain:]"
   ]
  },
  {
   "cell_type": "code",
   "execution_count": 32,
   "id": "3eacc7b9-69d4-4bcc-b788-5d435b9d423d",
   "metadata": {},
   "outputs": [],
   "source": [
    "rValues = getRValues(train, test, ctl, ad)"
   ]
  },
  {
   "cell_type": "code",
   "execution_count": 33,
   "id": "94e004b1-96fa-4a2f-9160-d26affde116a",
   "metadata": {},
   "outputs": [],
   "source": [
    "FINAL_LEN = 1024\n",
    "BLOCK_SIZE = 128\n",
    "DATA_LEN = 4096\n",
    "\n",
    "NOISE = 60\n",
    "\n",
    "TRAIN_LEN = NOISE * nnTrain\n",
    "TOTAL_LEN = TRAIN_LEN + len(data) - nnTrain\n",
    "\n",
    "repeats = math.ceil(FINAL_LEN / (DATA_LEN / BLOCK_SIZE))"
   ]
  },
  {
   "cell_type": "code",
   "execution_count": 34,
   "id": "a8b35ebc-b5ac-4a60-8644-7979f2bda060",
   "metadata": {},
   "outputs": [],
   "source": [
    "del rValues[DATA_LEN:]"
   ]
  },
  {
   "cell_type": "code",
   "execution_count": 29,
   "id": "0489bccd-5b56-4944-94fe-d43969d93268",
   "metadata": {},
   "outputs": [],
   "source": [
    "processAll(repeats, rValues, DATA_LEN, BLOCK_SIZE, NOISE, train, test)"
   ]
  },
  {
   "cell_type": "code",
   "execution_count": 35,
   "id": "b3d0ed5c-8fdc-49a1-8b3a-50d582bd22e5",
   "metadata": {},
   "outputs": [],
   "source": [
    "if BLOCK_SIZE == 1:\n",
    "    fullTrain = []\n",
    "    fullTest = []\n",
    "\n",
    "    for i in range(len(train)):\n",
    "        rowData = []\n",
    "\n",
    "        for j in range(len(rValues)):\n",
    "            rowData.append(train[i][rValues[j][0] + 1])\n",
    "\n",
    "        rowData.insert(0, float(train[i][0]))\n",
    "        fullTrain.append(rowData)\n",
    "        \n",
    "    \n",
    "    for x in range(NOISE - 1):\n",
    "        for i in range(len(train)):\n",
    "            rowData = []\n",
    "\n",
    "            for j in range(len(rValues)):\n",
    "                a = np.random.normal(loc=0, scale=0.03)\n",
    "                rowData.append(train[i][rValues[j][0] + 1] + a)\n",
    "\n",
    "            rowData.insert(0, float(train[i][0]))\n",
    "            fullTrain.append(rowData)\n",
    "\n",
    "\n",
    "    for i in range(len(test)):\n",
    "        rowData = []\n",
    "\n",
    "        for j in range(len(rValues)):\n",
    "            rowData.append(test[i][rValues[j][0] + 1])\n",
    "\n",
    "        rowData.insert(0, float(test[i][0]))\n",
    "        fullTest.append(rowData)\n",
    "    \n",
    "    with open('datasets/train_anm.csv', 'w') as f:\n",
    "        writer = csv.writer(f, quotechar='\"', quoting=csv.QUOTE_MINIMAL)\n",
    "        writer.writerows(fullTrain)\n",
    "    \n",
    "    with open('datasets/test_anm.csv', 'w') as f:\n",
    "        writer = csv.writer(f, quotechar='\"', quoting=csv.QUOTE_MINIMAL)\n",
    "        writer.writerows(fullTest)\n",
    "    \n",
    "    exit(0)"
   ]
  },
  {
   "cell_type": "code",
   "execution_count": 36,
   "id": "c7f77a1f-5b37-4f0f-81f6-0c8fae2db6c1",
   "metadata": {},
   "outputs": [
    {
     "name": "stdout",
     "output_type": "stream",
     "text": [
      "10678\n"
     ]
    }
   ],
   "source": [
    "print(len(rowData))"
   ]
  },
  {
   "cell_type": "code",
   "execution_count": 37,
   "id": "24b517cc-1471-480f-8208-3c19d9ef3d5d",
   "metadata": {},
   "outputs": [
    {
     "data": {
      "application/vnd.jupyter.widget-view+json": {
       "model_id": "ecd923b98dc9429690dba94a15230fdb",
       "version_major": 2,
       "version_minor": 0
      },
      "text/plain": [
       "  0%|          | 0/1024 [00:00<?, ?it/s]"
      ]
     },
     "metadata": {},
     "output_type": "display_data"
    }
   ],
   "source": [
    "from sklearn.discriminant_analysis import LinearDiscriminantAnalysis\n",
    "\n",
    "headers = ['labels'] + list(range(BLOCK_SIZE))\n",
    "\n",
    "train = pd.read_csv('datasets/train_full/0.csv', names=headers)\n",
    "test = pd.read_csv('datasets/test_full/0.csv', names=headers)\n",
    "\n",
    "y_train = train[\"labels\"]\n",
    "y_test = test[\"labels\"]\n",
    "\n",
    "LDAtrain = [list(y_train)]\n",
    "LDAtest = [list(y_test)]\n",
    "\n",
    "if NOISE > 1:\n",
    "    noise = pd.read_csv('datasets/noise_full/0.csv', names=headers)\n",
    "    y_noise = noise[\"labels\"]\n",
    "    LDAnoise = [list(y_noise)]\n",
    "\n",
    "for i in tqdm.notebook.tqdm(range(FINAL_LEN)):\n",
    "    train = pd.read_csv(f'datasets/train_full/{i}.csv', names=headers)\n",
    "    test = pd.read_csv(f'datasets/test_full/{i}.csv', names=headers)\n",
    "    \n",
    "    if NOISE > 1:\n",
    "        noise = pd.read_csv(f'datasets/noise_full/{i}.csv', names=headers)\n",
    "        \n",
    "        X_noise = noise.drop([\"labels\"], axis=1)\n",
    "        y_noise = noise[\"labels\"]\n",
    "    \n",
    "    X_train = train.drop([\"labels\"], axis=1)\n",
    "    y_train = train[\"labels\"]\n",
    "    \n",
    "    X_test = test.drop([\"labels\"], axis=1)\n",
    "    y_test = test[\"labels\"]\n",
    "    \n",
    "    model = LinearDiscriminantAnalysis(n_components=1)\n",
    "    \n",
    "    X_train_lda = model.fit_transform(X_train, y_train)\n",
    "    X_test_lda = model.transform(X_test)\n",
    "    \n",
    "    LDAtrain.append(X_train_lda)\n",
    "    LDAtest.append(X_test_lda)\n",
    "    \n",
    "    if NOISE > 1:\n",
    "        X_noise_lda = model.transform(X_noise)\n",
    "        LDAnoise.append(X_noise_lda)"
   ]
  },
  {
   "cell_type": "code",
   "execution_count": 38,
   "id": "4f615f6a-d7e7-4eb9-8cfa-8454e15a208d",
   "metadata": {},
   "outputs": [
    {
     "name": "stdout",
     "output_type": "stream",
     "text": [
      "1025 761\n"
     ]
    }
   ],
   "source": [
    "print(len(LDAtrain), len(y_train))"
   ]
  },
  {
   "cell_type": "code",
   "execution_count": 39,
   "id": "ee347200-dc30-4131-905b-7365fbe61b36",
   "metadata": {},
   "outputs": [],
   "source": [
    "train = []\n",
    "test = []\n",
    "noise = []"
   ]
  },
  {
   "cell_type": "code",
   "execution_count": 40,
   "id": "d77a1ab4-9b5c-4a58-aa25-9ed60e560c12",
   "metadata": {},
   "outputs": [],
   "source": [
    "for i in range(len(LDAtrain[0])):\n",
    "    rowData = []\n",
    "\n",
    "    for row in LDAtrain:\n",
    "        rowData.append(float(row[i]))\n",
    "        \n",
    "    train.append(rowData)"
   ]
  },
  {
   "cell_type": "code",
   "execution_count": 41,
   "id": "2e3dc887-ace7-42da-8506-3ccd377967c0",
   "metadata": {},
   "outputs": [],
   "source": [
    "for i in range(len(LDAtest[0])):\n",
    "    rowData = []\n",
    "\n",
    "    for row in LDAtest:\n",
    "        rowData.append(float(row[i]))\n",
    "        \n",
    "    test.append(rowData)"
   ]
  },
  {
   "cell_type": "code",
   "execution_count": 42,
   "id": "a70df28d-f440-48a0-a8c1-6b102930483f",
   "metadata": {},
   "outputs": [],
   "source": [
    "if NOISE > 1:\n",
    "    for i in range(len(LDAnoise[0])):\n",
    "        rowData = []\n",
    "\n",
    "        for row in LDAnoise:\n",
    "            rowData.append(float(row[i]))\n",
    "\n",
    "        noise.append(rowData)"
   ]
  },
  {
   "cell_type": "code",
   "execution_count": 43,
   "id": "7106d9a1-3e2e-44eb-a1fd-2794679e78af",
   "metadata": {},
   "outputs": [],
   "source": [
    "rValues = getRValues(train, test, ctl, ad)\n",
    "\n",
    "del rValues[FINAL_LEN:]\n",
    "\n",
    "sortedTrain = []\n",
    "sortedTest = []\n",
    "sortedNoise = []\n",
    "\n",
    "for i in range(len(train)):\n",
    "    rowData = []\n",
    "\n",
    "    for j in range(len(rValues)):\n",
    "        rowData.append(train[i][rValues[j][0] + 1])\n",
    "\n",
    "    rowData.insert(0, float(train[i][0]))\n",
    "    sortedTrain.append(rowData)\n",
    "\n",
    "\n",
    "for i in range(len(test)):\n",
    "    rowData = []\n",
    "\n",
    "    for j in range(len(rValues)):\n",
    "        rowData.append(test[i][rValues[j][0] + 1])\n",
    "\n",
    "    rowData.insert(0, flip(float(test[i][0])))\n",
    "    sortedTest.append(rowData)\n",
    "\n",
    "if NOISE > 1:\n",
    "    for i in range(len(noise)):\n",
    "        rowData = []\n",
    "\n",
    "        for j in range(len(rValues)):\n",
    "            rowData.append(noise[i][rValues[j][0] + 1])\n",
    "\n",
    "        rowData.insert(0, float(noise[i][0]))\n",
    "        sortedNoise.append(rowData)"
   ]
  },
  {
   "cell_type": "code",
   "execution_count": 44,
   "id": "eb69d998-678c-4a60-aa48-453a025bfeef",
   "metadata": {},
   "outputs": [],
   "source": [
    "if NOISE > 1:\n",
    "    data = sortedTrain + sortedNoise + sortedTest\n",
    "    \n",
    "else:\n",
    "    data = sortedTrain + sortedTest\n",
    "\n",
    "data = normalize(data)\n",
    "\n",
    "sortedTrain = data[:TRAIN_LEN]\n",
    "sortedTest = data[TRAIN_LEN:]"
   ]
  },
  {
   "cell_type": "code",
   "execution_count": 45,
   "id": "b590fd57-39c7-4ca5-916d-6e955b119145",
   "metadata": {},
   "outputs": [],
   "source": [
    "# for i in range(len(sortedTest[0])):\n",
    "#     flipCol(sortedTest, i)"
   ]
  },
  {
   "cell_type": "code",
   "execution_count": 46,
   "id": "9819d667-3b1b-44cc-92e8-6c1878d96f7a",
   "metadata": {},
   "outputs": [],
   "source": [
    "# train2 = sortedTrain.copy()\n",
    "\n",
    "# for i in range(len(train2[0])):\n",
    "#     flipCol(train2, i)\n",
    "    \n",
    "# sortedTrain = sortedTrain + train2"
   ]
  },
  {
   "cell_type": "code",
   "execution_count": 47,
   "id": "e0de2c89-7ca6-4a34-9cfb-86d4158fd8af",
   "metadata": {},
   "outputs": [
    {
     "name": "stdout",
     "output_type": "stream",
     "text": [
      "190\n",
      "45660\n",
      "1025\n",
      "1025\n"
     ]
    }
   ],
   "source": [
    "print(len(sortedTest))\n",
    "print(len(sortedTrain))\n",
    "\n",
    "print(len(sortedTrain[0]))\n",
    "print(len(sortedTest[0]))"
   ]
  },
  {
   "cell_type": "code",
   "execution_count": 48,
   "id": "b91f672e-942b-4b88-9cbb-c26966bec3cb",
   "metadata": {},
   "outputs": [],
   "source": [
    "with open('datasets/train.csv', 'w') as f:\n",
    "    writer = csv.writer(f, quotechar='\"', quoting=csv.QUOTE_MINIMAL)\n",
    "    writer.writerows(sortedTrain)\n",
    "    \n",
    "with open('datasets/test.csv', 'w') as f:\n",
    "    writer = csv.writer(f, quotechar='\"', quoting=csv.QUOTE_MINIMAL)\n",
    "    writer.writerows(sortedTest)"
   ]
  },
  {
   "cell_type": "code",
   "execution_count": null,
   "id": "091d6eed-049b-4772-9279-b18bb0746cd3",
   "metadata": {},
   "outputs": [],
   "source": []
  },
  {
   "cell_type": "code",
   "execution_count": null,
   "id": "5c645617-780b-4107-ae18-354dc3712efe",
   "metadata": {},
   "outputs": [],
   "source": []
  },
  {
   "cell_type": "code",
   "execution_count": null,
   "id": "f3720698-acfd-4a95-8b01-2875355ebd98",
   "metadata": {},
   "outputs": [],
   "source": []
  }
 ],
 "metadata": {
  "kernelspec": {
   "display_name": "Python 3 (ipykernel)",
   "language": "python",
   "name": "python3"
  },
  "language_info": {
   "codemirror_mode": {
    "name": "ipython",
    "version": 3
   },
   "file_extension": ".py",
   "mimetype": "text/x-python",
   "name": "python",
   "nbconvert_exporter": "python",
   "pygments_lexer": "ipython3",
   "version": "3.9.5"
  }
 },
 "nbformat": 4,
 "nbformat_minor": 5
}
