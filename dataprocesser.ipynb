{
 "cells": [
  {
   "cell_type": "code",
   "execution_count": 1,
   "id": "4980ddd7-464f-448e-a2d3-67e7abca5988",
   "metadata": {},
   "outputs": [
    {
     "name": "stderr",
     "output_type": "stream",
     "text": [
      "c:\\programdata\\miniconda3\\lib\\site-packages\\tqdm\\auto.py:22: TqdmWarning: IProgress not found. Please update jupyter and ipywidgets. See https://ipywidgets.readthedocs.io/en/stable/user_install.html\n",
      "  from .autonotebook import tqdm as notebook_tqdm\n"
     ]
    }
   ],
   "source": [
    "import csv\n",
    "import numpy as np\n",
    "import pandas as pd\n",
    "from PIL import Image\n",
    "import PIL\n",
    "import os, sys\n",
    "import torch\n",
    "\n",
    "from helper import *"
   ]
  },
  {
   "cell_type": "code",
   "execution_count": 2,
   "id": "fb3e6564-5fbe-4930-bec7-8e86199c25f3",
   "metadata": {},
   "outputs": [],
   "source": [
    "# with open('datasets/GSE140829_raw.csv', newline='') as dataset3:\n",
    "#     genes = {'ID_REF': 'ID_REF'}\n",
    "    \n",
    "#     reader3 = csv.DictReader(dataset3, delimiter=\"\\t\")\n",
    "    \n",
    "#     for row in reader3:\n",
    "#         if row['ILMN_GENE'] not in genes :\n",
    "#             genes[row['ILMN_GENE']] = row['PROBE_ID']"
   ]
  },
  {
   "cell_type": "code",
   "execution_count": 3,
   "id": "7426fb50-547a-483a-97e0-edc0257420a5",
   "metadata": {},
   "outputs": [],
   "source": [
    "# data = []\n",
    "\n",
    "# with open('datasets/GSE140829.csv', newline='') as dataset3:\n",
    "#     reader = csv.reader(dataset3, delimiter=\"\\t\")\n",
    "    \n",
    "#     for row in reader:\n",
    "#         try:\n",
    "#             row[0] = genes[row[0]]\n",
    "#             data.append(row)\n",
    "#         except KeyError:\n",
    "#             print(f\"gene {row[0]} does not exist!\")"
   ]
  },
  {
   "cell_type": "code",
   "execution_count": 4,
   "id": "1a14cdb0-6858-4e68-8f3c-3c860727f05a",
   "metadata": {},
   "outputs": [],
   "source": [
    "# with open('datasets/GSE140829.csv', 'w', newline='\\n') as f:\n",
    "#     writer = csv.writer(f, delimiter=\"\\t\", quotechar='\"', quoting=csv.QUOTE_MINIMAL)\n",
    "#     writer.writerows(data)"
   ]
  },
  {
   "cell_type": "code",
   "execution_count": 5,
   "id": "59c472fc-15cd-4ea4-8059-8551caf7d9b0",
   "metadata": {},
   "outputs": [],
   "source": [
    "commonGenes = []\n",
    "set2 = []\n",
    "set3 = []\n",
    "\n",
    "dataset1 = open('datasets/GSE63060.csv', newline='')\n",
    "dataset2 = open('datasets/GSE63061.csv', newline='')\n",
    "dataset3 = open('datasets/GSE140829.csv', newline='')\n",
    "\n",
    "reader1 = csv.reader(dataset1, delimiter=\"\\t\")\n",
    "reader2 = csv.reader(dataset2, delimiter=\"\\t\")\n",
    "reader3 = csv.reader(dataset3, delimiter=\"\\t\")\n",
    "\n",
    "for row in reader2:\n",
    "    set2.append(row[0])\n",
    "    \n",
    "for row in reader3:\n",
    "    set3.append(row[0])\n",
    "\n",
    "for row in reader1:\n",
    "    if row[0] in set2 and row[0] in set3:\n",
    "        commonGenes.append(row[0])\n",
    "\n",
    "dataset1.close()\n",
    "dataset2.close()\n",
    "dataset2.close()"
   ]
  },
  {
   "cell_type": "code",
   "execution_count": 6,
   "id": "c99dc166-c5ff-4d66-8dbe-b142786a6e87",
   "metadata": {},
   "outputs": [
    {
     "name": "stdout",
     "output_type": "stream",
     "text": [
      "10678\n"
     ]
    }
   ],
   "source": [
    "print(len(commonGenes))"
   ]
  },
  {
   "cell_type": "code",
   "execution_count": 7,
   "id": "569058da-0a3e-4af6-842d-d6017e55e82f",
   "metadata": {},
   "outputs": [],
   "source": [
    "set1 = []\n",
    "set2 = []\n",
    "set3 = []\n",
    "\n",
    "dataset1 = open('datasets/GSE63060.csv', newline='')\n",
    "dataset2 = open('datasets/GSE63061.csv', newline='')\n",
    "dataset3 = open('datasets/GSE140829.csv', newline='')\n",
    "\n",
    "reader1 = csv.reader(dataset1, delimiter=\"\\t\")\n",
    "reader2 = csv.reader(dataset2, delimiter=\"\\t\")\n",
    "reader3 = csv.reader(dataset3, delimiter=\"\\t\")\n",
    "\n",
    "for row in reader1:\n",
    "    if row[0] in commonGenes and row not in set1:\n",
    "        set1.append(row)\n",
    "        \n",
    "for row in reader2:\n",
    "    if row[0] in commonGenes and row not in set2:\n",
    "        set2.append(row)\n",
    "        \n",
    "for row in reader3:\n",
    "    if row[0] in commonGenes and row not in set3:\n",
    "        set3.append(row)\n",
    "    \n",
    "set1.sort(key=lambda x: x[0])\n",
    "set2.sort(key=lambda x: x[0])\n",
    "set3.sort(key=lambda x: x[0])\n",
    "\n",
    "data1 = []\n",
    "data2 = []\n",
    "data3 = []\n",
    "    \n",
    "for i in range(len(set1[0])):\n",
    "    rowData = []\n",
    "\n",
    "    for row in set1:\n",
    "        rowData.append(row[i])\n",
    "\n",
    "    data1.append(rowData)\n",
    "    \n",
    "for i in range(len(set2[0])):\n",
    "    rowData = []\n",
    "\n",
    "    for row in set2:\n",
    "        rowData.append(row[i])\n",
    "\n",
    "    data2.append(rowData)\n",
    "    \n",
    "for i in range(len(set3[0])):\n",
    "    rowData = []\n",
    "\n",
    "    for row in set3:\n",
    "        rowData.append(row[i])\n",
    "\n",
    "    data3.append(rowData)\n",
    "\n",
    "dataset1.close()\n",
    "dataset2.close()\n",
    "dataset3.close()"
   ]
  },
  {
   "cell_type": "code",
   "execution_count": 8,
   "id": "9fe27781-3539-4517-95af-73dd4caf73f0",
   "metadata": {},
   "outputs": [
    {
     "name": "stdout",
     "output_type": "stream",
     "text": [
      "10678\n"
     ]
    }
   ],
   "source": [
    "print(len(data3[0]))"
   ]
  },
  {
   "cell_type": "code",
   "execution_count": 12,
   "id": "c3765ab6-b1e8-4eeb-a3ff-1c621a0a0a0a",
   "metadata": {},
   "outputs": [],
   "source": [
    "conditions = {}\n",
    "\n",
    "dataset1 = open('datasets/GSE63060info.csv', newline='')\n",
    "dataset2 = open('datasets/GSE63061info.csv', newline='')\n",
    "dataset3 = open('datasets/GSE140829info.csv', newline='')\n",
    "\n",
    "reader1 = csv.DictReader(dataset1, delimiter=\"\\t\")\n",
    "reader2 = csv.DictReader(dataset2, delimiter=\"\\t\")\n",
    "reader3 = csv.DictReader(dataset3, delimiter=\"\\t\")\n",
    "\n",
    "conData = []\n",
    "\n",
    "for row in reader1:\n",
    "    conData.append(row)\n",
    "        \n",
    "for row in reader2:\n",
    "    conData.append(row)\n",
    "    \n",
    "for row in reader3:\n",
    "    conData.append(row)\n",
    "    \n",
    "conditions = merge(conData[0], conData[1])\n",
    "conditions = merge(conditions, conData[2])\n",
    "\n",
    "dataset1.close()\n",
    "dataset2.close()\n",
    "dataset3.close()"
   ]
  },
  {
   "cell_type": "code",
   "execution_count": 13,
   "id": "fdda4989-e464-4a8a-8958-554d1db4b9de",
   "metadata": {},
   "outputs": [],
   "source": [
    "# print(conditions)"
   ]
  },
  {
   "cell_type": "code",
   "execution_count": 14,
   "id": "ce0f14fc-4c15-4560-bfb9-b7b9d60a29a6",
   "metadata": {},
   "outputs": [],
   "source": [
    "for i in range(len(data1[0])):\n",
    "    if data1[0][i] != data2[0][i]:\n",
    "        print(data1[0][i])\n",
    "        print(i)\n",
    "        break"
   ]
  },
  {
   "cell_type": "code",
   "execution_count": 15,
   "id": "f3ef601d-8667-48c3-a622-e9f8b41af4d0",
   "metadata": {},
   "outputs": [],
   "source": [
    "if data1[0][0] == \"ID_REF\":\n",
    "    del data1[0]\n",
    "\n",
    "if data2[0][0] == \"ID_REF\":\n",
    "    del data2[0]\n",
    "\n",
    "if data3[0][0] == \"ID_REF\":\n",
    "    del data3[0]"
   ]
  },
  {
   "cell_type": "code",
   "execution_count": 16,
   "id": "fe4dbf29-7dad-4e6d-b276-b7172dcb71ca",
   "metadata": {},
   "outputs": [
    {
     "name": "stdout",
     "output_type": "stream",
     "text": [
      "4856076038_D\n",
      "208\n"
     ]
    }
   ],
   "source": [
    "for i in range(len(data1)):\n",
    "    try:\n",
    "        if data1[i][0] not in conditions.keys():\n",
    "            print(data1[i][0])\n",
    "            print(i)\n",
    "            \n",
    "            del data1[i]\n",
    "    except:\n",
    "        pass"
   ]
  },
  {
   "cell_type": "code",
   "execution_count": 17,
   "id": "38188116-762f-4326-a444-dbb038c93d86",
   "metadata": {},
   "outputs": [],
   "source": [
    "# data.pop(0)"
   ]
  },
  {
   "cell_type": "code",
   "execution_count": 18,
   "id": "25009261-fb77-48c3-b49d-c4ae98060ad9",
   "metadata": {},
   "outputs": [],
   "source": [
    "import random\n",
    "\n",
    "random.shuffle(data1)\n",
    "random.shuffle(data2)\n",
    "random.shuffle(data3)"
   ]
  },
  {
   "cell_type": "code",
   "execution_count": 19,
   "id": "86daa62b-899b-4da2-96f8-833d66194a35",
   "metadata": {},
   "outputs": [],
   "source": [
    "i = 0\n",
    "\n",
    "while i < len(data1):\n",
    "    if conditions[data1[i][0]] == \"MCI\":\n",
    "        data1.pop(i)\n",
    "    \n",
    "    else:\n",
    "        i += 1"
   ]
  },
  {
   "cell_type": "code",
   "execution_count": 20,
   "id": "40ffe56a-535d-439e-914f-e9d86edbd710",
   "metadata": {},
   "outputs": [],
   "source": [
    "i = 0\n",
    "\n",
    "while i < len(data2):\n",
    "    if conditions[data2[i][0]] == \"MCI\":\n",
    "        data2.pop(i)\n",
    "    \n",
    "    else:\n",
    "        i += 1"
   ]
  },
  {
   "cell_type": "code",
   "execution_count": 21,
   "id": "b79fb2a0-d495-4a38-a4f8-f198bc34af4c",
   "metadata": {},
   "outputs": [],
   "source": [
    "i = 0\n",
    "\n",
    "while i < len(data3):\n",
    "    if conditions[data3[i][0]] == \"MCI\":\n",
    "        data3.pop(i)\n",
    "    \n",
    "    else:\n",
    "        i += 1"
   ]
  },
  {
   "cell_type": "code",
   "execution_count": 22,
   "id": "6910445d-17b0-4070-98b0-2ceb44760c39",
   "metadata": {},
   "outputs": [],
   "source": [
    "def toFloat(data):\n",
    "    for i in range(len(data)):\n",
    "        for j in range(1, len(data[0])):\n",
    "            data[i][j] = float(data[i][j])\n",
    "            \n",
    "    return data"
   ]
  },
  {
   "cell_type": "code",
   "execution_count": 23,
   "id": "334437e4-18d9-4524-94bf-0db60949c640",
   "metadata": {},
   "outputs": [],
   "source": [
    "def getMean(data):\n",
    "    mean = []\n",
    "    \n",
    "    for j in range(len(data[0]) - 1):\n",
    "        total = 0.0\n",
    "        \n",
    "        for i in range(len(data)):\n",
    "            total += data[i][j + 1]\n",
    "            \n",
    "        mean.append(total / len(data))\n",
    "        \n",
    "    return mean"
   ]
  },
  {
   "cell_type": "code",
   "execution_count": 24,
   "id": "d1fc66d3-cd6d-40d1-993c-ad7436c0ed22",
   "metadata": {},
   "outputs": [],
   "source": [
    "def getVariance(data):\n",
    "    variance = []\n",
    "    \n",
    "    for j in range(len(data[0]) - 1):\n",
    "        total = 0.0\n",
    "        \n",
    "        for i in range(len(data)):\n",
    "            total += abs(data[i][j + 1])\n",
    "            \n",
    "        variance.append(total / len(data))\n",
    "        \n",
    "    return variance"
   ]
  },
  {
   "cell_type": "code",
   "execution_count": 25,
   "id": "9e0b28e5-82df-4a73-a6de-f2e7af1e2b1f",
   "metadata": {},
   "outputs": [],
   "source": [
    "def getRowMean(data):\n",
    "    mean = []\n",
    "    \n",
    "    for i in range(len(data)):\n",
    "        total = 0.0\n",
    "        \n",
    "        for j in range(1, len(data[i])):\n",
    "            total += data[i][j]\n",
    "            \n",
    "        mean.append(total / (len(data[i]) - 1))\n",
    "        \n",
    "    return mean"
   ]
  },
  {
   "cell_type": "code",
   "execution_count": 26,
   "id": "e7b0c0d4-bbbb-4c81-ba27-81c377606e78",
   "metadata": {},
   "outputs": [],
   "source": [
    "def getRowVariance(data):\n",
    "    mean = []\n",
    "    \n",
    "    for i in range(len(data)):\n",
    "        total = 0.0\n",
    "        \n",
    "        for j in range(1, len(data[i])):\n",
    "            total += abs(data[i][j])\n",
    "            \n",
    "        mean.append(total / (len(data[i]) - 1))\n",
    "        \n",
    "    return mean"
   ]
  },
  {
   "cell_type": "code",
   "execution_count": 27,
   "id": "48c5786b-ea6a-4a59-a5d6-78482f23bf65",
   "metadata": {},
   "outputs": [],
   "source": [
    "def normalize(data):\n",
    "    mean = getMean(data)\n",
    "    \n",
    "    for j in range(len(data[0]) - 1):\n",
    "        for i in range(len(data)):\n",
    "            data[i][j + 1] -= mean[j]\n",
    "            \n",
    "    variance = getVariance(data)\n",
    "    \n",
    "    for j in range(len(data[0]) - 1):\n",
    "        for i in range(len(data)):\n",
    "            data[i][j + 1] /= variance[j]\n",
    "            data[i][j + 1] /= 4\n",
    "            data[i][j + 1] += 1\n",
    "\n",
    "    return data"
   ]
  },
  {
   "cell_type": "code",
   "execution_count": 28,
   "id": "60c56b56-cf22-4156-b3c6-85ce44f86e43",
   "metadata": {},
   "outputs": [],
   "source": [
    "def normalizeRow(data):\n",
    "    mean = getMean(data)\n",
    "    \n",
    "    for i in range(len(data)):\n",
    "        for j in range(len(data[0]) - 1):\n",
    "            data[i][j + 1] -= mean[j]\n",
    "            \n",
    "    variance = getVariance(data)\n",
    "    \n",
    "    for i in range(len(data)):\n",
    "        for j in range(len(data[0]) - 1):\n",
    "            data[i][j + 1] /= variance[j]\n",
    "            data[i][j + 1] /= 4\n",
    "            data[i][j + 1] += 1\n",
    "\n",
    "    return data"
   ]
  },
  {
   "cell_type": "code",
   "execution_count": 29,
   "id": "36ad78db-f1ba-4718-9f60-c233045d4167",
   "metadata": {},
   "outputs": [],
   "source": [
    "data1 = toFloat(data1)\n",
    "data2 = toFloat(data2)\n",
    "data3 = toFloat(data3)"
   ]
  },
  {
   "cell_type": "code",
   "execution_count": 30,
   "id": "407233bd-e0f2-49d8-8f7e-9ec9453a62d8",
   "metadata": {},
   "outputs": [],
   "source": [
    "data = data1 + data2 + data3\n",
    "data = normalize(data)\n",
    "data = normalizeRow(data)\n",
    "data = normalize(data)\n",
    "random.shuffle(data)"
   ]
  },
  {
   "cell_type": "code",
   "execution_count": 31,
   "id": "63615f54-9e97-4f27-a3b5-aafb9f7fed66",
   "metadata": {},
   "outputs": [
    {
     "data": {
      "text/plain": [
       "<matplotlib.image.AxesImage at 0x2e48abd7910>"
      ]
     },
     "execution_count": 31,
     "metadata": {},
     "output_type": "execute_result"
    },
    {
     "data": {
      "image/png": "[encoded data removed]",
      "text/plain": [
       "<Figure size 640x480 with 1 Axes>"
      ]
     },
     "metadata": {},
     "output_type": "display_data"
    }
   ],
   "source": [
    "import matplotlib.pyplot as plt\n",
    "\n",
    "plt.imshow(torch.Tensor(data1[1][1:10001]).view(100, 100))"
   ]
  },
  {
   "cell_type": "code",
   "execution_count": 32,
   "id": "54a34c1e-5573-475a-8046-ef5cddec2b42",
   "metadata": {},
   "outputs": [],
   "source": [
    "for item in data:\n",
    "    try:\n",
    "        item[0] = getCondition(conditions[item[0]])\n",
    "    except:\n",
    "        pass"
   ]
  },
  {
   "cell_type": "code",
   "execution_count": 33,
   "id": "053d515c-d7be-46a8-b037-195dfb1981c3",
   "metadata": {},
   "outputs": [],
   "source": [
    "ad = 0\n",
    "ctl = 0\n",
    "\n",
    "for i in range(len(data)):\n",
    "    if data[i][0] == 1:\n",
    "        ad += 1\n",
    "    else:\n",
    "        ctl += 1"
   ]
  },
  {
   "cell_type": "code",
   "execution_count": 34,
   "id": "471a4b27-2b97-4d8f-921e-729df403cd78",
   "metadata": {},
   "outputs": [
    {
     "name": "stdout",
     "output_type": "stream",
     "text": [
      "483\n",
      "468\n"
     ]
    }
   ],
   "source": [
    "print(ad)\n",
    "print(ctl)"
   ]
  },
  {
   "cell_type": "code",
   "execution_count": 35,
   "id": "f9f56a94-6687-405f-96bd-6c8ecfac6c2c",
   "metadata": {},
   "outputs": [],
   "source": [
    "train = data[:761]\n",
    "test = data[761:]"
   ]
  },
  {
   "cell_type": "code",
   "execution_count": 36,
   "id": "3eacc7b9-69d4-4bcc-b788-5d435b9d423d",
   "metadata": {},
   "outputs": [],
   "source": [
    "rValues = getRValues(train, conditions, ctl, ad, test)"
   ]
  },
  {
   "cell_type": "code",
   "execution_count": 37,
   "id": "94e004b1-96fa-4a2f-9160-d26affde116a",
   "metadata": {},
   "outputs": [],
   "source": [
    "FINAL_LEN = 1024\n",
    "BLOCK_SIZE = 128\n",
    "STEP_SIZE = 6"
   ]
  },
  {
   "cell_type": "code",
   "execution_count": 38,
   "id": "0f3584ec-356d-42e7-9c29-dc3dcfa3e528",
   "metadata": {},
   "outputs": [
    {
     "name": "stdout",
     "output_type": "stream",
     "text": [
      "6144\n"
     ]
    }
   ],
   "source": [
    "rLen = FINAL_LEN * STEP_SIZE\n",
    "\n",
    "del rValues[rLen:]\n",
    "random.shuffle(rValues)\n",
    "print(len(rValues))"
   ]
  },
  {
   "cell_type": "code",
   "execution_count": 39,
   "id": "1acf7aa4-a51c-402d-9198-055408fafab8",
   "metadata": {},
   "outputs": [],
   "source": [
    "sortedTrain = []\n",
    "\n",
    "for i in range(len(train)):\n",
    "    rowData = []\n",
    "    \n",
    "    for j in range(len(rValues)):\n",
    "        rowData.append(train[i][rValues[j][0] + 1])\n",
    "        \n",
    "    rowData.extend(rowData)\n",
    "    rowData.insert(0, float(train[i][0]))\n",
    "    \n",
    "    sortedTrain.append(rowData)\n",
    "    \n",
    "sortedTest = []\n",
    "\n",
    "for i in range(len(test)):\n",
    "    rowData = []\n",
    "    \n",
    "    for j in range(len(rValues)):\n",
    "        rowData.append(test[i][rValues[j][0] + 1])\n",
    "        \n",
    "    rowData.extend(rowData)\n",
    "    rowData.insert(0, float(test[i][0]))\n",
    "    \n",
    "    sortedTest.append(rowData)"
   ]
  },
  {
   "cell_type": "code",
   "execution_count": 40,
   "id": "c7f77a1f-5b37-4f0f-81f6-0c8fae2db6c1",
   "metadata": {},
   "outputs": [
    {
     "name": "stdout",
     "output_type": "stream",
     "text": [
      "12289\n",
      "190\n",
      "761\n"
     ]
    }
   ],
   "source": [
    "print(len(rowData))\n",
    "print(len(sortedTest))\n",
    "print(len(sortedTrain))"
   ]
  },
  {
   "cell_type": "code",
   "execution_count": 41,
   "id": "f706b396-10bc-4667-8698-dd21abd109fd",
   "metadata": {},
   "outputs": [],
   "source": [
    "sortedTest = toFloat(sortedTest)\n",
    "sortedTrain = toFloat(sortedTrain)"
   ]
  },
  {
   "cell_type": "code",
   "execution_count": 42,
   "id": "506a4b3d-df59-4eaf-a4fe-95a9463cde10",
   "metadata": {},
   "outputs": [],
   "source": [
    "with open('datasets/train_full.csv', 'w') as f:\n",
    "    writer = csv.writer(f, quotechar='\"', quoting=csv.QUOTE_MINIMAL)\n",
    "    writer.writerows(sortedTrain)\n",
    "    \n",
    "with open('datasets/test_full.csv', 'w') as f:\n",
    "    writer = csv.writer(f, quotechar='\"', quoting=csv.QUOTE_MINIMAL)\n",
    "    writer.writerows(sortedTest)"
   ]
  },
  {
   "cell_type": "code",
   "execution_count": 43,
   "id": "a8977b56-6258-452c-8a55-c9e8d9ec26ce",
   "metadata": {},
   "outputs": [],
   "source": [
    "headers = ['labels'] + list(range(len(rValues) * 2))\n",
    "\n",
    "train = pd.read_csv('datasets/train_full.csv', names=headers)\n",
    "test = pd.read_csv('datasets/test_full.csv', names=headers)"
   ]
  },
  {
   "cell_type": "code",
   "execution_count": 44,
   "id": "6009508b-037a-4872-960c-0912b86b875d",
   "metadata": {},
   "outputs": [],
   "source": [
    "X_train = train.drop([\"labels\"], axis=1)\n",
    "y_train = train[\"labels\"]\n",
    "\n",
    "X_test = test.drop([\"labels\"], axis=1)\n",
    "y_test = test[\"labels\"]"
   ]
  },
  {
   "cell_type": "code",
   "execution_count": 45,
   "id": "24b517cc-1471-480f-8208-3c19d9ef3d5d",
   "metadata": {},
   "outputs": [],
   "source": [
    "from sklearn.discriminant_analysis import LinearDiscriminantAnalysis as LDA\n",
    "\n",
    "LDAtrain = [list(y_train)]\n",
    "LDAtest = [list(y_test)]\n",
    "\n",
    "for i in range(FINAL_LEN):\n",
    "    X_Train_Sub = X_train[list(range(STEP_SIZE * i, STEP_SIZE * i + BLOCK_SIZE))]\n",
    "    X_Test_Sub = X_test[list(range(STEP_SIZE * i, STEP_SIZE * i + BLOCK_SIZE))]\n",
    "    \n",
    "    lda_model = LDA(n_components = 1)\n",
    "    \n",
    "    X_train_lda = lda_model.fit_transform(X_Train_Sub, y_train)\n",
    "    X_test_lda = lda_model.transform(X_Test_Sub)\n",
    "    \n",
    "    LDAtrain.append(X_train_lda)\n",
    "    LDAtest.append(X_test_lda)"
   ]
  },
  {
   "cell_type": "code",
   "execution_count": 46,
   "id": "4f615f6a-d7e7-4eb9-8cfa-8454e15a208d",
   "metadata": {},
   "outputs": [
    {
     "name": "stdout",
     "output_type": "stream",
     "text": [
      "1025 761\n"
     ]
    }
   ],
   "source": [
    "print(len(LDAtrain), len(y_train))"
   ]
  },
  {
   "cell_type": "code",
   "execution_count": 47,
   "id": "ffd29060-0ac5-4e87-8b3f-786cd4144934",
   "metadata": {},
   "outputs": [],
   "source": [
    "train = []\n",
    "test = []"
   ]
  },
  {
   "cell_type": "code",
   "execution_count": 48,
   "id": "d77a1ab4-9b5c-4a58-aa25-9ed60e560c12",
   "metadata": {},
   "outputs": [],
   "source": [
    "for i in range(len(LDAtrain[0])):\n",
    "    rowData = []\n",
    "\n",
    "    for row in LDAtrain:\n",
    "        rowData.append(float(row[i]))\n",
    "\n",
    "    train.append(rowData)"
   ]
  },
  {
   "cell_type": "code",
   "execution_count": 49,
   "id": "2e3dc887-ace7-42da-8506-3ccd377967c0",
   "metadata": {},
   "outputs": [],
   "source": [
    "for i in range(len(LDAtest[0])):\n",
    "    rowData = []\n",
    "\n",
    "    for row in LDAtest:\n",
    "        rowData.append(float(row[i]))\n",
    "\n",
    "    test.append(rowData)"
   ]
  },
  {
   "cell_type": "code",
   "execution_count": 50,
   "id": "f3978b28-ec6a-4f7a-ae54-184c42853a3f",
   "metadata": {},
   "outputs": [],
   "source": [
    "rValues = getRValues(train, conditions, ctl, ad, test)"
   ]
  },
  {
   "cell_type": "code",
   "execution_count": 51,
   "id": "56c8b623-4641-41bf-b2d4-ceed69417268",
   "metadata": {},
   "outputs": [],
   "source": [
    "data = train + test"
   ]
  },
  {
   "cell_type": "code",
   "execution_count": 52,
   "id": "673f8053-5a0a-440b-ad7f-8d2181403a1b",
   "metadata": {},
   "outputs": [],
   "source": [
    "data = normalizeRow(data)\n",
    "data = normalize(data)"
   ]
  },
  {
   "cell_type": "code",
   "execution_count": 53,
   "id": "4693f4f1-e4f7-4c72-8ea2-f97fbdea8de1",
   "metadata": {},
   "outputs": [],
   "source": [
    "train = data[:761]\n",
    "test = data[761:]"
   ]
  },
  {
   "cell_type": "code",
   "execution_count": 54,
   "id": "e0de2c89-7ca6-4a34-9cfb-86d4158fd8af",
   "metadata": {},
   "outputs": [
    {
     "name": "stdout",
     "output_type": "stream",
     "text": [
      "190\n",
      "761\n"
     ]
    }
   ],
   "source": [
    "print(len(test))\n",
    "print(len(train))"
   ]
  },
  {
   "cell_type": "code",
   "execution_count": 55,
   "id": "380fa54f-910c-40de-a256-0580197bef53",
   "metadata": {},
   "outputs": [
    {
     "name": "stdout",
     "output_type": "stream",
     "text": [
      "1025\n"
     ]
    }
   ],
   "source": [
    "print(len(train[0]))"
   ]
  },
  {
   "cell_type": "code",
   "execution_count": 56,
   "id": "4df28740-a1e7-4d2a-88ca-9e70e37ceb87",
   "metadata": {},
   "outputs": [],
   "source": [
    "with open('datasets/train.csv', 'w') as f:\n",
    "    writer = csv.writer(f, quotechar='\"', quoting=csv.QUOTE_MINIMAL)\n",
    "    writer.writerows(train)\n",
    "    \n",
    "with open('datasets/test.csv', 'w') as f:\n",
    "    writer = csv.writer(f, quotechar='\"', quoting=csv.QUOTE_MINIMAL)\n",
    "    writer.writerows(test)"
   ]
  },
  {
   "cell_type": "code",
   "execution_count": 57,
   "id": "07d0e75c-3468-4d35-96df-d61e65da8db5",
   "metadata": {},
   "outputs": [
    {
     "data": {
      "text/plain": [
       "<matplotlib.image.AxesImage at 0x2e496fb5c40>"
      ]
     },
     "execution_count": 57,
     "metadata": {},
     "output_type": "execute_result"
    },
    {
     "data": {
      "image/png": "[encoded data removed]",
      "text/plain": [
       "<Figure size 640x480 with 1 Axes>"
      ]
     },
     "metadata": {},
     "output_type": "display_data"
    }
   ],
   "source": [
    "plt.imshow(torch.Tensor(test[1][1:1025]).view(32, 32))"
   ]
  },
  {
   "cell_type": "code",
   "execution_count": 58,
   "id": "9c502991-6e49-4afa-a19e-d154b43c13d4",
   "metadata": {},
   "outputs": [
    {
     "name": "stdout",
     "output_type": "stream",
     "text": [
      "0.0\n"
     ]
    }
   ],
   "source": [
    "print(test[1][0])"
   ]
  },
  {
   "cell_type": "code",
   "execution_count": null,
   "id": "8e21b20a-115d-4d25-ba8f-ab84744bce01",
   "metadata": {},
   "outputs": [],
   "source": []
  },
  {
   "cell_type": "code",
   "execution_count": null,
   "id": "29f46ed2-a878-4427-89df-0e9947a388ca",
   "metadata": {},
   "outputs": [],
   "source": []
  }
 ],
 "metadata": {
  "kernelspec": {
   "display_name": "Python 3 (ipykernel)",
   "language": "python",
   "name": "python3"
  },
  "language_info": {
   "codemirror_mode": {
    "name": "ipython",
    "version": 3
   },
   "file_extension": ".py",
   "mimetype": "text/x-python",
   "name": "python",
   "nbconvert_exporter": "python",
   "pygments_lexer": "ipython3",
   "version": "3.9.5"
  }
 },
 "nbformat": 4,
 "nbformat_minor": 5
}
