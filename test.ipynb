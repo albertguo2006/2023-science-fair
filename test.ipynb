{
 "cells": [
  {
   "cell_type": "code",
   "execution_count": 1,
   "id": "worthy-adventure",
   "metadata": {},
   "outputs": [],
   "source": [
    "import numpy as np\n",
    "import matplotlib.pyplot as plt\n",
    "import torch\n",
    "import torchvision\n",
    "from PIL import Image\n",
    "from torch import nn, Tensor\n",
    "import torch.nn.functional as F\n",
    "import pandas as pd\n",
    "\n",
    "import vit\n",
    "import vit1\n",
    "from helper import *"
   ]
  },
  {
   "cell_type": "code",
   "execution_count": 2,
   "id": "0e2bfece-e5ca-45e2-9776-6aff05b2a5cc",
   "metadata": {},
   "outputs": [
    {
     "name": "stdout",
     "output_type": "stream",
     "text": [
      "Running on the GPU\n"
     ]
    }
   ],
   "source": [
    "if torch.cuda.is_available() and USE_CUDA == True:\n",
    "    device = torch.device(\"cuda:0\")\n",
    "    print(\"Running on the GPU\")\n",
    "else:\n",
    "    device = torch.device(\"cpu\")\n",
    "    print(\"Running on the CPU\")"
   ]
  },
  {
   "cell_type": "code",
   "execution_count": 22,
   "id": "30aec5c6-1e05-41dc-b944-15d1dd97003d",
   "metadata": {},
   "outputs": [],
   "source": [
    "DATASET = 0\n",
    "\n",
    "# USE 0 for combined dataset, use 1 for anm1, use 2 for anm2, and 3 for adni"
   ]
  },
  {
   "cell_type": "code",
   "execution_count": 23,
   "id": "16011572-8b04-41a6-a419-f2fbc1abd605",
   "metadata": {},
   "outputs": [],
   "source": [
    "nets = [\"combined\", \"anm1\", \"anm2\", \"adni\"]\n",
    "datasets = [\"\", \"1\", \"2\", \"_adni\"]"
   ]
  },
  {
   "cell_type": "code",
   "execution_count": 24,
   "id": "5e4625b6-05c9-494b-b6f8-1c1b25e82633",
   "metadata": {},
   "outputs": [],
   "source": [
    "train = geneDataset(f\"train{datasets[DATASET]}\")\n",
    "test = geneDataset(f\"test{datasets[DATASET]}\")"
   ]
  },
  {
   "cell_type": "code",
   "execution_count": 25,
   "id": "94a7712f-62a8-4a01-b22e-61aa5c5e9e28",
   "metadata": {},
   "outputs": [],
   "source": [
    "trainset = torch.utils.data.DataLoader(train, batch_size=100, shuffle=True)\n",
    "testset = torch.utils.data.DataLoader(test, batch_size=10, shuffle=False)"
   ]
  },
  {
   "cell_type": "code",
   "execution_count": 26,
   "id": "cdd2f98d-b8e4-4ae3-b5ee-3a1c85c453a7",
   "metadata": {},
   "outputs": [
    {
     "data": {
      "text/plain": [
       "VisionTransformer(\n",
       "  (embedding_layer): EmbeddingStem(\n",
       "    (pos_drop): Dropout(p=0.0, inplace=False)\n",
       "    (projection): Sequential(\n",
       "      (0): Conv2d(1, 96, kernel_size=(2, 2), stride=(2, 2))\n",
       "    )\n",
       "  )\n",
       "  (transformer): Transformer(\n",
       "    (layers): ModuleList(\n",
       "      (0): ModuleList(\n",
       "        (0): PreNorm(\n",
       "          (norm): LayerNorm((96,), eps=1e-05, elementwise_affine=True)\n",
       "          (fn): Attention(\n",
       "            (qkv): Linear(in_features=96, out_features=288, bias=False)\n",
       "            (attn_drop): Dropout(p=0.0, inplace=False)\n",
       "            (proj): Linear(in_features=96, out_features=96, bias=True)\n",
       "            (proj_drop): Dropout(p=0.0, inplace=False)\n",
       "          )\n",
       "        )\n",
       "        (1): FeedForward(\n",
       "          (net): Sequential(\n",
       "            (0): Conv1d(96, 192, kernel_size=(1,), stride=(1,))\n",
       "            (1): BatchNorm1d(192, eps=1e-05, momentum=0.1, affine=True, track_running_stats=True)\n",
       "            (2): GELU(approximate=none)\n",
       "            (3): Dropout(p=0.0, inplace=False)\n",
       "            (4): Conv1d(192, 96, kernel_size=(1,), stride=(1,))\n",
       "            (5): BatchNorm1d(96, eps=1e-05, momentum=0.1, affine=True, track_running_stats=True)\n",
       "            (6): GELU(approximate=none)\n",
       "          )\n",
       "        )\n",
       "      )\n",
       "      (1): ModuleList(\n",
       "        (0): PreNorm(\n",
       "          (norm): LayerNorm((96,), eps=1e-05, elementwise_affine=True)\n",
       "          (fn): Attention(\n",
       "            (qkv): Linear(in_features=96, out_features=288, bias=False)\n",
       "            (attn_drop): Dropout(p=0.0, inplace=False)\n",
       "            (proj): Linear(in_features=96, out_features=96, bias=True)\n",
       "            (proj_drop): Dropout(p=0.0, inplace=False)\n",
       "          )\n",
       "        )\n",
       "        (1): FeedForward(\n",
       "          (net): Sequential(\n",
       "            (0): Conv1d(96, 192, kernel_size=(1,), stride=(1,))\n",
       "            (1): BatchNorm1d(192, eps=1e-05, momentum=0.1, affine=True, track_running_stats=True)\n",
       "            (2): GELU(approximate=none)\n",
       "            (3): Dropout(p=0.0, inplace=False)\n",
       "            (4): Conv1d(192, 96, kernel_size=(1,), stride=(1,))\n",
       "            (5): BatchNorm1d(96, eps=1e-05, momentum=0.1, affine=True, track_running_stats=True)\n",
       "            (6): GELU(approximate=none)\n",
       "          )\n",
       "        )\n",
       "      )\n",
       "      (2): ModuleList(\n",
       "        (0): PreNorm(\n",
       "          (norm): LayerNorm((96,), eps=1e-05, elementwise_affine=True)\n",
       "          (fn): Attention(\n",
       "            (qkv): Linear(in_features=96, out_features=288, bias=False)\n",
       "            (attn_drop): Dropout(p=0.0, inplace=False)\n",
       "            (proj): Linear(in_features=96, out_features=96, bias=True)\n",
       "            (proj_drop): Dropout(p=0.0, inplace=False)\n",
       "          )\n",
       "        )\n",
       "        (1): FeedForward(\n",
       "          (net): Sequential(\n",
       "            (0): Conv1d(96, 192, kernel_size=(1,), stride=(1,))\n",
       "            (1): BatchNorm1d(192, eps=1e-05, momentum=0.1, affine=True, track_running_stats=True)\n",
       "            (2): GELU(approximate=none)\n",
       "            (3): Dropout(p=0.0, inplace=False)\n",
       "            (4): Conv1d(192, 96, kernel_size=(1,), stride=(1,))\n",
       "            (5): BatchNorm1d(96, eps=1e-05, momentum=0.1, affine=True, track_running_stats=True)\n",
       "            (6): GELU(approximate=none)\n",
       "          )\n",
       "        )\n",
       "      )\n",
       "      (3): ModuleList(\n",
       "        (0): PreNorm(\n",
       "          (norm): LayerNorm((96,), eps=1e-05, elementwise_affine=True)\n",
       "          (fn): Attention(\n",
       "            (qkv): Linear(in_features=96, out_features=288, bias=False)\n",
       "            (attn_drop): Dropout(p=0.0, inplace=False)\n",
       "            (proj): Linear(in_features=96, out_features=96, bias=True)\n",
       "            (proj_drop): Dropout(p=0.0, inplace=False)\n",
       "          )\n",
       "        )\n",
       "        (1): FeedForward(\n",
       "          (net): Sequential(\n",
       "            (0): Conv1d(96, 192, kernel_size=(1,), stride=(1,))\n",
       "            (1): BatchNorm1d(192, eps=1e-05, momentum=0.1, affine=True, track_running_stats=True)\n",
       "            (2): GELU(approximate=none)\n",
       "            (3): Dropout(p=0.0, inplace=False)\n",
       "            (4): Conv1d(192, 96, kernel_size=(1,), stride=(1,))\n",
       "            (5): BatchNorm1d(96, eps=1e-05, momentum=0.1, affine=True, track_running_stats=True)\n",
       "            (6): GELU(approximate=none)\n",
       "          )\n",
       "        )\n",
       "      )\n",
       "      (4): ModuleList(\n",
       "        (0): PreNorm(\n",
       "          (norm): LayerNorm((96,), eps=1e-05, elementwise_affine=True)\n",
       "          (fn): Attention(\n",
       "            (qkv): Linear(in_features=96, out_features=288, bias=False)\n",
       "            (attn_drop): Dropout(p=0.0, inplace=False)\n",
       "            (proj): Linear(in_features=96, out_features=96, bias=True)\n",
       "            (proj_drop): Dropout(p=0.0, inplace=False)\n",
       "          )\n",
       "        )\n",
       "        (1): FeedForward(\n",
       "          (net): Sequential(\n",
       "            (0): Conv1d(96, 192, kernel_size=(1,), stride=(1,))\n",
       "            (1): BatchNorm1d(192, eps=1e-05, momentum=0.1, affine=True, track_running_stats=True)\n",
       "            (2): GELU(approximate=none)\n",
       "            (3): Dropout(p=0.0, inplace=False)\n",
       "            (4): Conv1d(192, 96, kernel_size=(1,), stride=(1,))\n",
       "            (5): BatchNorm1d(96, eps=1e-05, momentum=0.1, affine=True, track_running_stats=True)\n",
       "            (6): GELU(approximate=none)\n",
       "          )\n",
       "        )\n",
       "      )\n",
       "      (5): ModuleList(\n",
       "        (0): PreNorm(\n",
       "          (norm): LayerNorm((96,), eps=1e-05, elementwise_affine=True)\n",
       "          (fn): Attention(\n",
       "            (qkv): Linear(in_features=96, out_features=288, bias=False)\n",
       "            (attn_drop): Dropout(p=0.0, inplace=False)\n",
       "            (proj): Linear(in_features=96, out_features=96, bias=True)\n",
       "            (proj_drop): Dropout(p=0.0, inplace=False)\n",
       "          )\n",
       "        )\n",
       "        (1): FeedForward(\n",
       "          (net): Sequential(\n",
       "            (0): Conv1d(96, 192, kernel_size=(1,), stride=(1,))\n",
       "            (1): BatchNorm1d(192, eps=1e-05, momentum=0.1, affine=True, track_running_stats=True)\n",
       "            (2): GELU(approximate=none)\n",
       "            (3): Dropout(p=0.0, inplace=False)\n",
       "            (4): Conv1d(192, 96, kernel_size=(1,), stride=(1,))\n",
       "            (5): BatchNorm1d(96, eps=1e-05, momentum=0.1, affine=True, track_running_stats=True)\n",
       "            (6): GELU(approximate=none)\n",
       "          )\n",
       "        )\n",
       "      )\n",
       "      (6): ModuleList(\n",
       "        (0): PreNorm(\n",
       "          (norm): LayerNorm((96,), eps=1e-05, elementwise_affine=True)\n",
       "          (fn): Attention(\n",
       "            (qkv): Linear(in_features=96, out_features=288, bias=False)\n",
       "            (attn_drop): Dropout(p=0.0, inplace=False)\n",
       "            (proj): Linear(in_features=96, out_features=96, bias=True)\n",
       "            (proj_drop): Dropout(p=0.0, inplace=False)\n",
       "          )\n",
       "        )\n",
       "        (1): FeedForward(\n",
       "          (net): Sequential(\n",
       "            (0): Conv1d(96, 192, kernel_size=(1,), stride=(1,))\n",
       "            (1): BatchNorm1d(192, eps=1e-05, momentum=0.1, affine=True, track_running_stats=True)\n",
       "            (2): GELU(approximate=none)\n",
       "            (3): Dropout(p=0.0, inplace=False)\n",
       "            (4): Conv1d(192, 96, kernel_size=(1,), stride=(1,))\n",
       "            (5): BatchNorm1d(96, eps=1e-05, momentum=0.1, affine=True, track_running_stats=True)\n",
       "            (6): GELU(approximate=none)\n",
       "          )\n",
       "        )\n",
       "      )\n",
       "      (7): ModuleList(\n",
       "        (0): PreNorm(\n",
       "          (norm): LayerNorm((96,), eps=1e-05, elementwise_affine=True)\n",
       "          (fn): Attention(\n",
       "            (qkv): Linear(in_features=96, out_features=288, bias=False)\n",
       "            (attn_drop): Dropout(p=0.0, inplace=False)\n",
       "            (proj): Linear(in_features=96, out_features=96, bias=True)\n",
       "            (proj_drop): Dropout(p=0.0, inplace=False)\n",
       "          )\n",
       "        )\n",
       "        (1): FeedForward(\n",
       "          (net): Sequential(\n",
       "            (0): Conv1d(96, 192, kernel_size=(1,), stride=(1,))\n",
       "            (1): BatchNorm1d(192, eps=1e-05, momentum=0.1, affine=True, track_running_stats=True)\n",
       "            (2): GELU(approximate=none)\n",
       "            (3): Dropout(p=0.0, inplace=False)\n",
       "            (4): Conv1d(192, 96, kernel_size=(1,), stride=(1,))\n",
       "            (5): BatchNorm1d(96, eps=1e-05, momentum=0.1, affine=True, track_running_stats=True)\n",
       "            (6): GELU(approximate=none)\n",
       "          )\n",
       "        )\n",
       "      )\n",
       "    )\n",
       "  )\n",
       "  (post_transformer_ln): LayerNorm((96,), eps=1e-05, elementwise_affine=True)\n",
       "  (cls_layer): OutputLayer(\n",
       "    (net): Sequential(\n",
       "      (0): Linear(in_features=96, out_features=1, bias=True)\n",
       "    )\n",
       "  )\n",
       ")"
      ]
     },
     "execution_count": 26,
     "metadata": {},
     "output_type": "execute_result"
    }
   ],
   "source": [
    "net = torch.load(f\"nets/{nets[DATASET]}.pt\")\n",
    "net.to(device)"
   ]
  },
  {
   "cell_type": "code",
   "execution_count": 27,
   "id": "d65c171c-f082-4448-abe4-1444958ed1f2",
   "metadata": {},
   "outputs": [
    {
     "name": "stdout",
     "output_type": "stream",
     "text": [
      "624385\n"
     ]
    }
   ],
   "source": [
    "total_params = sum(p.numel() for p in net.parameters())\n",
    "print(total_params)"
   ]
  },
  {
   "cell_type": "code",
   "execution_count": 28,
   "id": "e708ea8a-6bd1-4160-be33-c6a28252f6c7",
   "metadata": {
    "tags": []
   },
   "outputs": [
    {
     "name": "stdout",
     "output_type": "stream",
     "text": [
      "0.8842105263157894\n"
     ]
    }
   ],
   "source": [
    "pos = 0\n",
    "neg = 0\n",
    "\n",
    "wrong = 0\n",
    "right = 0\n",
    "total = 0\n",
    "\n",
    "with torch.no_grad():\n",
    "    for data in testset:\n",
    "        X, y = data\n",
    "\n",
    "        X = X.to(device)\n",
    "        y = y.to(device)\n",
    "        \n",
    "        net.eval()\n",
    "\n",
    "        output = torch.clamp(net(X), min=0.0, max=1.0)\n",
    "\n",
    "        for i in range(len(output)):\n",
    "            if y[i][0] == round(float(output[i][0])):\n",
    "                right += 1\n",
    "            else:\n",
    "                wrong += 1\n",
    "\n",
    "            total += 1\n",
    "\n",
    "print(right / total)"
   ]
  },
  {
   "cell_type": "code",
   "execution_count": 29,
   "id": "7d0337e0-3743-48ef-9a53-05ad01e278c7",
   "metadata": {},
   "outputs": [],
   "source": [
    "RES = 1000"
   ]
  },
  {
   "cell_type": "code",
   "execution_count": 30,
   "id": "4ad1b8c9-2938-44ee-88a5-bd7e86ec3862",
   "metadata": {},
   "outputs": [],
   "source": [
    "falsePos = [0] * RES\n",
    "truePos = [0] * RES\n",
    "falseNeg = [0] * RES\n",
    "trueNeg = [0] * RES"
   ]
  },
  {
   "cell_type": "code",
   "execution_count": 31,
   "id": "rising-scientist",
   "metadata": {},
   "outputs": [
    {
     "data": {
      "application/vnd.jupyter.widget-view+json": {
       "model_id": "649a8c1ae45c496ea2f3cfc4235e62e1",
       "version_major": 2,
       "version_minor": 0
      },
      "text/plain": [
       "  0%|          | 0/19 [00:00<?, ?it/s]"
      ]
     },
     "metadata": {},
     "output_type": "display_data"
    }
   ],
   "source": [
    "from tqdm.notebook import tqdm\n",
    "\n",
    "with torch.no_grad():\n",
    "    for data in tqdm(testset):\n",
    "        X, y = data\n",
    "        \n",
    "        X = X.to(device)\n",
    "        y = y.to(device)\n",
    "        \n",
    "        net.eval()\n",
    "\n",
    "        output = net(X)\n",
    "        \n",
    "        for i in range(RES):\n",
    "            loss = wrongAns(output, y, 2 * i / (RES - 1) - 0.5)\n",
    "            truePos[i] += loss[0]\n",
    "            falsePos[i] += loss[1]\n",
    "            trueNeg[i] += loss[2]\n",
    "            falseNeg[i] += loss[3]"
   ]
  },
  {
   "cell_type": "code",
   "execution_count": 32,
   "id": "d25d45a6-1228-475b-bcf6-993104292401",
   "metadata": {},
   "outputs": [
    {
     "name": "stdout",
     "output_type": "stream",
     "text": [
      "Accuracy: 0.9\n",
      "729\n"
     ]
    },
    {
     "data": {
      "image/png": "[encoded data removed]",
      "text/plain": [
       "<Figure size 640x480 with 1 Axes>"
      ]
     },
     "metadata": {},
     "output_type": "display_data"
    }
   ],
   "source": [
    "hAcu = 0\n",
    "\n",
    "falsePosRate = []\n",
    "truePosRate = []\n",
    "\n",
    "for i in range(len(truePos)):\n",
    "    falsePosRate.append(falsePos[i] / (falsePos[i] + trueNeg[i]))\n",
    "    truePosRate.append(truePos[i] / (truePos[i] + falseNeg[i]))\n",
    "\n",
    "for i in range(RES):\n",
    "    if hAcu < truePos[i] + trueNeg[i]:\n",
    "        hAcu = truePos[i] + trueNeg[i]\n",
    "        lowestIndex = i\n",
    "\n",
    "print(f\"Accuracy: {(truePos[lowestIndex] + trueNeg[lowestIndex]) / (falsePos[0] + falseNeg[0] + truePos[0] + trueNeg[0])}\")\n",
    "print(lowestIndex)\n",
    "    \n",
    "plt.plot(falsePosRate, truePosRate)\n",
    "plt.grid()"
   ]
  },
  {
   "cell_type": "code",
   "execution_count": 33,
   "id": "3c8b679e-aca0-4f71-8704-f0190e516276",
   "metadata": {},
   "outputs": [
    {
     "name": "stdout",
     "output_type": "stream",
     "text": [
      "0.9510314995563443\n"
     ]
    }
   ],
   "source": [
    "import sklearn.metrics\n",
    "\n",
    "auc = sklearn.metrics.auc(falsePosRate, truePosRate)\n",
    "\n",
    "print(auc)"
   ]
  },
  {
   "cell_type": "code",
   "execution_count": 34,
   "id": "b8ff8edf-98e0-4a6b-b34a-bb1a9ce2521b",
   "metadata": {},
   "outputs": [],
   "source": [
    "data = iter(testset)"
   ]
  },
  {
   "cell_type": "code",
   "execution_count": 35,
   "id": "removed-article",
   "metadata": {},
   "outputs": [
    {
     "name": "stdout",
     "output_type": "stream",
     "text": [
      "tensor([1.], device='cuda:0')\n"
     ]
    },
    {
     "data": {
      "text/plain": [
       "<matplotlib.image.AxesImage at 0x1ec9a0e4be0>"
      ]
     },
     "execution_count": 35,
     "metadata": {},
     "output_type": "execute_result"
    },
    {
     "data": {
      "image/png": "[encoded data removed]",
      "text/plain": [
       "<Figure size 640x480 with 1 Axes>"
      ]
     },
     "metadata": {},
     "output_type": "display_data"
    }
   ],
   "source": [
    "X, y = data.next()\n",
    "\n",
    "X = X.to(device)\n",
    "y = y.to(device)\n",
    "        \n",
    "output = net(X)\n",
    "\n",
    "print(y[0])\n",
    "plt.imshow(X[0].view((32, 32)).cpu())"
   ]
  },
  {
   "cell_type": "code",
   "execution_count": 36,
   "id": "d3a1f1d3-58c6-4304-8378-e29f9d967ee8",
   "metadata": {},
   "outputs": [],
   "source": [
    "i = 0"
   ]
  },
  {
   "cell_type": "code",
   "execution_count": 37,
   "id": "0adbef04-aa51-4295-854c-63a72b350f85",
   "metadata": {},
   "outputs": [
    {
     "name": "stdout",
     "output_type": "stream",
     "text": [
      "tensor([1.], device='cuda:0')\n",
      "tensor([1.0125], device='cuda:0', grad_fn=<SelectBackward0>)\n"
     ]
    },
    {
     "data": {
      "text/plain": [
       "1"
      ]
     },
     "execution_count": 37,
     "metadata": {},
     "output_type": "execute_result"
    },
    {
     "data": {
      "image/png": "[encoded data removed]",
      "text/plain": [
       "<Figure size 640x480 with 1 Axes>"
      ]
     },
     "metadata": {},
     "output_type": "display_data"
    }
   ],
   "source": [
    "print(y[i])\n",
    "print(output[i])\n",
    "plt.imshow(X[i].view((32, 32)).cpu())\n",
    "\n",
    "i += 1\n",
    "i %= 100\n",
    "\n",
    "i"
   ]
  },
  {
   "cell_type": "code",
   "execution_count": 38,
   "id": "d2aa0380-2713-4244-92dc-fcac9d04390f",
   "metadata": {},
   "outputs": [
    {
     "name": "stdout",
     "output_type": "stream",
     "text": [
      "tensor([1., 1., 1., 0., 0., 1., 1., 1., 0., 0.], device='cuda:0')\n"
     ]
    }
   ],
   "source": [
    "print(y.view(-1))"
   ]
  },
  {
   "cell_type": "code",
   "execution_count": 39,
   "id": "5a835a5d-de00-445e-9e58-b9dca249aff5",
   "metadata": {},
   "outputs": [
    {
     "name": "stdout",
     "output_type": "stream",
     "text": [
      "tensor([ 1.0125,  0.9842,  1.0082, -0.0422,  0.3213,  0.9899,  0.9946,  0.9872,\n",
      "        -0.0386, -0.0452], device='cuda:0', grad_fn=<ViewBackward0>)\n"
     ]
    }
   ],
   "source": [
    "print(output.view(-1))\n"
   ]
  },
  {
   "cell_type": "code",
   "execution_count": 40,
   "id": "186dee92-403c-4d96-a855-bc0b9133a389",
   "metadata": {},
   "outputs": [
    {
     "name": "stdout",
     "output_type": "stream",
     "text": [
      "tensor([[[[1.3403, 1.3646, 1.3590,  ..., 1.4001, 1.3419, 1.3344],\n",
      "          [1.2447, 1.2482, 1.2877,  ..., 1.4408, 1.4257, 1.3926],\n",
      "          [1.3430, 1.3648, 1.3517,  ..., 1.1410, 1.1264, 1.1362],\n",
      "          ...,\n",
      "          [1.3529, 1.3078, 1.3044,  ..., 1.1728, 1.1040, 1.1254],\n",
      "          [1.1406, 1.2882, 1.3102,  ..., 1.1826, 1.1432, 1.1007],\n",
      "          [1.1409, 1.1740, 1.1930,  ..., 1.3533, 1.2764, 1.3194]]],\n",
      "\n",
      "\n",
      "        [[[1.0333, 0.9897, 1.0301,  ..., 1.0867, 1.1025, 1.0920],\n",
      "          [1.1210, 1.0644, 1.0604,  ..., 1.0167, 1.0173, 1.0245],\n",
      "          [1.0741, 1.0983, 0.9599,  ..., 1.0534, 1.0688, 1.0736],\n",
      "          ...,\n",
      "          [1.1151, 1.1427, 1.1238,  ..., 0.9783, 0.9307, 0.8525],\n",
      "          [0.8911, 0.9057, 0.8859,  ..., 1.0315, 1.0151, 1.0076],\n",
      "          [1.0148, 1.0120, 0.9326,  ..., 0.9519, 0.9730, 0.9525]]],\n",
      "\n",
      "\n",
      "        [[[1.2241, 1.2017, 1.1394,  ..., 1.0900, 1.0689, 1.0556],\n",
      "          [1.0629, 1.0394, 1.0687,  ..., 1.2162, 1.1408, 1.1206],\n",
      "          [1.1881, 1.2040, 1.1523,  ..., 1.0409, 1.0120, 0.9961],\n",
      "          ...,\n",
      "          [1.1256, 1.1186, 1.1059,  ..., 1.1116, 1.1353, 1.1394],\n",
      "          [1.0601, 1.0829, 1.0627,  ..., 1.1882, 1.2250, 1.2606],\n",
      "          [1.2731, 1.2251, 1.1573,  ..., 1.1884, 1.2660, 1.2462]]],\n",
      "\n",
      "\n",
      "        ...,\n",
      "\n",
      "\n",
      "        [[[1.0623, 1.0680, 1.0857,  ..., 1.1939, 1.2373, 1.2363],\n",
      "          [1.2374, 1.2653, 1.2223,  ..., 1.1920, 1.1470, 1.1961],\n",
      "          [1.3093, 1.2793, 1.2354,  ..., 1.1853, 1.2495, 1.1824],\n",
      "          ...,\n",
      "          [1.0376, 1.0207, 0.9747,  ..., 1.2337, 1.2504, 1.2044],\n",
      "          [1.2186, 1.2639, 1.3271,  ..., 1.1109, 1.1482, 1.1159],\n",
      "          [1.0702, 1.0357, 1.0890,  ..., 1.0095, 1.0986, 1.0798]]],\n",
      "\n",
      "\n",
      "        [[[1.0012, 0.9472, 0.9602,  ..., 0.8999, 0.8947, 0.8546],\n",
      "          [0.8611, 0.8095, 0.8131,  ..., 0.9087, 0.9025, 0.9401],\n",
      "          [0.9240, 0.9256, 0.9214,  ..., 0.8075, 0.8222, 0.8307],\n",
      "          ...,\n",
      "          [0.7035, 0.6720, 0.7188,  ..., 0.8884, 0.9729, 0.9376],\n",
      "          [0.9408, 0.9465, 0.8910,  ..., 0.7130, 0.6830, 0.6895],\n",
      "          [0.7430, 0.7461, 0.7911,  ..., 1.0541, 1.0270, 1.0205]]],\n",
      "\n",
      "\n",
      "        [[[0.7892, 0.7655, 0.7546,  ..., 0.7810, 0.7746, 0.7747],\n",
      "          [0.7386, 0.6957, 0.6902,  ..., 0.6684, 0.7286, 0.7598],\n",
      "          [0.7618, 0.7732, 0.7067,  ..., 0.8339, 0.7694, 0.7577],\n",
      "          ...,\n",
      "          [0.7880, 0.8314, 0.7798,  ..., 0.8505, 0.8216, 0.8202],\n",
      "          [0.8108, 0.8237, 0.8234,  ..., 0.7408, 0.7610, 0.8038],\n",
      "          [0.8206, 0.8376, 0.8523,  ..., 0.7391, 0.7465, 0.7400]]]],\n",
      "       device='cuda:0')\n"
     ]
    }
   ],
   "source": [
    "print(X)"
   ]
  },
  {
   "cell_type": "code",
   "execution_count": null,
   "id": "ffd4529b-f2cc-41db-a82c-f24d796be412",
   "metadata": {},
   "outputs": [],
   "source": []
  }
 ],
 "metadata": {
  "kernelspec": {
   "display_name": "Python 3 (ipykernel)",
   "language": "python",
   "name": "python3"
  },
  "language_info": {
   "codemirror_mode": {
    "name": "ipython",
    "version": 3
   },
   "file_extension": ".py",
   "mimetype": "text/x-python",
   "name": "python",
   "nbconvert_exporter": "python",
   "pygments_lexer": "ipython3",
   "version": "3.9.5"
  }
 },
 "nbformat": 4,
 "nbformat_minor": 5
}
