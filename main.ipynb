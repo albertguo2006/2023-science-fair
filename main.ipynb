{
 "cells": [
  {
   "cell_type": "code",
   "execution_count": 1,
   "id": "worthy-adventure",
   "metadata": {},
   "outputs": [],
   "source": [
    "import numpy as np\n",
    "import matplotlib.pyplot as plt\n",
    "import torch\n",
    "import torchvision\n",
    "from PIL import Image\n",
    "from torch import nn, Tensor\n",
    "import torch.nn.functional as F\n",
    "import pandas as pd\n",
    "\n",
    "import vit\n",
    "import vit1\n",
    "from helper import *"
   ]
  },
  {
   "cell_type": "code",
   "execution_count": 2,
   "id": "0e2bfece-e5ca-45e2-9776-6aff05b2a5cc",
   "metadata": {},
   "outputs": [
    {
     "name": "stdout",
     "output_type": "stream",
     "text": [
      "Running on the GPU\n"
     ]
    }
   ],
   "source": [
    "if torch.cuda.is_available() and USE_CUDA == True:\n",
    "    device = torch.device(\"cuda:0\")\n",
    "    print(\"Running on the GPU\")\n",
    "else:\n",
    "    device = torch.device(\"cpu\")\n",
    "    print(\"Running on the CPU\")"
   ]
  },
  {
   "cell_type": "code",
   "execution_count": 3,
   "id": "d8a85ca6-88a1-4a13-9c92-bee9ff23ea3d",
   "metadata": {},
   "outputs": [],
   "source": [
    "DATASET = 1\n",
    "\n",
    "# USE 0 for combined dataset, use 1 for anm1, use 2 for anm2, and 3 for adni"
   ]
  },
  {
   "cell_type": "code",
   "execution_count": 4,
   "id": "baba7b1c-d089-456b-acda-3c9aefa26127",
   "metadata": {},
   "outputs": [],
   "source": [
    "datasets = [\"\", \"1\", \"2\", \"_adni\"]"
   ]
  },
  {
   "cell_type": "code",
   "execution_count": 5,
   "id": "5e4625b6-05c9-494b-b6f8-1c1b25e82633",
   "metadata": {},
   "outputs": [],
   "source": [
    "train = geneDataset(f\"train{datasets[DATASET]}\")\n",
    "test = geneDataset(f\"test{datasets[DATASET]}\")"
   ]
  },
  {
   "cell_type": "code",
   "execution_count": 6,
   "id": "94a7712f-62a8-4a01-b22e-61aa5c5e9e28",
   "metadata": {},
   "outputs": [],
   "source": [
    "trainset = torch.utils.data.DataLoader(train, batch_size=100, shuffle=True)\n",
    "testset = torch.utils.data.DataLoader(test, batch_size=10, shuffle=False)"
   ]
  },
  {
   "cell_type": "code",
   "execution_count": 7,
   "id": "cdd2f98d-b8e4-4ae3-b5ee-3a1c85c453a7",
   "metadata": {},
   "outputs": [
    {
     "data": {
      "text/plain": [
       "VisionTransformer(\n",
       "  (embedding_layer): EmbeddingStem(\n",
       "    (pos_drop): Dropout(p=0.0, inplace=False)\n",
       "    (projection): Sequential(\n",
       "      (0): Conv2d(1, 96, kernel_size=(2, 2), stride=(2, 2))\n",
       "    )\n",
       "  )\n",
       "  (transformer): Transformer(\n",
       "    (layers): ModuleList(\n",
       "      (0): ModuleList(\n",
       "        (0): PreNorm(\n",
       "          (norm): LayerNorm((96,), eps=1e-05, elementwise_affine=True)\n",
       "          (fn): Attention(\n",
       "            (qkv): Linear(in_features=96, out_features=288, bias=False)\n",
       "            (attn_drop): Dropout(p=0.0, inplace=False)\n",
       "            (proj): Linear(in_features=96, out_features=96, bias=True)\n",
       "            (proj_drop): Dropout(p=0.0, inplace=False)\n",
       "          )\n",
       "        )\n",
       "        (1): FeedForward(\n",
       "          (net): Sequential(\n",
       "            (0): Conv1d(96, 192, kernel_size=(1,), stride=(1,))\n",
       "            (1): BatchNorm1d(192, eps=1e-05, momentum=0.1, affine=True, track_running_stats=True)\n",
       "            (2): GELU(approximate=none)\n",
       "            (3): Dropout(p=0.0, inplace=False)\n",
       "            (4): Conv1d(192, 96, kernel_size=(1,), stride=(1,))\n",
       "            (5): BatchNorm1d(96, eps=1e-05, momentum=0.1, affine=True, track_running_stats=True)\n",
       "            (6): GELU(approximate=none)\n",
       "          )\n",
       "        )\n",
       "      )\n",
       "      (1): ModuleList(\n",
       "        (0): PreNorm(\n",
       "          (norm): LayerNorm((96,), eps=1e-05, elementwise_affine=True)\n",
       "          (fn): Attention(\n",
       "            (qkv): Linear(in_features=96, out_features=288, bias=False)\n",
       "            (attn_drop): Dropout(p=0.0, inplace=False)\n",
       "            (proj): Linear(in_features=96, out_features=96, bias=True)\n",
       "            (proj_drop): Dropout(p=0.0, inplace=False)\n",
       "          )\n",
       "        )\n",
       "        (1): FeedForward(\n",
       "          (net): Sequential(\n",
       "            (0): Conv1d(96, 192, kernel_size=(1,), stride=(1,))\n",
       "            (1): BatchNorm1d(192, eps=1e-05, momentum=0.1, affine=True, track_running_stats=True)\n",
       "            (2): GELU(approximate=none)\n",
       "            (3): Dropout(p=0.0, inplace=False)\n",
       "            (4): Conv1d(192, 96, kernel_size=(1,), stride=(1,))\n",
       "            (5): BatchNorm1d(96, eps=1e-05, momentum=0.1, affine=True, track_running_stats=True)\n",
       "            (6): GELU(approximate=none)\n",
       "          )\n",
       "        )\n",
       "      )\n",
       "      (2): ModuleList(\n",
       "        (0): PreNorm(\n",
       "          (norm): LayerNorm((96,), eps=1e-05, elementwise_affine=True)\n",
       "          (fn): Attention(\n",
       "            (qkv): Linear(in_features=96, out_features=288, bias=False)\n",
       "            (attn_drop): Dropout(p=0.0, inplace=False)\n",
       "            (proj): Linear(in_features=96, out_features=96, bias=True)\n",
       "            (proj_drop): Dropout(p=0.0, inplace=False)\n",
       "          )\n",
       "        )\n",
       "        (1): FeedForward(\n",
       "          (net): Sequential(\n",
       "            (0): Conv1d(96, 192, kernel_size=(1,), stride=(1,))\n",
       "            (1): BatchNorm1d(192, eps=1e-05, momentum=0.1, affine=True, track_running_stats=True)\n",
       "            (2): GELU(approximate=none)\n",
       "            (3): Dropout(p=0.0, inplace=False)\n",
       "            (4): Conv1d(192, 96, kernel_size=(1,), stride=(1,))\n",
       "            (5): BatchNorm1d(96, eps=1e-05, momentum=0.1, affine=True, track_running_stats=True)\n",
       "            (6): GELU(approximate=none)\n",
       "          )\n",
       "        )\n",
       "      )\n",
       "      (3): ModuleList(\n",
       "        (0): PreNorm(\n",
       "          (norm): LayerNorm((96,), eps=1e-05, elementwise_affine=True)\n",
       "          (fn): Attention(\n",
       "            (qkv): Linear(in_features=96, out_features=288, bias=False)\n",
       "            (attn_drop): Dropout(p=0.0, inplace=False)\n",
       "            (proj): Linear(in_features=96, out_features=96, bias=True)\n",
       "            (proj_drop): Dropout(p=0.0, inplace=False)\n",
       "          )\n",
       "        )\n",
       "        (1): FeedForward(\n",
       "          (net): Sequential(\n",
       "            (0): Conv1d(96, 192, kernel_size=(1,), stride=(1,))\n",
       "            (1): BatchNorm1d(192, eps=1e-05, momentum=0.1, affine=True, track_running_stats=True)\n",
       "            (2): GELU(approximate=none)\n",
       "            (3): Dropout(p=0.0, inplace=False)\n",
       "            (4): Conv1d(192, 96, kernel_size=(1,), stride=(1,))\n",
       "            (5): BatchNorm1d(96, eps=1e-05, momentum=0.1, affine=True, track_running_stats=True)\n",
       "            (6): GELU(approximate=none)\n",
       "          )\n",
       "        )\n",
       "      )\n",
       "      (4): ModuleList(\n",
       "        (0): PreNorm(\n",
       "          (norm): LayerNorm((96,), eps=1e-05, elementwise_affine=True)\n",
       "          (fn): Attention(\n",
       "            (qkv): Linear(in_features=96, out_features=288, bias=False)\n",
       "            (attn_drop): Dropout(p=0.0, inplace=False)\n",
       "            (proj): Linear(in_features=96, out_features=96, bias=True)\n",
       "            (proj_drop): Dropout(p=0.0, inplace=False)\n",
       "          )\n",
       "        )\n",
       "        (1): FeedForward(\n",
       "          (net): Sequential(\n",
       "            (0): Conv1d(96, 192, kernel_size=(1,), stride=(1,))\n",
       "            (1): BatchNorm1d(192, eps=1e-05, momentum=0.1, affine=True, track_running_stats=True)\n",
       "            (2): GELU(approximate=none)\n",
       "            (3): Dropout(p=0.0, inplace=False)\n",
       "            (4): Conv1d(192, 96, kernel_size=(1,), stride=(1,))\n",
       "            (5): BatchNorm1d(96, eps=1e-05, momentum=0.1, affine=True, track_running_stats=True)\n",
       "            (6): GELU(approximate=none)\n",
       "          )\n",
       "        )\n",
       "      )\n",
       "      (5): ModuleList(\n",
       "        (0): PreNorm(\n",
       "          (norm): LayerNorm((96,), eps=1e-05, elementwise_affine=True)\n",
       "          (fn): Attention(\n",
       "            (qkv): Linear(in_features=96, out_features=288, bias=False)\n",
       "            (attn_drop): Dropout(p=0.0, inplace=False)\n",
       "            (proj): Linear(in_features=96, out_features=96, bias=True)\n",
       "            (proj_drop): Dropout(p=0.0, inplace=False)\n",
       "          )\n",
       "        )\n",
       "        (1): FeedForward(\n",
       "          (net): Sequential(\n",
       "            (0): Conv1d(96, 192, kernel_size=(1,), stride=(1,))\n",
       "            (1): BatchNorm1d(192, eps=1e-05, momentum=0.1, affine=True, track_running_stats=True)\n",
       "            (2): GELU(approximate=none)\n",
       "            (3): Dropout(p=0.0, inplace=False)\n",
       "            (4): Conv1d(192, 96, kernel_size=(1,), stride=(1,))\n",
       "            (5): BatchNorm1d(96, eps=1e-05, momentum=0.1, affine=True, track_running_stats=True)\n",
       "            (6): GELU(approximate=none)\n",
       "          )\n",
       "        )\n",
       "      )\n",
       "      (6): ModuleList(\n",
       "        (0): PreNorm(\n",
       "          (norm): LayerNorm((96,), eps=1e-05, elementwise_affine=True)\n",
       "          (fn): Attention(\n",
       "            (qkv): Linear(in_features=96, out_features=288, bias=False)\n",
       "            (attn_drop): Dropout(p=0.0, inplace=False)\n",
       "            (proj): Linear(in_features=96, out_features=96, bias=True)\n",
       "            (proj_drop): Dropout(p=0.0, inplace=False)\n",
       "          )\n",
       "        )\n",
       "        (1): FeedForward(\n",
       "          (net): Sequential(\n",
       "            (0): Conv1d(96, 192, kernel_size=(1,), stride=(1,))\n",
       "            (1): BatchNorm1d(192, eps=1e-05, momentum=0.1, affine=True, track_running_stats=True)\n",
       "            (2): GELU(approximate=none)\n",
       "            (3): Dropout(p=0.0, inplace=False)\n",
       "            (4): Conv1d(192, 96, kernel_size=(1,), stride=(1,))\n",
       "            (5): BatchNorm1d(96, eps=1e-05, momentum=0.1, affine=True, track_running_stats=True)\n",
       "            (6): GELU(approximate=none)\n",
       "          )\n",
       "        )\n",
       "      )\n",
       "      (7): ModuleList(\n",
       "        (0): PreNorm(\n",
       "          (norm): LayerNorm((96,), eps=1e-05, elementwise_affine=True)\n",
       "          (fn): Attention(\n",
       "            (qkv): Linear(in_features=96, out_features=288, bias=False)\n",
       "            (attn_drop): Dropout(p=0.0, inplace=False)\n",
       "            (proj): Linear(in_features=96, out_features=96, bias=True)\n",
       "            (proj_drop): Dropout(p=0.0, inplace=False)\n",
       "          )\n",
       "        )\n",
       "        (1): FeedForward(\n",
       "          (net): Sequential(\n",
       "            (0): Conv1d(96, 192, kernel_size=(1,), stride=(1,))\n",
       "            (1): BatchNorm1d(192, eps=1e-05, momentum=0.1, affine=True, track_running_stats=True)\n",
       "            (2): GELU(approximate=none)\n",
       "            (3): Dropout(p=0.0, inplace=False)\n",
       "            (4): Conv1d(192, 96, kernel_size=(1,), stride=(1,))\n",
       "            (5): BatchNorm1d(96, eps=1e-05, momentum=0.1, affine=True, track_running_stats=True)\n",
       "            (6): GELU(approximate=none)\n",
       "          )\n",
       "        )\n",
       "      )\n",
       "      (8): ModuleList(\n",
       "        (0): PreNorm(\n",
       "          (norm): LayerNorm((96,), eps=1e-05, elementwise_affine=True)\n",
       "          (fn): Attention(\n",
       "            (qkv): Linear(in_features=96, out_features=288, bias=False)\n",
       "            (attn_drop): Dropout(p=0.0, inplace=False)\n",
       "            (proj): Linear(in_features=96, out_features=96, bias=True)\n",
       "            (proj_drop): Dropout(p=0.0, inplace=False)\n",
       "          )\n",
       "        )\n",
       "        (1): FeedForward(\n",
       "          (net): Sequential(\n",
       "            (0): Conv1d(96, 192, kernel_size=(1,), stride=(1,))\n",
       "            (1): BatchNorm1d(192, eps=1e-05, momentum=0.1, affine=True, track_running_stats=True)\n",
       "            (2): GELU(approximate=none)\n",
       "            (3): Dropout(p=0.0, inplace=False)\n",
       "            (4): Conv1d(192, 96, kernel_size=(1,), stride=(1,))\n",
       "            (5): BatchNorm1d(96, eps=1e-05, momentum=0.1, affine=True, track_running_stats=True)\n",
       "            (6): GELU(approximate=none)\n",
       "          )\n",
       "        )\n",
       "      )\n",
       "      (9): ModuleList(\n",
       "        (0): PreNorm(\n",
       "          (norm): LayerNorm((96,), eps=1e-05, elementwise_affine=True)\n",
       "          (fn): Attention(\n",
       "            (qkv): Linear(in_features=96, out_features=288, bias=False)\n",
       "            (attn_drop): Dropout(p=0.0, inplace=False)\n",
       "            (proj): Linear(in_features=96, out_features=96, bias=True)\n",
       "            (proj_drop): Dropout(p=0.0, inplace=False)\n",
       "          )\n",
       "        )\n",
       "        (1): FeedForward(\n",
       "          (net): Sequential(\n",
       "            (0): Conv1d(96, 192, kernel_size=(1,), stride=(1,))\n",
       "            (1): BatchNorm1d(192, eps=1e-05, momentum=0.1, affine=True, track_running_stats=True)\n",
       "            (2): GELU(approximate=none)\n",
       "            (3): Dropout(p=0.0, inplace=False)\n",
       "            (4): Conv1d(192, 96, kernel_size=(1,), stride=(1,))\n",
       "            (5): BatchNorm1d(96, eps=1e-05, momentum=0.1, affine=True, track_running_stats=True)\n",
       "            (6): GELU(approximate=none)\n",
       "          )\n",
       "        )\n",
       "      )\n",
       "      (10): ModuleList(\n",
       "        (0): PreNorm(\n",
       "          (norm): LayerNorm((96,), eps=1e-05, elementwise_affine=True)\n",
       "          (fn): Attention(\n",
       "            (qkv): Linear(in_features=96, out_features=288, bias=False)\n",
       "            (attn_drop): Dropout(p=0.0, inplace=False)\n",
       "            (proj): Linear(in_features=96, out_features=96, bias=True)\n",
       "            (proj_drop): Dropout(p=0.0, inplace=False)\n",
       "          )\n",
       "        )\n",
       "        (1): FeedForward(\n",
       "          (net): Sequential(\n",
       "            (0): Conv1d(96, 192, kernel_size=(1,), stride=(1,))\n",
       "            (1): BatchNorm1d(192, eps=1e-05, momentum=0.1, affine=True, track_running_stats=True)\n",
       "            (2): GELU(approximate=none)\n",
       "            (3): Dropout(p=0.0, inplace=False)\n",
       "            (4): Conv1d(192, 96, kernel_size=(1,), stride=(1,))\n",
       "            (5): BatchNorm1d(96, eps=1e-05, momentum=0.1, affine=True, track_running_stats=True)\n",
       "            (6): GELU(approximate=none)\n",
       "          )\n",
       "        )\n",
       "      )\n",
       "      (11): ModuleList(\n",
       "        (0): PreNorm(\n",
       "          (norm): LayerNorm((96,), eps=1e-05, elementwise_affine=True)\n",
       "          (fn): Attention(\n",
       "            (qkv): Linear(in_features=96, out_features=288, bias=False)\n",
       "            (attn_drop): Dropout(p=0.0, inplace=False)\n",
       "            (proj): Linear(in_features=96, out_features=96, bias=True)\n",
       "            (proj_drop): Dropout(p=0.0, inplace=False)\n",
       "          )\n",
       "        )\n",
       "        (1): FeedForward(\n",
       "          (net): Sequential(\n",
       "            (0): Conv1d(96, 192, kernel_size=(1,), stride=(1,))\n",
       "            (1): BatchNorm1d(192, eps=1e-05, momentum=0.1, affine=True, track_running_stats=True)\n",
       "            (2): GELU(approximate=none)\n",
       "            (3): Dropout(p=0.0, inplace=False)\n",
       "            (4): Conv1d(192, 96, kernel_size=(1,), stride=(1,))\n",
       "            (5): BatchNorm1d(96, eps=1e-05, momentum=0.1, affine=True, track_running_stats=True)\n",
       "            (6): GELU(approximate=none)\n",
       "          )\n",
       "        )\n",
       "      )\n",
       "      (12): ModuleList(\n",
       "        (0): PreNorm(\n",
       "          (norm): LayerNorm((96,), eps=1e-05, elementwise_affine=True)\n",
       "          (fn): Attention(\n",
       "            (qkv): Linear(in_features=96, out_features=288, bias=False)\n",
       "            (attn_drop): Dropout(p=0.0, inplace=False)\n",
       "            (proj): Linear(in_features=96, out_features=96, bias=True)\n",
       "            (proj_drop): Dropout(p=0.0, inplace=False)\n",
       "          )\n",
       "        )\n",
       "        (1): FeedForward(\n",
       "          (net): Sequential(\n",
       "            (0): Conv1d(96, 192, kernel_size=(1,), stride=(1,))\n",
       "            (1): BatchNorm1d(192, eps=1e-05, momentum=0.1, affine=True, track_running_stats=True)\n",
       "            (2): GELU(approximate=none)\n",
       "            (3): Dropout(p=0.0, inplace=False)\n",
       "            (4): Conv1d(192, 96, kernel_size=(1,), stride=(1,))\n",
       "            (5): BatchNorm1d(96, eps=1e-05, momentum=0.1, affine=True, track_running_stats=True)\n",
       "            (6): GELU(approximate=none)\n",
       "          )\n",
       "        )\n",
       "      )\n",
       "      (13): ModuleList(\n",
       "        (0): PreNorm(\n",
       "          (norm): LayerNorm((96,), eps=1e-05, elementwise_affine=True)\n",
       "          (fn): Attention(\n",
       "            (qkv): Linear(in_features=96, out_features=288, bias=False)\n",
       "            (attn_drop): Dropout(p=0.0, inplace=False)\n",
       "            (proj): Linear(in_features=96, out_features=96, bias=True)\n",
       "            (proj_drop): Dropout(p=0.0, inplace=False)\n",
       "          )\n",
       "        )\n",
       "        (1): FeedForward(\n",
       "          (net): Sequential(\n",
       "            (0): Conv1d(96, 192, kernel_size=(1,), stride=(1,))\n",
       "            (1): BatchNorm1d(192, eps=1e-05, momentum=0.1, affine=True, track_running_stats=True)\n",
       "            (2): GELU(approximate=none)\n",
       "            (3): Dropout(p=0.0, inplace=False)\n",
       "            (4): Conv1d(192, 96, kernel_size=(1,), stride=(1,))\n",
       "            (5): BatchNorm1d(96, eps=1e-05, momentum=0.1, affine=True, track_running_stats=True)\n",
       "            (6): GELU(approximate=none)\n",
       "          )\n",
       "        )\n",
       "      )\n",
       "      (14): ModuleList(\n",
       "        (0): PreNorm(\n",
       "          (norm): LayerNorm((96,), eps=1e-05, elementwise_affine=True)\n",
       "          (fn): Attention(\n",
       "            (qkv): Linear(in_features=96, out_features=288, bias=False)\n",
       "            (attn_drop): Dropout(p=0.0, inplace=False)\n",
       "            (proj): Linear(in_features=96, out_features=96, bias=True)\n",
       "            (proj_drop): Dropout(p=0.0, inplace=False)\n",
       "          )\n",
       "        )\n",
       "        (1): FeedForward(\n",
       "          (net): Sequential(\n",
       "            (0): Conv1d(96, 192, kernel_size=(1,), stride=(1,))\n",
       "            (1): BatchNorm1d(192, eps=1e-05, momentum=0.1, affine=True, track_running_stats=True)\n",
       "            (2): GELU(approximate=none)\n",
       "            (3): Dropout(p=0.0, inplace=False)\n",
       "            (4): Conv1d(192, 96, kernel_size=(1,), stride=(1,))\n",
       "            (5): BatchNorm1d(96, eps=1e-05, momentum=0.1, affine=True, track_running_stats=True)\n",
       "            (6): GELU(approximate=none)\n",
       "          )\n",
       "        )\n",
       "      )\n",
       "      (15): ModuleList(\n",
       "        (0): PreNorm(\n",
       "          (norm): LayerNorm((96,), eps=1e-05, elementwise_affine=True)\n",
       "          (fn): Attention(\n",
       "            (qkv): Linear(in_features=96, out_features=288, bias=False)\n",
       "            (attn_drop): Dropout(p=0.0, inplace=False)\n",
       "            (proj): Linear(in_features=96, out_features=96, bias=True)\n",
       "            (proj_drop): Dropout(p=0.0, inplace=False)\n",
       "          )\n",
       "        )\n",
       "        (1): FeedForward(\n",
       "          (net): Sequential(\n",
       "            (0): Conv1d(96, 192, kernel_size=(1,), stride=(1,))\n",
       "            (1): BatchNorm1d(192, eps=1e-05, momentum=0.1, affine=True, track_running_stats=True)\n",
       "            (2): GELU(approximate=none)\n",
       "            (3): Dropout(p=0.0, inplace=False)\n",
       "            (4): Conv1d(192, 96, kernel_size=(1,), stride=(1,))\n",
       "            (5): BatchNorm1d(96, eps=1e-05, momentum=0.1, affine=True, track_running_stats=True)\n",
       "            (6): GELU(approximate=none)\n",
       "          )\n",
       "        )\n",
       "      )\n",
       "      (16): ModuleList(\n",
       "        (0): PreNorm(\n",
       "          (norm): LayerNorm((96,), eps=1e-05, elementwise_affine=True)\n",
       "          (fn): Attention(\n",
       "            (qkv): Linear(in_features=96, out_features=288, bias=False)\n",
       "            (attn_drop): Dropout(p=0.0, inplace=False)\n",
       "            (proj): Linear(in_features=96, out_features=96, bias=True)\n",
       "            (proj_drop): Dropout(p=0.0, inplace=False)\n",
       "          )\n",
       "        )\n",
       "        (1): FeedForward(\n",
       "          (net): Sequential(\n",
       "            (0): Conv1d(96, 192, kernel_size=(1,), stride=(1,))\n",
       "            (1): BatchNorm1d(192, eps=1e-05, momentum=0.1, affine=True, track_running_stats=True)\n",
       "            (2): GELU(approximate=none)\n",
       "            (3): Dropout(p=0.0, inplace=False)\n",
       "            (4): Conv1d(192, 96, kernel_size=(1,), stride=(1,))\n",
       "            (5): BatchNorm1d(96, eps=1e-05, momentum=0.1, affine=True, track_running_stats=True)\n",
       "            (6): GELU(approximate=none)\n",
       "          )\n",
       "        )\n",
       "      )\n",
       "      (17): ModuleList(\n",
       "        (0): PreNorm(\n",
       "          (norm): LayerNorm((96,), eps=1e-05, elementwise_affine=True)\n",
       "          (fn): Attention(\n",
       "            (qkv): Linear(in_features=96, out_features=288, bias=False)\n",
       "            (attn_drop): Dropout(p=0.0, inplace=False)\n",
       "            (proj): Linear(in_features=96, out_features=96, bias=True)\n",
       "            (proj_drop): Dropout(p=0.0, inplace=False)\n",
       "          )\n",
       "        )\n",
       "        (1): FeedForward(\n",
       "          (net): Sequential(\n",
       "            (0): Conv1d(96, 192, kernel_size=(1,), stride=(1,))\n",
       "            (1): BatchNorm1d(192, eps=1e-05, momentum=0.1, affine=True, track_running_stats=True)\n",
       "            (2): GELU(approximate=none)\n",
       "            (3): Dropout(p=0.0, inplace=False)\n",
       "            (4): Conv1d(192, 96, kernel_size=(1,), stride=(1,))\n",
       "            (5): BatchNorm1d(96, eps=1e-05, momentum=0.1, affine=True, track_running_stats=True)\n",
       "            (6): GELU(approximate=none)\n",
       "          )\n",
       "        )\n",
       "      )\n",
       "    )\n",
       "  )\n",
       "  (post_transformer_ln): LayerNorm((96,), eps=1e-05, elementwise_affine=True)\n",
       "  (cls_layer): OutputLayer(\n",
       "    (net): Sequential(\n",
       "      (0): Linear(in_features=96, out_features=1, bias=True)\n",
       "    )\n",
       "  )\n",
       ")"
      ]
     },
     "execution_count": 7,
     "metadata": {},
     "output_type": "execute_result"
    }
   ],
   "source": [
    "net = vit1.VisionTransformer()\n",
    "net.to(device)"
   ]
  },
  {
   "cell_type": "code",
   "execution_count": 8,
   "id": "d65c171c-f082-4448-abe4-1444958ed1f2",
   "metadata": {},
   "outputs": [
    {
     "name": "stdout",
     "output_type": "stream",
     "text": [
      "1373185\n"
     ]
    }
   ],
   "source": [
    "total_params = sum(p.numel() for p in net.parameters())\n",
    "print(total_params)"
   ]
  },
  {
   "cell_type": "code",
   "execution_count": 9,
   "id": "c045d6ac-76ec-42ba-9f9a-9b65535f0472",
   "metadata": {},
   "outputs": [],
   "source": [
    "# loss_function = torch.nn.BCELoss()\n",
    "loss_function = torch.nn.L1Loss()"
   ]
  },
  {
   "cell_type": "code",
   "execution_count": 10,
   "id": "48e4a546-8017-40d6-baf6-50a4cbb409e6",
   "metadata": {},
   "outputs": [],
   "source": [
    "import torch.optim as optim\n",
    "\n",
    "optimizer = optim.Adam(net.parameters(), lr=0.001, weight_decay=1e-5)"
   ]
  },
  {
   "cell_type": "code",
   "execution_count": 11,
   "id": "63c625bb-d472-4d76-9c4f-67f943f2c13f",
   "metadata": {},
   "outputs": [],
   "source": [
    "trainloss = []\n",
    "testloss = []"
   ]
  },
  {
   "cell_type": "code",
   "execution_count": 12,
   "id": "d751baee-363b-411e-89cb-f9c93da0678e",
   "metadata": {},
   "outputs": [],
   "source": [
    "EPOCHS = 10\n",
    "count = 0\n",
    "\n",
    "lowestLoss = 0\n",
    "lowestNet = 0"
   ]
  },
  {
   "cell_type": "code",
   "execution_count": 13,
   "id": "alternate-wiring",
   "metadata": {
    "tags": []
   },
   "outputs": [
    {
     "data": {
      "application/vnd.jupyter.widget-view+json": {
       "model_id": "0d831fce49fd4346aad540dc411c9417",
       "version_major": 2,
       "version_minor": 0
      },
      "text/plain": [
       "  0%|          | 0/10 [00:00<?, ?it/s]"
      ]
     },
     "metadata": {},
     "output_type": "display_data"
    },
    {
     "name": "stdout",
     "output_type": "stream",
     "text": [
      "100% Completed\n"
     ]
    }
   ],
   "source": [
    "from tqdm.notebook import tqdm\n",
    "\n",
    "for epoch in tqdm(range(EPOCHS)):    \n",
    "    for data in trainset:\n",
    "        X, y = data\n",
    "        X = X.to(device)\n",
    "        y = y.to(device)\n",
    "\n",
    "        net.zero_grad()\n",
    "        output = net(X)\n",
    "        loss = loss_function(output, y)\n",
    "        loss.backward()\n",
    "        optimizer.step()\n",
    "        \n",
    "    count += 1 \n",
    "\n",
    "    if count % 1 == 0:\n",
    "        trainloss.append(getTrainAccuracy(net, trainset))\n",
    "\n",
    "        testLoss = getAccuracy(net, testset)\n",
    "        testloss.append(testLoss)\n",
    "\n",
    "        if testLoss > lowestLoss:\n",
    "            lowestLoss = testLoss\n",
    "            lowestNet = epoch\n",
    "\n",
    "            torch.save(net, f\"nets/net{epoch}.pt\")\n",
    "\n",
    "\n",
    "print(\"100% Completed\")"
   ]
  },
  {
   "cell_type": "code",
   "execution_count": 14,
   "id": "e47ed27e-8189-4029-8a58-5c2b6df6d5bd",
   "metadata": {
    "tags": []
   },
   "outputs": [
    {
     "name": "stdout",
     "output_type": "stream",
     "text": [
      "5\n",
      "0.8367346938775511\n"
     ]
    }
   ],
   "source": [
    "print(lowestNet)\n",
    "print(lowestLoss)"
   ]
  },
  {
   "cell_type": "code",
   "execution_count": 15,
   "id": "ef936ec7-78f7-46f3-a42b-2e1787d91c64",
   "metadata": {},
   "outputs": [],
   "source": [
    "# lowestNet = 99"
   ]
  },
  {
   "cell_type": "code",
   "execution_count": 16,
   "id": "ad15c882-791f-4f2c-865c-62226145dfdc",
   "metadata": {},
   "outputs": [],
   "source": [
    "net = torch.load(f\"nets/net{lowestNet}.pt\")\n",
    "# net = torch.load(f\"anm2.pt\")"
   ]
  },
  {
   "cell_type": "code",
   "execution_count": 17,
   "id": "e708ea8a-6bd1-4160-be33-c6a28252f6c7",
   "metadata": {
    "tags": []
   },
   "outputs": [
    {
     "name": "stdout",
     "output_type": "stream",
     "text": [
      "0.8367346938775511\n"
     ]
    }
   ],
   "source": [
    "pos = 0\n",
    "neg = 0\n",
    "\n",
    "wrong = 0\n",
    "right = 0\n",
    "total = 0\n",
    "\n",
    "with torch.no_grad():\n",
    "    for data in testset:\n",
    "        X, y = data\n",
    "\n",
    "        X = X.to(device)\n",
    "        y = y.to(device)\n",
    "        \n",
    "        net.eval()\n",
    "\n",
    "        output = torch.clamp(net(X), min=0.0, max=1.0)\n",
    "\n",
    "        for i in range(len(output)):\n",
    "            if y[i][0] == round(float(output[i][0])):\n",
    "                right += 1\n",
    "            else:\n",
    "                wrong += 1\n",
    "\n",
    "            total += 1\n",
    "\n",
    "print(right / total)"
   ]
  },
  {
   "cell_type": "code",
   "execution_count": 18,
   "id": "49126299-1c59-4cdd-baf3-21de69c4a725",
   "metadata": {},
   "outputs": [
    {
     "data": {
      "text/plain": [
       "tensor(0.9946, device='cuda:0')"
      ]
     },
     "execution_count": 18,
     "metadata": {},
     "output_type": "execute_result"
    }
   ],
   "source": [
    "output[i][0]"
   ]
  },
  {
   "cell_type": "code",
   "execution_count": 19,
   "id": "7d0337e0-3743-48ef-9a53-05ad01e278c7",
   "metadata": {},
   "outputs": [],
   "source": [
    "RES = 1000"
   ]
  },
  {
   "cell_type": "code",
   "execution_count": 20,
   "id": "4ad1b8c9-2938-44ee-88a5-bd7e86ec3862",
   "metadata": {},
   "outputs": [],
   "source": [
    "falsePos = [0] * RES\n",
    "truePos = [0] * RES\n",
    "falseNeg = [0] * RES\n",
    "trueNeg = [0] * RES"
   ]
  },
  {
   "cell_type": "code",
   "execution_count": 21,
   "id": "rising-scientist",
   "metadata": {},
   "outputs": [
    {
     "data": {
      "application/vnd.jupyter.widget-view+json": {
       "model_id": "fc009053db304e3799b695e4ffb7ff3e",
       "version_major": 2,
       "version_minor": 0
      },
      "text/plain": [
       "  0%|          | 0/5 [00:00<?, ?it/s]"
      ]
     },
     "metadata": {},
     "output_type": "display_data"
    }
   ],
   "source": [
    "from tqdm.notebook import tqdm\n",
    "\n",
    "with torch.no_grad():\n",
    "    for data in tqdm(testset):\n",
    "        X, y = data\n",
    "        \n",
    "        X = X.to(device)\n",
    "        y = y.to(device)\n",
    "        \n",
    "        net.eval()\n",
    "\n",
    "        output = net(X)\n",
    "        \n",
    "        for i in range(RES):\n",
    "            loss = wrongAns(output, y, 2 * i / (RES - 1) - 0.5)\n",
    "            truePos[i] += loss[0]\n",
    "            falsePos[i] += loss[1]\n",
    "            trueNeg[i] += loss[2]\n",
    "            falseNeg[i] += loss[3]"
   ]
  },
  {
   "cell_type": "code",
   "execution_count": 22,
   "id": "d25d45a6-1228-475b-bcf6-993104292401",
   "metadata": {},
   "outputs": [
    {
     "name": "stdout",
     "output_type": "stream",
     "text": [
      "Accuracy: 0.8367346938775511\n",
      "248\n"
     ]
    },
    {
     "data": {
      "image/png": "[encoded data removed]",
      "text/plain": [
       "<Figure size 640x480 with 1 Axes>"
      ]
     },
     "metadata": {},
     "output_type": "display_data"
    }
   ],
   "source": [
    "hAcu = 0\n",
    "\n",
    "falsePosRate = []\n",
    "truePosRate = []\n",
    "\n",
    "for i in range(len(truePos)):\n",
    "    falsePosRate.append(falsePos[i] / (falsePos[i] + trueNeg[i]))\n",
    "    truePosRate.append(truePos[i] / (truePos[i] + falseNeg[i]))\n",
    "\n",
    "for i in range(RES):\n",
    "    if hAcu < truePos[i] + trueNeg[i]:\n",
    "        hAcu = truePos[i] + trueNeg[i]\n",
    "        lowestIndex = i\n",
    "\n",
    "print(f\"Accuracy: {(truePos[lowestIndex] + trueNeg[lowestIndex]) / (falsePos[0] + falseNeg[0] + truePos[0] + trueNeg[0])}\")\n",
    "print(lowestIndex)\n",
    "    \n",
    "plt.plot(falsePosRate, truePosRate)\n",
    "plt.grid()"
   ]
  },
  {
   "cell_type": "code",
   "execution_count": 23,
   "id": "3c8b679e-aca0-4f71-8704-f0190e516276",
   "metadata": {},
   "outputs": [
    {
     "name": "stdout",
     "output_type": "stream",
     "text": [
      "0.8135451505016723\n"
     ]
    }
   ],
   "source": [
    "import sklearn.metrics\n",
    "\n",
    "auc = sklearn.metrics.auc(falsePosRate, truePosRate)\n",
    "\n",
    "print(auc)"
   ]
  },
  {
   "cell_type": "code",
   "execution_count": 24,
   "id": "center-impression",
   "metadata": {},
   "outputs": [
    {
     "data": {
      "image/png": "[encoded data removed]",
      "text/plain": [
       "<Figure size 640x480 with 1 Axes>"
      ]
     },
     "metadata": {},
     "output_type": "display_data"
    }
   ],
   "source": [
    "plt.plot(testloss)\n",
    "plt.plot(trainloss)\n",
    "plt.ylim([0.0, 1.0])\n",
    "plt.grid()"
   ]
  },
  {
   "cell_type": "code",
   "execution_count": 25,
   "id": "million-updating",
   "metadata": {},
   "outputs": [
    {
     "data": {
      "image/png": "[encoded data removed]",
      "text/plain": [
       "<Figure size 640x480 with 1 Axes>"
      ]
     },
     "metadata": {},
     "output_type": "display_data"
    }
   ],
   "source": [
    "avgTrainLoss = getAvgLoss(trainloss)\n",
    "avgTestLoss = getAvgLoss(testloss)\n",
    "\n",
    "plt.plot(avgTestLoss)\n",
    "plt.plot(avgTrainLoss)\n",
    "plt.grid()"
   ]
  },
  {
   "cell_type": "code",
   "execution_count": 26,
   "id": "b8ff8edf-98e0-4a6b-b34a-bb1a9ce2521b",
   "metadata": {},
   "outputs": [],
   "source": [
    "data = iter(testset)"
   ]
  },
  {
   "cell_type": "code",
   "execution_count": 27,
   "id": "removed-article",
   "metadata": {},
   "outputs": [
    {
     "name": "stdout",
     "output_type": "stream",
     "text": [
      "tensor([0.], device='cuda:0')\n"
     ]
    },
    {
     "data": {
      "text/plain": [
       "<matplotlib.image.AxesImage at 0x2001201f940>"
      ]
     },
     "execution_count": 27,
     "metadata": {},
     "output_type": "execute_result"
    },
    {
     "data": {
      "image/png": "[encoded data removed]",
      "text/plain": [
       "<Figure size 640x480 with 1 Axes>"
      ]
     },
     "metadata": {},
     "output_type": "display_data"
    }
   ],
   "source": [
    "X, y = data.next()\n",
    "\n",
    "X = X.to(device)\n",
    "y = y.to(device)\n",
    "        \n",
    "output = net(X)\n",
    "\n",
    "print(y[0])\n",
    "plt.imshow(X[0].view((32, 32)).cpu())"
   ]
  },
  {
   "cell_type": "code",
   "execution_count": 28,
   "id": "d3a1f1d3-58c6-4304-8378-e29f9d967ee8",
   "metadata": {},
   "outputs": [],
   "source": [
    "i = 0"
   ]
  },
  {
   "cell_type": "code",
   "execution_count": 29,
   "id": "0adbef04-aa51-4295-854c-63a72b350f85",
   "metadata": {},
   "outputs": [
    {
     "name": "stdout",
     "output_type": "stream",
     "text": [
      "tensor([0.], device='cuda:0')\n",
      "tensor([-0.0053], device='cuda:0', grad_fn=<SelectBackward0>)\n"
     ]
    },
    {
     "data": {
      "text/plain": [
       "1"
      ]
     },
     "execution_count": 29,
     "metadata": {},
     "output_type": "execute_result"
    },
    {
     "data": {
      "image/png": "[encoded data removed]",
      "text/plain": [
       "<Figure size 640x480 with 1 Axes>"
      ]
     },
     "metadata": {},
     "output_type": "display_data"
    }
   ],
   "source": [
    "print(y[i])\n",
    "print(output[i])\n",
    "plt.imshow(X[i].view((32, 32)).cpu())\n",
    "\n",
    "i += 1\n",
    "i %= 100\n",
    "\n",
    "i"
   ]
  },
  {
   "cell_type": "code",
   "execution_count": 30,
   "id": "d2aa0380-2713-4244-92dc-fcac9d04390f",
   "metadata": {},
   "outputs": [
    {
     "name": "stdout",
     "output_type": "stream",
     "text": [
      "tensor([0., 0., 0., 0., 1., 0., 0., 0., 1., 1.], device='cuda:0')\n"
     ]
    }
   ],
   "source": [
    "print(y.view(-1))"
   ]
  },
  {
   "cell_type": "code",
   "execution_count": 31,
   "id": "5a835a5d-de00-445e-9e58-b9dca249aff5",
   "metadata": {},
   "outputs": [
    {
     "name": "stdout",
     "output_type": "stream",
     "text": [
      "tensor([-0.0053, -0.0053, -0.0053, -0.0052,  0.9953,  0.9961, -0.0057, -0.0054,\n",
      "        -0.0053,  0.9956], device='cuda:0', grad_fn=<ViewBackward0>)\n"
     ]
    }
   ],
   "source": [
    "print(output.view(-1))\n"
   ]
  },
  {
   "cell_type": "code",
   "execution_count": 32,
   "id": "186dee92-403c-4d96-a855-bc0b9133a389",
   "metadata": {},
   "outputs": [
    {
     "name": "stdout",
     "output_type": "stream",
     "text": [
      "tensor([[[[ 0.5640,  0.6523,  0.6311,  ...,  0.6100, -0.0611,  0.2601],\n",
      "          [ 0.5453,  0.5545,  0.5619,  ...,  0.6495,  0.4448,  0.2624],\n",
      "          [ 0.3911,  0.5828,  0.4115,  ...,  0.4010,  0.5224,  0.2240],\n",
      "          ...,\n",
      "          [ 0.2462,  0.0618,  0.9520,  ...,  0.4309,  0.8784,  0.4008],\n",
      "          [ 0.8430,  0.5490,  0.3290,  ...,  0.2089,  0.3319,  0.3849],\n",
      "          [ 0.5124,  0.5766,  0.4868,  ...,  0.3287,  0.5545,  0.4294]]],\n",
      "\n",
      "\n",
      "        [[[ 0.3039, -0.0451,  0.6269,  ...,  0.5492,  0.2357,  0.5315],\n",
      "          [ 0.6016,  0.5554,  0.8449,  ..., -0.0635,  0.6606,  0.5467],\n",
      "          [ 0.2321,  0.2854,  0.7089,  ...,  0.4617,  0.7809,  0.2895],\n",
      "          ...,\n",
      "          [ 0.7490,  0.5032,  0.1949,  ...,  0.5190,  0.4202,  0.5126],\n",
      "          [ 0.4880,  0.3368,  0.3779,  ...,  0.2692,  0.9404,  0.5819],\n",
      "          [ 0.3971,  0.2476,  0.0581,  ...,  0.4534,  0.3059,  0.6161]]],\n",
      "\n",
      "\n",
      "        [[[ 0.3024,  0.3424,  0.3016,  ...,  0.5481,  0.2237,  0.5688],\n",
      "          [ 0.2680,  0.2323,  0.3279,  ...,  0.7492,  0.5890,  0.4474],\n",
      "          [-0.0883,  0.7226,  0.5893,  ...,  0.5060,  0.3198,  0.5629],\n",
      "          ...,\n",
      "          [ 0.3452,  0.5751,  0.3580,  ...,  0.5737,  0.3241,  0.9392],\n",
      "          [ 0.3448,  0.4082,  0.4919,  ...,  0.2474,  0.7682,  0.7764],\n",
      "          [ 0.3821,  0.2956,  0.2079,  ...,  0.2362,  0.4560,  0.6309]]],\n",
      "\n",
      "\n",
      "        ...,\n",
      "\n",
      "\n",
      "        [[[ 0.5397,  0.5447,  0.4310,  ...,  0.2479,  0.4903,  0.3686],\n",
      "          [ 0.5382,  0.8202,  0.3522,  ...,  0.3788,  0.6184,  0.2326],\n",
      "          [ 0.1274,  0.6221,  0.6403,  ...,  0.3982,  0.8521,  0.4995],\n",
      "          ...,\n",
      "          [ 0.8785,  0.4469,  0.3655,  ...,  0.5194,  0.5963,  0.4583],\n",
      "          [ 0.5251,  0.7040,  0.6947,  ...,  0.2401,  0.2285,  0.5596],\n",
      "          [ 0.7270,  0.4762,  0.4344,  ...,  0.1786,  0.4874,  0.4632]]],\n",
      "\n",
      "\n",
      "        [[[ 0.5855,  0.5006,  0.2680,  ...,  0.4677,  0.5873,  0.4741],\n",
      "          [ 0.6272,  0.3956,  0.1913,  ...,  0.3082,  0.6257,  0.4078],\n",
      "          [ 0.5519,  0.4331,  0.4900,  ...,  0.3627,  0.5139,  0.2829],\n",
      "          ...,\n",
      "          [ 0.6953,  0.3930,  0.6183,  ...,  0.9659,  0.3046,  0.1806],\n",
      "          [ 0.7130,  0.2928,  0.7306,  ...,  0.3658,  0.5958,  0.4565],\n",
      "          [ 0.4487,  0.7065,  0.1687,  ...,  0.3658,  0.4451,  0.5025]]],\n",
      "\n",
      "\n",
      "        [[[ 0.5701,  0.6208,  0.5703,  ...,  1.0079,  0.9805,  0.6400],\n",
      "          [ 0.8220,  0.4152,  0.7342,  ...,  0.8440,  0.8500,  0.7189],\n",
      "          [ 0.7664,  0.4393,  0.6015,  ...,  0.5907,  0.4915,  0.8249],\n",
      "          ...,\n",
      "          [ 0.6661,  0.7566,  0.4553,  ...,  0.9957,  0.8561,  0.5661],\n",
      "          [ 0.9970,  0.6386,  0.7446,  ...,  0.6779,  0.8127,  1.1213],\n",
      "          [ 0.4809,  0.8212,  0.7554,  ...,  0.5206,  0.5227,  1.0549]]]],\n",
      "       device='cuda:0')\n"
     ]
    }
   ],
   "source": [
    "print(X)"
   ]
  },
  {
   "cell_type": "code",
   "execution_count": null,
   "id": "ffd4529b-f2cc-41db-a82c-f24d796be412",
   "metadata": {},
   "outputs": [],
   "source": []
  },
  {
   "cell_type": "code",
   "execution_count": 33,
   "id": "4e18b9a2-1fff-42f1-bb17-986b644d9022",
   "metadata": {},
   "outputs": [
    {
     "data": {
      "text/plain": [
       "40"
      ]
     },
     "execution_count": 33,
     "metadata": {},
     "output_type": "execute_result"
    }
   ],
   "source": [
    "len(trainset)"
   ]
  },
  {
   "cell_type": "code",
   "execution_count": null,
   "id": "df7d5bcb-7d11-4864-83d2-a3ac2fd3c49e",
   "metadata": {},
   "outputs": [],
   "source": []
  }
 ],
 "metadata": {
  "kernelspec": {
   "display_name": "Python 3 (ipykernel)",
   "language": "python",
   "name": "python3"
  },
  "language_info": {
   "codemirror_mode": {
    "name": "ipython",
    "version": 3
   },
   "file_extension": ".py",
   "mimetype": "text/x-python",
   "name": "python",
   "nbconvert_exporter": "python",
   "pygments_lexer": "ipython3",
   "version": "3.9.5"
  }
 },
 "nbformat": 4,
 "nbformat_minor": 5
}
