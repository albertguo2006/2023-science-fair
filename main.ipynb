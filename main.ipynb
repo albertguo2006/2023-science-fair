{
 "cells": [
  {
   "cell_type": "code",
   "execution_count": 1,
   "id": "worthy-adventure",
   "metadata": {},
   "outputs": [
    {
     "name": "stderr",
     "output_type": "stream",
     "text": [
      "c:\\programdata\\miniconda3\\lib\\site-packages\\tqdm\\auto.py:22: TqdmWarning: IProgress not found. Please update jupyter and ipywidgets. See https://ipywidgets.readthedocs.io/en/stable/user_install.html\n",
      "  from .autonotebook import tqdm as notebook_tqdm\n"
     ]
    }
   ],
   "source": [
    "import numpy as np\n",
    "import matplotlib.pyplot as plt\n",
    "import torch\n",
    "import torchvision\n",
    "from PIL import Image\n",
    "from torch import nn, Tensor\n",
    "import torch.nn.functional as F\n",
    "import math\n",
    "from typing import Tuple\n",
    "from torch.nn import TransformerEncoder, TransformerEncoderLayer\n",
    "from simpletransformers.classification import ClassificationModel, ClassificationArgs\n",
    "import pandas as pd\n",
    "import logging\n",
    "\n",
    "import vit\n",
    "from helper import *"
   ]
  },
  {
   "cell_type": "code",
   "execution_count": 2,
   "id": "f5b6d242-acad-4baa-a3cb-bc066d321373",
   "metadata": {},
   "outputs": [],
   "source": [
    "USE_CUDA = True"
   ]
  },
  {
   "cell_type": "code",
   "execution_count": 3,
   "id": "0e2bfece-e5ca-45e2-9776-6aff05b2a5cc",
   "metadata": {},
   "outputs": [
    {
     "name": "stdout",
     "output_type": "stream",
     "text": [
      "Running on the GPU\n"
     ]
    }
   ],
   "source": [
    "if torch.cuda.is_available() and USE_CUDA == True:\n",
    "    device = torch.device(\"cuda:0\")\n",
    "    print(\"Running on the GPU\")\n",
    "else:\n",
    "    device = torch.device(\"cpu\")\n",
    "    print(\"Running on the CPU\")"
   ]
  },
  {
   "cell_type": "code",
   "execution_count": 4,
   "id": "5e4625b6-05c9-494b-b6f8-1c1b25e82633",
   "metadata": {},
   "outputs": [],
   "source": [
    "train = geneDataset(\"train\")\n",
    "test = geneDataset(\"test\")"
   ]
  },
  {
   "cell_type": "code",
   "execution_count": 5,
   "id": "94a7712f-62a8-4a01-b22e-61aa5c5e9e28",
   "metadata": {},
   "outputs": [],
   "source": [
    "trainset = torch.utils.data.DataLoader(train, batch_size=40, shuffle=True)\n",
    "testset = torch.utils.data.DataLoader(test, batch_size=40, shuffle=True)"
   ]
  },
  {
   "cell_type": "code",
   "execution_count": 6,
   "id": "de82e425-e9af-4032-a5c8-d080fa9dd49f",
   "metadata": {},
   "outputs": [
    {
     "name": "stdout",
     "output_type": "stream",
     "text": [
      "variable not yet declared\n"
     ]
    },
    {
     "data": {
      "text/plain": [
       "0"
      ]
     },
     "execution_count": 6,
     "metadata": {},
     "output_type": "execute_result"
    }
   ],
   "source": [
    "import gc\n",
    "\n",
    "try:\n",
    "    del net\n",
    "    del X\n",
    "    del y\n",
    "    \n",
    "except:\n",
    "    print(\"variable not yet declared\")\n",
    "\n",
    "gc.collect()"
   ]
  },
  {
   "cell_type": "code",
   "execution_count": 7,
   "id": "d48e992a-52b4-4dcd-a107-42664d8244d6",
   "metadata": {},
   "outputs": [],
   "source": [
    "class Net(nn.Module):\n",
    "    def __init__(self):\n",
    "        super().__init__()\n",
    "        self.conv1 = nn.Conv2d(1, 6, 5)\n",
    "        self.pool = nn.MaxPool2d(2, 2)\n",
    "        self.conv2 = nn.Conv2d(6, 16, 5)\n",
    "        self.fc1 = nn.Linear(16 * 5 * 5, 120)\n",
    "        self.fc2 = nn.Linear(120, 84)\n",
    "        self.fc3 = nn.Linear(84, 2)\n",
    "\n",
    "    def forward(self, x):\n",
    "        x = self.pool(F.relu(self.conv1(x)))\n",
    "        x = self.pool(F.relu(self.conv2(x)))\n",
    "        x = torch.flatten(x, 1) # flatten all dimensions except batch\n",
    "        x = F.relu(self.fc1(x))\n",
    "        x = F.relu(self.fc2(x))\n",
    "        x = self.fc3(x)\n",
    "        return x.type(torch.FloatTensor)\n"
   ]
  },
  {
   "cell_type": "code",
   "execution_count": 8,
   "id": "cdd2f98d-b8e4-4ae3-b5ee-3a1c85c453a7",
   "metadata": {},
   "outputs": [
    {
     "data": {
      "text/plain": [
       "VisionTransformer(\n",
       "  (embedding_layer): EmbeddingStem(\n",
       "    (projection): Sequential(\n",
       "      (0): Conv2d(1, 96, kernel_size=(16, 16), stride=(2, 2), padding=(3, 3), bias=False)\n",
       "      (1): BatchNorm2d(96, eps=1e-05, momentum=0.1, affine=True, track_running_stats=True)\n",
       "      (2): ReLU(inplace=True)\n",
       "      (3): Conv2d(96, 96, kernel_size=(6, 6), stride=(1, 1), padding=(1, 1), bias=False)\n",
       "      (4): BatchNorm2d(96, eps=1e-05, momentum=0.1, affine=True, track_running_stats=True)\n",
       "      (5): ReLU(inplace=True)\n",
       "      (6): Conv2d(96, 96, kernel_size=(4, 4), stride=(1, 1), padding=(1, 1), bias=False)\n",
       "      (7): BatchNorm2d(96, eps=1e-05, momentum=0.1, affine=True, track_running_stats=True)\n",
       "      (8): ReLU(inplace=True)\n",
       "      (9): Conv2d(96, 192, kernel_size=(2, 2), stride=(2, 2))\n",
       "    )\n",
       "  )\n",
       "  (transformer): Transformer(\n",
       "    (layers): ModuleList(\n",
       "      (0): ModuleList(\n",
       "        (0): PreNorm(\n",
       "          (norm): LayerNorm((192,), eps=1e-05, elementwise_affine=True)\n",
       "          (fn): Attention(\n",
       "            (qkv): Linear(in_features=192, out_features=576, bias=True)\n",
       "            (attn_drop): Dropout(p=0.0, inplace=False)\n",
       "            (proj): Linear(in_features=192, out_features=192, bias=True)\n",
       "            (proj_drop): Dropout(p=0.0, inplace=False)\n",
       "          )\n",
       "        )\n",
       "        (1): FeedForward(\n",
       "          (net): Sequential(\n",
       "            (0): Conv1d(192, 384, kernel_size=(1,), stride=(1,))\n",
       "            (1): BatchNorm1d(384, eps=1e-05, momentum=0.1, affine=True, track_running_stats=True)\n",
       "            (2): GELU(approximate=none)\n",
       "            (3): Dropout(p=0.0, inplace=False)\n",
       "            (4): Conv1d(384, 192, kernel_size=(1,), stride=(1,))\n",
       "            (5): BatchNorm1d(192, eps=1e-05, momentum=0.1, affine=True, track_running_stats=True)\n",
       "            (6): GELU(approximate=none)\n",
       "          )\n",
       "        )\n",
       "      )\n",
       "      (1): ModuleList(\n",
       "        (0): PreNorm(\n",
       "          (norm): LayerNorm((192,), eps=1e-05, elementwise_affine=True)\n",
       "          (fn): Attention(\n",
       "            (qkv): Linear(in_features=192, out_features=576, bias=True)\n",
       "            (attn_drop): Dropout(p=0.0, inplace=False)\n",
       "            (proj): Linear(in_features=192, out_features=192, bias=True)\n",
       "            (proj_drop): Dropout(p=0.0, inplace=False)\n",
       "          )\n",
       "        )\n",
       "        (1): FeedForward(\n",
       "          (net): Sequential(\n",
       "            (0): Conv1d(192, 384, kernel_size=(1,), stride=(1,))\n",
       "            (1): BatchNorm1d(384, eps=1e-05, momentum=0.1, affine=True, track_running_stats=True)\n",
       "            (2): GELU(approximate=none)\n",
       "            (3): Dropout(p=0.0, inplace=False)\n",
       "            (4): Conv1d(384, 192, kernel_size=(1,), stride=(1,))\n",
       "            (5): BatchNorm1d(192, eps=1e-05, momentum=0.1, affine=True, track_running_stats=True)\n",
       "            (6): GELU(approximate=none)\n",
       "          )\n",
       "        )\n",
       "      )\n",
       "      (2): ModuleList(\n",
       "        (0): PreNorm(\n",
       "          (norm): LayerNorm((192,), eps=1e-05, elementwise_affine=True)\n",
       "          (fn): Attention(\n",
       "            (qkv): Linear(in_features=192, out_features=576, bias=True)\n",
       "            (attn_drop): Dropout(p=0.0, inplace=False)\n",
       "            (proj): Linear(in_features=192, out_features=192, bias=True)\n",
       "            (proj_drop): Dropout(p=0.0, inplace=False)\n",
       "          )\n",
       "        )\n",
       "        (1): FeedForward(\n",
       "          (net): Sequential(\n",
       "            (0): Conv1d(192, 384, kernel_size=(1,), stride=(1,))\n",
       "            (1): BatchNorm1d(384, eps=1e-05, momentum=0.1, affine=True, track_running_stats=True)\n",
       "            (2): GELU(approximate=none)\n",
       "            (3): Dropout(p=0.0, inplace=False)\n",
       "            (4): Conv1d(384, 192, kernel_size=(1,), stride=(1,))\n",
       "            (5): BatchNorm1d(192, eps=1e-05, momentum=0.1, affine=True, track_running_stats=True)\n",
       "            (6): GELU(approximate=none)\n",
       "          )\n",
       "        )\n",
       "      )\n",
       "      (3): ModuleList(\n",
       "        (0): PreNorm(\n",
       "          (norm): LayerNorm((192,), eps=1e-05, elementwise_affine=True)\n",
       "          (fn): Attention(\n",
       "            (qkv): Linear(in_features=192, out_features=576, bias=True)\n",
       "            (attn_drop): Dropout(p=0.0, inplace=False)\n",
       "            (proj): Linear(in_features=192, out_features=192, bias=True)\n",
       "            (proj_drop): Dropout(p=0.0, inplace=False)\n",
       "          )\n",
       "        )\n",
       "        (1): FeedForward(\n",
       "          (net): Sequential(\n",
       "            (0): Conv1d(192, 384, kernel_size=(1,), stride=(1,))\n",
       "            (1): BatchNorm1d(384, eps=1e-05, momentum=0.1, affine=True, track_running_stats=True)\n",
       "            (2): GELU(approximate=none)\n",
       "            (3): Dropout(p=0.0, inplace=False)\n",
       "            (4): Conv1d(384, 192, kernel_size=(1,), stride=(1,))\n",
       "            (5): BatchNorm1d(192, eps=1e-05, momentum=0.1, affine=True, track_running_stats=True)\n",
       "            (6): GELU(approximate=none)\n",
       "          )\n",
       "        )\n",
       "      )\n",
       "      (4): ModuleList(\n",
       "        (0): PreNorm(\n",
       "          (norm): LayerNorm((192,), eps=1e-05, elementwise_affine=True)\n",
       "          (fn): Attention(\n",
       "            (qkv): Linear(in_features=192, out_features=576, bias=True)\n",
       "            (attn_drop): Dropout(p=0.0, inplace=False)\n",
       "            (proj): Linear(in_features=192, out_features=192, bias=True)\n",
       "            (proj_drop): Dropout(p=0.0, inplace=False)\n",
       "          )\n",
       "        )\n",
       "        (1): FeedForward(\n",
       "          (net): Sequential(\n",
       "            (0): Conv1d(192, 384, kernel_size=(1,), stride=(1,))\n",
       "            (1): BatchNorm1d(384, eps=1e-05, momentum=0.1, affine=True, track_running_stats=True)\n",
       "            (2): GELU(approximate=none)\n",
       "            (3): Dropout(p=0.0, inplace=False)\n",
       "            (4): Conv1d(384, 192, kernel_size=(1,), stride=(1,))\n",
       "            (5): BatchNorm1d(192, eps=1e-05, momentum=0.1, affine=True, track_running_stats=True)\n",
       "            (6): GELU(approximate=none)\n",
       "          )\n",
       "        )\n",
       "      )\n",
       "      (5): ModuleList(\n",
       "        (0): PreNorm(\n",
       "          (norm): LayerNorm((192,), eps=1e-05, elementwise_affine=True)\n",
       "          (fn): Attention(\n",
       "            (qkv): Linear(in_features=192, out_features=576, bias=True)\n",
       "            (attn_drop): Dropout(p=0.0, inplace=False)\n",
       "            (proj): Linear(in_features=192, out_features=192, bias=True)\n",
       "            (proj_drop): Dropout(p=0.0, inplace=False)\n",
       "          )\n",
       "        )\n",
       "        (1): FeedForward(\n",
       "          (net): Sequential(\n",
       "            (0): Conv1d(192, 384, kernel_size=(1,), stride=(1,))\n",
       "            (1): BatchNorm1d(384, eps=1e-05, momentum=0.1, affine=True, track_running_stats=True)\n",
       "            (2): GELU(approximate=none)\n",
       "            (3): Dropout(p=0.0, inplace=False)\n",
       "            (4): Conv1d(384, 192, kernel_size=(1,), stride=(1,))\n",
       "            (5): BatchNorm1d(192, eps=1e-05, momentum=0.1, affine=True, track_running_stats=True)\n",
       "            (6): GELU(approximate=none)\n",
       "          )\n",
       "        )\n",
       "      )\n",
       "      (6): ModuleList(\n",
       "        (0): PreNorm(\n",
       "          (norm): LayerNorm((192,), eps=1e-05, elementwise_affine=True)\n",
       "          (fn): Attention(\n",
       "            (qkv): Linear(in_features=192, out_features=576, bias=True)\n",
       "            (attn_drop): Dropout(p=0.0, inplace=False)\n",
       "            (proj): Linear(in_features=192, out_features=192, bias=True)\n",
       "            (proj_drop): Dropout(p=0.0, inplace=False)\n",
       "          )\n",
       "        )\n",
       "        (1): FeedForward(\n",
       "          (net): Sequential(\n",
       "            (0): Conv1d(192, 384, kernel_size=(1,), stride=(1,))\n",
       "            (1): BatchNorm1d(384, eps=1e-05, momentum=0.1, affine=True, track_running_stats=True)\n",
       "            (2): GELU(approximate=none)\n",
       "            (3): Dropout(p=0.0, inplace=False)\n",
       "            (4): Conv1d(384, 192, kernel_size=(1,), stride=(1,))\n",
       "            (5): BatchNorm1d(192, eps=1e-05, momentum=0.1, affine=True, track_running_stats=True)\n",
       "            (6): GELU(approximate=none)\n",
       "          )\n",
       "        )\n",
       "      )\n",
       "      (7): ModuleList(\n",
       "        (0): PreNorm(\n",
       "          (norm): LayerNorm((192,), eps=1e-05, elementwise_affine=True)\n",
       "          (fn): Attention(\n",
       "            (qkv): Linear(in_features=192, out_features=576, bias=True)\n",
       "            (attn_drop): Dropout(p=0.0, inplace=False)\n",
       "            (proj): Linear(in_features=192, out_features=192, bias=True)\n",
       "            (proj_drop): Dropout(p=0.0, inplace=False)\n",
       "          )\n",
       "        )\n",
       "        (1): FeedForward(\n",
       "          (net): Sequential(\n",
       "            (0): Conv1d(192, 384, kernel_size=(1,), stride=(1,))\n",
       "            (1): BatchNorm1d(384, eps=1e-05, momentum=0.1, affine=True, track_running_stats=True)\n",
       "            (2): GELU(approximate=none)\n",
       "            (3): Dropout(p=0.0, inplace=False)\n",
       "            (4): Conv1d(384, 192, kernel_size=(1,), stride=(1,))\n",
       "            (5): BatchNorm1d(192, eps=1e-05, momentum=0.1, affine=True, track_running_stats=True)\n",
       "            (6): GELU(approximate=none)\n",
       "          )\n",
       "        )\n",
       "      )\n",
       "      (8): ModuleList(\n",
       "        (0): PreNorm(\n",
       "          (norm): LayerNorm((192,), eps=1e-05, elementwise_affine=True)\n",
       "          (fn): Attention(\n",
       "            (qkv): Linear(in_features=192, out_features=576, bias=True)\n",
       "            (attn_drop): Dropout(p=0.0, inplace=False)\n",
       "            (proj): Linear(in_features=192, out_features=192, bias=True)\n",
       "            (proj_drop): Dropout(p=0.0, inplace=False)\n",
       "          )\n",
       "        )\n",
       "        (1): FeedForward(\n",
       "          (net): Sequential(\n",
       "            (0): Conv1d(192, 384, kernel_size=(1,), stride=(1,))\n",
       "            (1): BatchNorm1d(384, eps=1e-05, momentum=0.1, affine=True, track_running_stats=True)\n",
       "            (2): GELU(approximate=none)\n",
       "            (3): Dropout(p=0.0, inplace=False)\n",
       "            (4): Conv1d(384, 192, kernel_size=(1,), stride=(1,))\n",
       "            (5): BatchNorm1d(192, eps=1e-05, momentum=0.1, affine=True, track_running_stats=True)\n",
       "            (6): GELU(approximate=none)\n",
       "          )\n",
       "        )\n",
       "      )\n",
       "      (9): ModuleList(\n",
       "        (0): PreNorm(\n",
       "          (norm): LayerNorm((192,), eps=1e-05, elementwise_affine=True)\n",
       "          (fn): Attention(\n",
       "            (qkv): Linear(in_features=192, out_features=576, bias=True)\n",
       "            (attn_drop): Dropout(p=0.0, inplace=False)\n",
       "            (proj): Linear(in_features=192, out_features=192, bias=True)\n",
       "            (proj_drop): Dropout(p=0.0, inplace=False)\n",
       "          )\n",
       "        )\n",
       "        (1): FeedForward(\n",
       "          (net): Sequential(\n",
       "            (0): Conv1d(192, 384, kernel_size=(1,), stride=(1,))\n",
       "            (1): BatchNorm1d(384, eps=1e-05, momentum=0.1, affine=True, track_running_stats=True)\n",
       "            (2): GELU(approximate=none)\n",
       "            (3): Dropout(p=0.0, inplace=False)\n",
       "            (4): Conv1d(384, 192, kernel_size=(1,), stride=(1,))\n",
       "            (5): BatchNorm1d(192, eps=1e-05, momentum=0.1, affine=True, track_running_stats=True)\n",
       "            (6): GELU(approximate=none)\n",
       "          )\n",
       "        )\n",
       "      )\n",
       "      (10): ModuleList(\n",
       "        (0): PreNorm(\n",
       "          (norm): LayerNorm((192,), eps=1e-05, elementwise_affine=True)\n",
       "          (fn): Attention(\n",
       "            (qkv): Linear(in_features=192, out_features=576, bias=True)\n",
       "            (attn_drop): Dropout(p=0.0, inplace=False)\n",
       "            (proj): Linear(in_features=192, out_features=192, bias=True)\n",
       "            (proj_drop): Dropout(p=0.0, inplace=False)\n",
       "          )\n",
       "        )\n",
       "        (1): FeedForward(\n",
       "          (net): Sequential(\n",
       "            (0): Conv1d(192, 384, kernel_size=(1,), stride=(1,))\n",
       "            (1): BatchNorm1d(384, eps=1e-05, momentum=0.1, affine=True, track_running_stats=True)\n",
       "            (2): GELU(approximate=none)\n",
       "            (3): Dropout(p=0.0, inplace=False)\n",
       "            (4): Conv1d(384, 192, kernel_size=(1,), stride=(1,))\n",
       "            (5): BatchNorm1d(192, eps=1e-05, momentum=0.1, affine=True, track_running_stats=True)\n",
       "            (6): GELU(approximate=none)\n",
       "          )\n",
       "        )\n",
       "      )\n",
       "      (11): ModuleList(\n",
       "        (0): PreNorm(\n",
       "          (norm): LayerNorm((192,), eps=1e-05, elementwise_affine=True)\n",
       "          (fn): Attention(\n",
       "            (qkv): Linear(in_features=192, out_features=576, bias=True)\n",
       "            (attn_drop): Dropout(p=0.0, inplace=False)\n",
       "            (proj): Linear(in_features=192, out_features=192, bias=True)\n",
       "            (proj_drop): Dropout(p=0.0, inplace=False)\n",
       "          )\n",
       "        )\n",
       "        (1): FeedForward(\n",
       "          (net): Sequential(\n",
       "            (0): Conv1d(192, 384, kernel_size=(1,), stride=(1,))\n",
       "            (1): BatchNorm1d(384, eps=1e-05, momentum=0.1, affine=True, track_running_stats=True)\n",
       "            (2): GELU(approximate=none)\n",
       "            (3): Dropout(p=0.0, inplace=False)\n",
       "            (4): Conv1d(384, 192, kernel_size=(1,), stride=(1,))\n",
       "            (5): BatchNorm1d(192, eps=1e-05, momentum=0.1, affine=True, track_running_stats=True)\n",
       "            (6): GELU(approximate=none)\n",
       "          )\n",
       "        )\n",
       "      )\n",
       "      (12): ModuleList(\n",
       "        (0): PreNorm(\n",
       "          (norm): LayerNorm((192,), eps=1e-05, elementwise_affine=True)\n",
       "          (fn): Attention(\n",
       "            (qkv): Linear(in_features=192, out_features=576, bias=True)\n",
       "            (attn_drop): Dropout(p=0.0, inplace=False)\n",
       "            (proj): Linear(in_features=192, out_features=192, bias=True)\n",
       "            (proj_drop): Dropout(p=0.0, inplace=False)\n",
       "          )\n",
       "        )\n",
       "        (1): FeedForward(\n",
       "          (net): Sequential(\n",
       "            (0): Conv1d(192, 384, kernel_size=(1,), stride=(1,))\n",
       "            (1): BatchNorm1d(384, eps=1e-05, momentum=0.1, affine=True, track_running_stats=True)\n",
       "            (2): GELU(approximate=none)\n",
       "            (3): Dropout(p=0.0, inplace=False)\n",
       "            (4): Conv1d(384, 192, kernel_size=(1,), stride=(1,))\n",
       "            (5): BatchNorm1d(192, eps=1e-05, momentum=0.1, affine=True, track_running_stats=True)\n",
       "            (6): GELU(approximate=none)\n",
       "          )\n",
       "        )\n",
       "      )\n",
       "      (13): ModuleList(\n",
       "        (0): PreNorm(\n",
       "          (norm): LayerNorm((192,), eps=1e-05, elementwise_affine=True)\n",
       "          (fn): Attention(\n",
       "            (qkv): Linear(in_features=192, out_features=576, bias=True)\n",
       "            (attn_drop): Dropout(p=0.0, inplace=False)\n",
       "            (proj): Linear(in_features=192, out_features=192, bias=True)\n",
       "            (proj_drop): Dropout(p=0.0, inplace=False)\n",
       "          )\n",
       "        )\n",
       "        (1): FeedForward(\n",
       "          (net): Sequential(\n",
       "            (0): Conv1d(192, 384, kernel_size=(1,), stride=(1,))\n",
       "            (1): BatchNorm1d(384, eps=1e-05, momentum=0.1, affine=True, track_running_stats=True)\n",
       "            (2): GELU(approximate=none)\n",
       "            (3): Dropout(p=0.0, inplace=False)\n",
       "            (4): Conv1d(384, 192, kernel_size=(1,), stride=(1,))\n",
       "            (5): BatchNorm1d(192, eps=1e-05, momentum=0.1, affine=True, track_running_stats=True)\n",
       "            (6): GELU(approximate=none)\n",
       "          )\n",
       "        )\n",
       "      )\n",
       "      (14): ModuleList(\n",
       "        (0): PreNorm(\n",
       "          (norm): LayerNorm((192,), eps=1e-05, elementwise_affine=True)\n",
       "          (fn): Attention(\n",
       "            (qkv): Linear(in_features=192, out_features=576, bias=True)\n",
       "            (attn_drop): Dropout(p=0.0, inplace=False)\n",
       "            (proj): Linear(in_features=192, out_features=192, bias=True)\n",
       "            (proj_drop): Dropout(p=0.0, inplace=False)\n",
       "          )\n",
       "        )\n",
       "        (1): FeedForward(\n",
       "          (net): Sequential(\n",
       "            (0): Conv1d(192, 384, kernel_size=(1,), stride=(1,))\n",
       "            (1): BatchNorm1d(384, eps=1e-05, momentum=0.1, affine=True, track_running_stats=True)\n",
       "            (2): GELU(approximate=none)\n",
       "            (3): Dropout(p=0.0, inplace=False)\n",
       "            (4): Conv1d(384, 192, kernel_size=(1,), stride=(1,))\n",
       "            (5): BatchNorm1d(192, eps=1e-05, momentum=0.1, affine=True, track_running_stats=True)\n",
       "            (6): GELU(approximate=none)\n",
       "          )\n",
       "        )\n",
       "      )\n",
       "      (15): ModuleList(\n",
       "        (0): PreNorm(\n",
       "          (norm): LayerNorm((192,), eps=1e-05, elementwise_affine=True)\n",
       "          (fn): Attention(\n",
       "            (qkv): Linear(in_features=192, out_features=576, bias=True)\n",
       "            (attn_drop): Dropout(p=0.0, inplace=False)\n",
       "            (proj): Linear(in_features=192, out_features=192, bias=True)\n",
       "            (proj_drop): Dropout(p=0.0, inplace=False)\n",
       "          )\n",
       "        )\n",
       "        (1): FeedForward(\n",
       "          (net): Sequential(\n",
       "            (0): Conv1d(192, 384, kernel_size=(1,), stride=(1,))\n",
       "            (1): BatchNorm1d(384, eps=1e-05, momentum=0.1, affine=True, track_running_stats=True)\n",
       "            (2): GELU(approximate=none)\n",
       "            (3): Dropout(p=0.0, inplace=False)\n",
       "            (4): Conv1d(384, 192, kernel_size=(1,), stride=(1,))\n",
       "            (5): BatchNorm1d(192, eps=1e-05, momentum=0.1, affine=True, track_running_stats=True)\n",
       "            (6): GELU(approximate=none)\n",
       "          )\n",
       "        )\n",
       "      )\n",
       "      (16): ModuleList(\n",
       "        (0): PreNorm(\n",
       "          (norm): LayerNorm((192,), eps=1e-05, elementwise_affine=True)\n",
       "          (fn): Attention(\n",
       "            (qkv): Linear(in_features=192, out_features=576, bias=True)\n",
       "            (attn_drop): Dropout(p=0.0, inplace=False)\n",
       "            (proj): Linear(in_features=192, out_features=192, bias=True)\n",
       "            (proj_drop): Dropout(p=0.0, inplace=False)\n",
       "          )\n",
       "        )\n",
       "        (1): FeedForward(\n",
       "          (net): Sequential(\n",
       "            (0): Conv1d(192, 384, kernel_size=(1,), stride=(1,))\n",
       "            (1): BatchNorm1d(384, eps=1e-05, momentum=0.1, affine=True, track_running_stats=True)\n",
       "            (2): GELU(approximate=none)\n",
       "            (3): Dropout(p=0.0, inplace=False)\n",
       "            (4): Conv1d(384, 192, kernel_size=(1,), stride=(1,))\n",
       "            (5): BatchNorm1d(192, eps=1e-05, momentum=0.1, affine=True, track_running_stats=True)\n",
       "            (6): GELU(approximate=none)\n",
       "          )\n",
       "        )\n",
       "      )\n",
       "      (17): ModuleList(\n",
       "        (0): PreNorm(\n",
       "          (norm): LayerNorm((192,), eps=1e-05, elementwise_affine=True)\n",
       "          (fn): Attention(\n",
       "            (qkv): Linear(in_features=192, out_features=576, bias=True)\n",
       "            (attn_drop): Dropout(p=0.0, inplace=False)\n",
       "            (proj): Linear(in_features=192, out_features=192, bias=True)\n",
       "            (proj_drop): Dropout(p=0.0, inplace=False)\n",
       "          )\n",
       "        )\n",
       "        (1): FeedForward(\n",
       "          (net): Sequential(\n",
       "            (0): Conv1d(192, 384, kernel_size=(1,), stride=(1,))\n",
       "            (1): BatchNorm1d(384, eps=1e-05, momentum=0.1, affine=True, track_running_stats=True)\n",
       "            (2): GELU(approximate=none)\n",
       "            (3): Dropout(p=0.0, inplace=False)\n",
       "            (4): Conv1d(384, 192, kernel_size=(1,), stride=(1,))\n",
       "            (5): BatchNorm1d(192, eps=1e-05, momentum=0.1, affine=True, track_running_stats=True)\n",
       "            (6): GELU(approximate=none)\n",
       "          )\n",
       "        )\n",
       "      )\n",
       "      (18): ModuleList(\n",
       "        (0): PreNorm(\n",
       "          (norm): LayerNorm((192,), eps=1e-05, elementwise_affine=True)\n",
       "          (fn): Attention(\n",
       "            (qkv): Linear(in_features=192, out_features=576, bias=True)\n",
       "            (attn_drop): Dropout(p=0.0, inplace=False)\n",
       "            (proj): Linear(in_features=192, out_features=192, bias=True)\n",
       "            (proj_drop): Dropout(p=0.0, inplace=False)\n",
       "          )\n",
       "        )\n",
       "        (1): FeedForward(\n",
       "          (net): Sequential(\n",
       "            (0): Conv1d(192, 384, kernel_size=(1,), stride=(1,))\n",
       "            (1): BatchNorm1d(384, eps=1e-05, momentum=0.1, affine=True, track_running_stats=True)\n",
       "            (2): GELU(approximate=none)\n",
       "            (3): Dropout(p=0.0, inplace=False)\n",
       "            (4): Conv1d(384, 192, kernel_size=(1,), stride=(1,))\n",
       "            (5): BatchNorm1d(192, eps=1e-05, momentum=0.1, affine=True, track_running_stats=True)\n",
       "            (6): GELU(approximate=none)\n",
       "          )\n",
       "        )\n",
       "      )\n",
       "      (19): ModuleList(\n",
       "        (0): PreNorm(\n",
       "          (norm): LayerNorm((192,), eps=1e-05, elementwise_affine=True)\n",
       "          (fn): Attention(\n",
       "            (qkv): Linear(in_features=192, out_features=576, bias=True)\n",
       "            (attn_drop): Dropout(p=0.0, inplace=False)\n",
       "            (proj): Linear(in_features=192, out_features=192, bias=True)\n",
       "            (proj_drop): Dropout(p=0.0, inplace=False)\n",
       "          )\n",
       "        )\n",
       "        (1): FeedForward(\n",
       "          (net): Sequential(\n",
       "            (0): Conv1d(192, 384, kernel_size=(1,), stride=(1,))\n",
       "            (1): BatchNorm1d(384, eps=1e-05, momentum=0.1, affine=True, track_running_stats=True)\n",
       "            (2): GELU(approximate=none)\n",
       "            (3): Dropout(p=0.0, inplace=False)\n",
       "            (4): Conv1d(384, 192, kernel_size=(1,), stride=(1,))\n",
       "            (5): BatchNorm1d(192, eps=1e-05, momentum=0.1, affine=True, track_running_stats=True)\n",
       "            (6): GELU(approximate=none)\n",
       "          )\n",
       "        )\n",
       "      )\n",
       "    )\n",
       "  )\n",
       "  (post_transformer_ln): LayerNorm((192,), eps=1e-05, elementwise_affine=True)\n",
       "  (cls_layer): OutputLayer(\n",
       "    (net): Sequential(\n",
       "      (0): Linear(in_features=192, out_features=1, bias=True)\n",
       "    )\n",
       "  )\n",
       ")"
      ]
     },
     "execution_count": 8,
     "metadata": {},
     "output_type": "execute_result"
    }
   ],
   "source": [
    "net = vit.VisionTransformer()\n",
    "net.to(device)"
   ]
  },
  {
   "cell_type": "code",
   "execution_count": 9,
   "id": "d65c171c-f082-4448-abe4-1444958ed1f2",
   "metadata": {},
   "outputs": [
    {
     "name": "stdout",
     "output_type": "stream",
     "text": [
      "6534721\n"
     ]
    }
   ],
   "source": [
    "total_params = sum(p.numel() for p in net.parameters())\n",
    "print(total_params)"
   ]
  },
  {
   "cell_type": "code",
   "execution_count": 10,
   "id": "c045d6ac-76ec-42ba-9f9a-9b65535f0472",
   "metadata": {},
   "outputs": [],
   "source": [
    "loss_function = torch.nn.L1Loss()"
   ]
  },
  {
   "cell_type": "code",
   "execution_count": 11,
   "id": "9e125699-e2e8-4bc6-8b8e-07eef2de705a",
   "metadata": {},
   "outputs": [],
   "source": [
    "def getTestLoss():\n",
    "    loss = 0\n",
    "    \n",
    "    for data in testset:\n",
    "        X, y = data\n",
    "        X = X.to(device)\n",
    "\n",
    "        output = net(X)\n",
    "        loss += loss_function(output, y)\n",
    "    \n",
    "    return(loss)"
   ]
  },
  {
   "cell_type": "code",
   "execution_count": 12,
   "id": "89ae0198-7825-4e38-ad51-e80f3e0b219d",
   "metadata": {},
   "outputs": [],
   "source": [
    "pos = 0\n",
    "neg = 0\n",
    "\n",
    "def getAccuracy(net):\n",
    "    wrong = 0\n",
    "    right = 0\n",
    "    total = 0\n",
    "\n",
    "    with torch.no_grad():\n",
    "        for data in testset:\n",
    "            X, y = data\n",
    "\n",
    "            X = X.to(device)\n",
    "            y = y.to(device)\n",
    "\n",
    "            output = net(X)\n",
    "\n",
    "            for i in range(len(output)):\n",
    "                if y[i][0] == round(float(output[i][0])):\n",
    "                    right += 1\n",
    "                else:\n",
    "                    wrong += 1\n",
    "\n",
    "                total += 1\n",
    "\n",
    "    return (right / total)"
   ]
  },
  {
   "cell_type": "code",
   "execution_count": 13,
   "id": "48e4a546-8017-40d6-baf6-50a4cbb409e6",
   "metadata": {},
   "outputs": [],
   "source": [
    "import torch.optim as optim\n",
    "\n",
    "optimizer = optim.Adam(net.parameters(), lr=0.0005)"
   ]
  },
  {
   "cell_type": "code",
   "execution_count": 14,
   "id": "63c625bb-d472-4d76-9c4f-67f943f2c13f",
   "metadata": {},
   "outputs": [],
   "source": [
    "trainloss = []\n",
    "testloss = []"
   ]
  },
  {
   "cell_type": "code",
   "execution_count": 15,
   "id": "d751baee-363b-411e-89cb-f9c93da0678e",
   "metadata": {},
   "outputs": [],
   "source": [
    "EPOCHS = 15\n",
    "count = 0\n",
    "\n",
    "lowestLoss = 0\n",
    "lowestNet = 0"
   ]
  },
  {
   "cell_type": "code",
   "execution_count": 16,
   "id": "alternate-wiring",
   "metadata": {},
   "outputs": [
    {
     "name": "stdout",
     "output_type": "stream",
     "text": [
      "6.67% Completed\n",
      "13.33% Completed\n",
      "20.0% Completed\n",
      "26.67% Completed\n",
      "33.33% Completed\n",
      "40.0% Completed\n",
      "46.67% Completed\n",
      "53.33% Completed\n",
      "60.0% Completed\n",
      "66.67% Completed\n",
      "73.33% Completed\n",
      "80.0% Completed\n",
      "86.67% Completed\n",
      "93.33% Completed\n",
      "100.0% Completed\n",
      "100% Completed\n"
     ]
    }
   ],
   "source": [
    "for epoch in range(EPOCHS):    \n",
    "    for data in trainset:\n",
    "        X, y = data\n",
    "        X = X.to(device)\n",
    "\n",
    "        net.zero_grad()\n",
    "        output = net(X)\n",
    "        loss = loss_function(output, y)\n",
    "        loss.backward()\n",
    "        optimizer.step()\n",
    "        \n",
    "    count += 1 \n",
    "\n",
    "    print(f\"{round((count * 100 / EPOCHS), 2)}% Completed\")\n",
    "\n",
    "    trainloss.append(float(loss))\n",
    "\n",
    "    testLoss = getAccuracy(net)\n",
    "    testloss.append(testLoss)\n",
    "\n",
    "    if testLoss > lowestLoss:\n",
    "        lowestLoss = testLoss\n",
    "        lowestNet = epoch\n",
    "\n",
    "    torch.save(net, f\"nets/net{epoch}.pt\")\n",
    "\n",
    "\n",
    "print(\"100% Completed\")"
   ]
  },
  {
   "cell_type": "code",
   "execution_count": 17,
   "id": "e47ed27e-8189-4029-8a58-5c2b6df6d5bd",
   "metadata": {},
   "outputs": [
    {
     "name": "stdout",
     "output_type": "stream",
     "text": [
      "12\n"
     ]
    }
   ],
   "source": [
    "print(lowestNet)"
   ]
  },
  {
   "cell_type": "code",
   "execution_count": 18,
   "id": "ef936ec7-78f7-46f3-a42b-2e1787d91c64",
   "metadata": {},
   "outputs": [],
   "source": [
    "# lowestNet = 99"
   ]
  },
  {
   "cell_type": "code",
   "execution_count": 36,
   "id": "ad15c882-791f-4f2c-865c-62226145dfdc",
   "metadata": {},
   "outputs": [],
   "source": [
    "# net = torch.load(f\"nets/net{lowestNet}.pt\")"
   ]
  },
  {
   "cell_type": "code",
   "execution_count": 37,
   "id": "e708ea8a-6bd1-4160-be33-c6a28252f6c7",
   "metadata": {},
   "outputs": [
    {
     "name": "stdout",
     "output_type": "stream",
     "text": [
      "0.814595660749507\n"
     ]
    }
   ],
   "source": [
    "pos = 0\n",
    "neg = 0\n",
    "\n",
    "\n",
    "wrong = 0\n",
    "right = 0\n",
    "total = 0\n",
    "\n",
    "with torch.no_grad():\n",
    "    for data in testset:\n",
    "        X, y = data\n",
    "\n",
    "        X = X.to(device)\n",
    "        y = y.to(device)\n",
    "\n",
    "        output = net(X)\n",
    "\n",
    "        for i in range(len(output)):\n",
    "            if y[i][0] == round(float(output[i][0])):\n",
    "                right += 1\n",
    "            else:\n",
    "                wrong += 1\n",
    "\n",
    "            total += 1\n",
    "\n",
    "print(right / total)"
   ]
  },
  {
   "cell_type": "code",
   "execution_count": 38,
   "id": "7d0337e0-3743-48ef-9a53-05ad01e278c7",
   "metadata": {},
   "outputs": [],
   "source": [
    "RES = 1000"
   ]
  },
  {
   "cell_type": "code",
   "execution_count": 39,
   "id": "4ad1b8c9-2938-44ee-88a5-bd7e86ec3862",
   "metadata": {},
   "outputs": [],
   "source": [
    "falsePos = [0] * RES\n",
    "truePos = [0] * RES\n",
    "falseNeg = [0] * RES\n",
    "trueNeg = [0] * RES"
   ]
  },
  {
   "cell_type": "code",
   "execution_count": 40,
   "id": "rising-scientist",
   "metadata": {},
   "outputs": [
    {
     "name": "stdout",
     "output_type": "stream",
     "text": [
      "7.69% Completed\n",
      "15.38% Completed\n",
      "23.08% Completed\n",
      "30.77% Completed\n",
      "38.46% Completed\n",
      "46.15% Completed\n",
      "53.85% Completed\n",
      "61.54% Completed\n",
      "69.23% Completed\n",
      "76.92% Completed\n",
      "84.62% Completed\n",
      "92.31% Completed\n",
      "100.0% Completed\n"
     ]
    }
   ],
   "source": [
    "count = 0\n",
    "\n",
    "with torch.no_grad():\n",
    "    for data in testset:\n",
    "        X, y = data\n",
    "        \n",
    "        X = X.to(device)\n",
    "        y = y.to(device)\n",
    "\n",
    "        output = net(X)\n",
    "        \n",
    "        for i in range(RES):\n",
    "            loss = wrongAns(output, y, 2 * i / (RES - 1) - 0.5)\n",
    "            truePos[i] += loss[0]\n",
    "            falsePos[i] += loss[1]\n",
    "            trueNeg[i] += loss[2]\n",
    "            falseNeg[i] += loss[3]\n",
    "        \n",
    "        count += 1\n",
    "        \n",
    "        if count % 1 == 0:\n",
    "            print(f\"{round(count * 100 / len(testset), 2)}% Completed\")"
   ]
  },
  {
   "cell_type": "code",
   "execution_count": 41,
   "id": "d25d45a6-1228-475b-bcf6-993104292401",
   "metadata": {},
   "outputs": [
    {
     "name": "stdout",
     "output_type": "stream",
     "text": [
      "Accuracy: 0.8382642998027613\n",
      "506\n"
     ]
    },
    {
     "data": {
      "image/png": "[encoded data removed]",
      "text/plain": [
       "<Figure size 640x480 with 1 Axes>"
      ]
     },
     "metadata": {},
     "output_type": "display_data"
    }
   ],
   "source": [
    "hAcu = 0\n",
    "\n",
    "falsePosRate = []\n",
    "truePosRate = []\n",
    "\n",
    "for i in range(len(truePos)):\n",
    "    falsePosRate.append(falsePos[i] / (falsePos[i] + trueNeg[i]))\n",
    "    truePosRate.append(truePos[i] / (truePos[i] + falseNeg[i]))\n",
    "\n",
    "for i in range(RES):\n",
    "    if hAcu < truePos[i] + trueNeg[i]:\n",
    "        hAcu = truePos[i] + trueNeg[i]\n",
    "        lowestIndex = i\n",
    "\n",
    "print(f\"Accuracy: {(truePos[lowestIndex] + trueNeg[lowestIndex]) / (falsePos[0] + falseNeg[0] + truePos[0] + trueNeg[0])}\")\n",
    "print(lowestIndex)\n",
    "    \n",
    "plt.plot(falsePosRate, truePosRate)\n",
    "plt.grid()"
   ]
  },
  {
   "cell_type": "code",
   "execution_count": 42,
   "id": "3c8b679e-aca0-4f71-8704-f0190e516276",
   "metadata": {},
   "outputs": [
    {
     "name": "stdout",
     "output_type": "stream",
     "text": [
      "0.8656513084905045\n"
     ]
    }
   ],
   "source": [
    "import sklearn.metrics\n",
    "\n",
    "auc = sklearn.metrics.auc(falsePosRate, truePosRate)\n",
    "\n",
    "print(auc)"
   ]
  },
  {
   "cell_type": "code",
   "execution_count": 43,
   "id": "center-impression",
   "metadata": {},
   "outputs": [
    {
     "data": {
      "image/png": "[encoded data removed]",
      "text/plain": [
       "<Figure size 640x480 with 1 Axes>"
      ]
     },
     "metadata": {},
     "output_type": "display_data"
    }
   ],
   "source": [
    "plt.plot(testloss)\n",
    "plt.plot(trainloss)\n",
    "plt.grid()"
   ]
  },
  {
   "cell_type": "code",
   "execution_count": 44,
   "id": "million-updating",
   "metadata": {},
   "outputs": [
    {
     "data": {
      "image/png": "[encoded data removed]",
      "text/plain": [
       "<Figure size 640x480 with 1 Axes>"
      ]
     },
     "metadata": {},
     "output_type": "display_data"
    }
   ],
   "source": [
    "avgTrainLoss = getAvgLoss(trainloss)\n",
    "avgTestLoss = getAvgLoss(testloss)\n",
    "\n",
    "plt.plot(avgTestLoss)\n",
    "plt.plot(avgTrainLoss)\n",
    "plt.grid()"
   ]
  },
  {
   "cell_type": "code",
   "execution_count": 45,
   "id": "b8ff8edf-98e0-4a6b-b34a-bb1a9ce2521b",
   "metadata": {},
   "outputs": [],
   "source": [
    "data = iter(testset)"
   ]
  },
  {
   "cell_type": "code",
   "execution_count": 46,
   "id": "removed-article",
   "metadata": {},
   "outputs": [
    {
     "name": "stdout",
     "output_type": "stream",
     "text": [
      "tensor([0.], device='cuda:0')\n"
     ]
    },
    {
     "data": {
      "text/plain": [
       "<matplotlib.image.AxesImage at 0x25376cfe760>"
      ]
     },
     "execution_count": 46,
     "metadata": {},
     "output_type": "execute_result"
    },
    {
     "data": {
      "image/png": "[encoded data removed]",
      "text/plain": [
       "<Figure size 640x480 with 1 Axes>"
      ]
     },
     "metadata": {},
     "output_type": "display_data"
    }
   ],
   "source": [
    "X, y = data.next()\n",
    "\n",
    "X = X.to(device)\n",
    "y = y.to(device)\n",
    "        \n",
    "output = net(X)\n",
    "\n",
    "print(y[0])\n",
    "plt.imshow(X[0].view((32, 32)).cpu())"
   ]
  },
  {
   "cell_type": "code",
   "execution_count": 47,
   "id": "d3a1f1d3-58c6-4304-8378-e29f9d967ee8",
   "metadata": {},
   "outputs": [],
   "source": [
    "i = 0"
   ]
  },
  {
   "cell_type": "code",
   "execution_count": 48,
   "id": "0adbef04-aa51-4295-854c-63a72b350f85",
   "metadata": {},
   "outputs": [
    {
     "name": "stdout",
     "output_type": "stream",
     "text": [
      "tensor([0.], device='cuda:0')\n",
      "tensor([0.0547], grad_fn=<SelectBackward0>)\n"
     ]
    },
    {
     "data": {
      "image/png": "[encoded data removed]",
      "text/plain": [
       "<Figure size 640x480 with 1 Axes>"
      ]
     },
     "metadata": {},
     "output_type": "display_data"
    }
   ],
   "source": [
    "print(y[i])\n",
    "print(output[i])\n",
    "plt.imshow(X[i].view((32, 32)).cpu())\n",
    "\n",
    "i += 1\n",
    "i %= 20"
   ]
  },
  {
   "cell_type": "code",
   "execution_count": 49,
   "id": "d2aa0380-2713-4244-92dc-fcac9d04390f",
   "metadata": {},
   "outputs": [
    {
     "name": "stdout",
     "output_type": "stream",
     "text": [
      "tensor([0., 0., 1., 0., 0., 1., 0., 1., 1., 1., 1., 1., 1., 1., 1., 0., 1., 1.,\n",
      "        1., 1., 1., 0., 1., 1., 0., 1., 1., 0., 1., 1., 1., 0., 0., 0., 0., 1.,\n",
      "        1., 1., 1., 0.], device='cuda:0')\n"
     ]
    }
   ],
   "source": [
    "print(y.view(-1))"
   ]
  },
  {
   "cell_type": "code",
   "execution_count": 50,
   "id": "5a835a5d-de00-445e-9e58-b9dca249aff5",
   "metadata": {},
   "outputs": [
    {
     "name": "stdout",
     "output_type": "stream",
     "text": [
      "tensor([0.0547, 1.0387, 1.0401, 0.0357, 1.0408, 0.8958, 0.0385, 1.0404, 0.5494,\n",
      "        1.0403, 1.0401, 1.0377, 1.0408, 1.0395, 1.0399, 0.0667, 1.0164, 1.0168,\n",
      "        1.0400, 1.0403, 1.0407, 0.0330, 1.0395, 1.0393, 0.0457, 1.0377, 0.5659,\n",
      "        0.0240, 1.0404, 1.0381, 1.0343, 0.0254, 0.0258, 1.0400, 1.0214, 0.4829,\n",
      "        1.0403, 1.0396, 1.0395, 0.0276], grad_fn=<ViewBackward0>)\n"
     ]
    }
   ],
   "source": [
    "print(output.view(-1))\n"
   ]
  },
  {
   "cell_type": "code",
   "execution_count": 51,
   "id": "186dee92-403c-4d96-a855-bc0b9133a389",
   "metadata": {},
   "outputs": [
    {
     "name": "stdout",
     "output_type": "stream",
     "text": [
      "tensor([[[[0.8255, 0.7584, 0.7125,  ..., 1.1809, 1.2035, 1.2046],\n",
      "          [1.1695, 1.1750, 1.1485,  ..., 0.8733, 0.8621, 0.8709],\n",
      "          [0.8853, 0.9059, 0.8697,  ..., 0.8458, 0.8559, 0.9362],\n",
      "          ...,\n",
      "          [0.9874, 1.1963, 1.2007,  ..., 1.1126, 1.2809, 1.2728],\n",
      "          [1.2219, 1.2479, 1.2117,  ..., 0.6892, 0.6630, 0.7197],\n",
      "          [0.6793, 0.7370, 0.8112,  ..., 0.7430, 0.7287, 0.7251]]],\n",
      "\n",
      "\n",
      "        [[[1.2180, 1.0762, 1.0388,  ..., 1.0560, 1.0127, 0.9957],\n",
      "          [0.9863, 1.0139, 0.9537,  ..., 0.9322, 0.8277, 0.8404],\n",
      "          [0.8728, 0.8860, 0.9475,  ..., 1.0069, 1.0364, 1.0597],\n",
      "          ...,\n",
      "          [0.8903, 0.8667, 0.9247,  ..., 1.3910, 1.2154, 1.2811],\n",
      "          [1.2647, 1.2460, 1.2885,  ..., 1.3639, 1.2684, 1.3191],\n",
      "          [1.3506, 1.3355, 1.4166,  ..., 1.2801, 1.3086, 1.3525]]],\n",
      "\n",
      "\n",
      "        [[[1.3177, 1.3476, 1.3354,  ..., 1.2224, 1.1534, 1.1549],\n",
      "          [1.2063, 1.1924, 1.2510,  ..., 1.2111, 1.2811, 1.2001],\n",
      "          [1.2446, 1.1076, 1.1130,  ..., 1.5629, 1.5199, 1.4076],\n",
      "          ...,\n",
      "          [1.5126, 1.4016, 1.4783,  ..., 1.0354, 0.8950, 0.9852],\n",
      "          [0.8739, 0.8841, 0.8245,  ..., 1.2071, 1.1897, 1.2499],\n",
      "          [1.3768, 1.4554, 1.3698,  ..., 1.3014, 1.4422, 1.3975]]],\n",
      "\n",
      "\n",
      "        ...,\n",
      "\n",
      "\n",
      "        [[[1.1557, 1.1336, 1.1948,  ..., 0.9698, 1.1142, 1.1982],\n",
      "          [1.1202, 1.1187, 1.1701,  ..., 0.9120, 1.0114, 0.9514],\n",
      "          [0.9803, 0.9840, 0.9877,  ..., 1.0841, 1.2297, 1.3027],\n",
      "          ...,\n",
      "          [1.0554, 1.1304, 1.1068,  ..., 1.3898, 1.3353, 1.2114],\n",
      "          [1.1111, 1.1208, 1.1387,  ..., 1.0542, 1.1032, 1.0939],\n",
      "          [1.0898, 1.0008, 1.0458,  ..., 0.9360, 0.9609, 1.0899]]],\n",
      "\n",
      "\n",
      "        [[[1.0664, 1.1568, 1.0895,  ..., 1.3676, 1.2141, 1.2232],\n",
      "          [1.2768, 1.2245, 1.3089,  ..., 1.2454, 1.3057, 1.2634],\n",
      "          [1.2626, 1.3125, 1.3518,  ..., 1.6360, 1.7468, 1.6988],\n",
      "          ...,\n",
      "          [1.2145, 1.2838, 1.3559,  ..., 1.4764, 1.4848, 1.5419],\n",
      "          [1.6312, 1.6330, 1.5545,  ..., 1.4563, 1.4101, 1.4074],\n",
      "          [1.5721, 1.5239, 1.4127,  ..., 1.1418, 0.9380, 0.9888]]],\n",
      "\n",
      "\n",
      "        [[[1.2367, 1.1824, 1.2068,  ..., 0.9827, 0.9409, 0.8829],\n",
      "          [0.9358, 0.8423, 0.9429,  ..., 0.8796, 0.8529, 0.8982],\n",
      "          [0.9685, 0.9722, 0.9968,  ..., 0.7066, 0.8578, 0.8841],\n",
      "          ...,\n",
      "          [1.0160, 0.9977, 1.0087,  ..., 0.8202, 0.8615, 0.8172],\n",
      "          [0.8027, 0.9418, 0.9455,  ..., 0.6993, 0.6818, 0.7489],\n",
      "          [0.6925, 0.7315, 0.6172,  ..., 1.0931, 1.2390, 1.2244]]]],\n",
      "       device='cuda:0')\n"
     ]
    }
   ],
   "source": [
    "print(X)"
   ]
  },
  {
   "cell_type": "code",
   "execution_count": 35,
   "id": "39a6ec66-1d5c-4d9b-92d6-3e784b12fd5d",
   "metadata": {},
   "outputs": [],
   "source": [
    "def wrongAns(output, expected, threshold):\n",
    "    falseNeg = 0\n",
    "    trueNeg = 0\n",
    "    falsePos = 0\n",
    "    truePos = 0\n",
    "    total = 0\n",
    "    \n",
    "    for i in range(len(output)):\n",
    "        if int(expected[i][0]) > 0.5:\n",
    "            if float(output[i][0]) < threshold:\n",
    "                falseNeg += 1\n",
    "            \n",
    "            else:\n",
    "                truePos += 1\n",
    "        else:\n",
    "            if float(output[i][0]) >= threshold:\n",
    "                falsePos += 1\n",
    "                \n",
    "            else:\n",
    "                trueNeg += 1\n",
    "\n",
    "        total += 1\n",
    "    \n",
    "    return(truePos, falsePos, trueNeg, falseNeg)"
   ]
  },
  {
   "cell_type": "code",
   "execution_count": null,
   "id": "ffd4529b-f2cc-41db-a82c-f24d796be412",
   "metadata": {},
   "outputs": [],
   "source": []
  },
  {
   "cell_type": "code",
   "execution_count": null,
   "id": "4e18b9a2-1fff-42f1-bb17-986b644d9022",
   "metadata": {},
   "outputs": [],
   "source": []
  }
 ],
 "metadata": {
  "kernelspec": {
   "display_name": "Python 3 (ipykernel)",
   "language": "python",
   "name": "python3"
  },
  "language_info": {
   "codemirror_mode": {
    "name": "ipython",
    "version": 3
   },
   "file_extension": ".py",
   "mimetype": "text/x-python",
   "name": "python",
   "nbconvert_exporter": "python",
   "pygments_lexer": "ipython3",
   "version": "3.9.5"
  }
 },
 "nbformat": 4,
 "nbformat_minor": 5
}
