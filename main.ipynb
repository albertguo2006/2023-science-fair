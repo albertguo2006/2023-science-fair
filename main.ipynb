{
 "cells": [
  {
   "cell_type": "code",
   "execution_count": 1,
   "id": "worthy-adventure",
   "metadata": {},
   "outputs": [],
   "source": [
    "import numpy as np\n",
    "import matplotlib.pyplot as plt\n",
    "import torch\n",
    "import torchvision\n",
    "from PIL import Image\n",
    "from torch import nn, Tensor\n",
    "import torch.nn.functional as F\n",
    "import pandas as pd\n",
    "\n",
    "import vit\n",
    "import vit1\n",
    "from helper import *"
   ]
  },
  {
   "cell_type": "code",
   "execution_count": 2,
   "id": "0e2bfece-e5ca-45e2-9776-6aff05b2a5cc",
   "metadata": {},
   "outputs": [
    {
     "name": "stdout",
     "output_type": "stream",
     "text": [
      "Running on the GPU\n"
     ]
    }
   ],
   "source": [
    "if torch.cuda.is_available() and USE_CUDA == True:\n",
    "    device = torch.device(\"cuda:0\")\n",
    "    print(\"Running on the GPU\")\n",
    "else:\n",
    "    device = torch.device(\"cpu\")\n",
    "    print(\"Running on the CPU\")"
   ]
  },
  {
   "cell_type": "code",
   "execution_count": 3,
   "id": "5e4625b6-05c9-494b-b6f8-1c1b25e82633",
   "metadata": {},
   "outputs": [],
   "source": [
    "# train = geneDataset(\"train_adni\")\n",
    "# test = geneDataset(\"test_adni\")\n",
    "\n",
    "train = geneDataset(\"train\")\n",
    "test = geneDataset(\"test\")"
   ]
  },
  {
   "cell_type": "code",
   "execution_count": 4,
   "id": "94a7712f-62a8-4a01-b22e-61aa5c5e9e28",
   "metadata": {},
   "outputs": [],
   "source": [
    "trainset = torch.utils.data.DataLoader(train, batch_size=100, shuffle=True)\n",
    "testset = torch.utils.data.DataLoader(test, batch_size=10, shuffle=False)"
   ]
  },
  {
   "cell_type": "code",
   "execution_count": 5,
   "id": "b008135c-98e3-4937-8bc2-e590d18db3e2",
   "metadata": {},
   "outputs": [],
   "source": [
    "class Net(nn.Module):\n",
    "    def __init__(self):\n",
    "        super().__init__()\n",
    "        self.conv1 = nn.Conv2d(1, 6, 5)\n",
    "        self.pool = nn.MaxPool2d(2, 2)\n",
    "        self.conv2 = nn.Conv2d(6, 16, 5)\n",
    "        self.fc1 = nn.Linear(16 * 5 * 5, 120)\n",
    "        self.fc2 = nn.Linear(120, 84)\n",
    "        self.fc3 = nn.Linear(84, 1)\n",
    "\n",
    "    def forward(self, x):\n",
    "        x = self.pool(F.relu(self.conv1(x)))\n",
    "        x = self.pool(F.relu(self.conv2(x)))\n",
    "        x = torch.flatten(x, 1) # flatten all dimensions except batch\n",
    "        x = F.relu(self.fc1(x))\n",
    "        x = F.relu(self.fc2(x))\n",
    "        x = self.fc3(x)\n",
    "        return x\n"
   ]
  },
  {
   "cell_type": "code",
   "execution_count": 6,
   "id": "cdd2f98d-b8e4-4ae3-b5ee-3a1c85c453a7",
   "metadata": {},
   "outputs": [
    {
     "data": {
      "text/plain": [
       "VisionTransformer(\n",
       "  (embedding_layer): EmbeddingStem(\n",
       "    (pos_drop): Dropout(p=0.0, inplace=False)\n",
       "    (projection): Sequential(\n",
       "      (0): Conv2d(1, 96, kernel_size=(2, 2), stride=(2, 2))\n",
       "    )\n",
       "  )\n",
       "  (transformer): Transformer(\n",
       "    (layers): ModuleList(\n",
       "      (0): ModuleList(\n",
       "        (0): PreNorm(\n",
       "          (norm): LayerNorm((96,), eps=1e-05, elementwise_affine=True)\n",
       "          (fn): Attention(\n",
       "            (qkv): Linear(in_features=96, out_features=288, bias=False)\n",
       "            (attn_drop): Dropout(p=0.0, inplace=False)\n",
       "            (proj): Linear(in_features=96, out_features=96, bias=True)\n",
       "            (proj_drop): Dropout(p=0.0, inplace=False)\n",
       "          )\n",
       "        )\n",
       "        (1): FeedForward(\n",
       "          (net): Sequential(\n",
       "            (0): Conv1d(96, 192, kernel_size=(1,), stride=(1,))\n",
       "            (1): BatchNorm1d(192, eps=1e-05, momentum=0.1, affine=True, track_running_stats=True)\n",
       "            (2): GELU(approximate=none)\n",
       "            (3): Dropout(p=0.0, inplace=False)\n",
       "            (4): Conv1d(192, 96, kernel_size=(1,), stride=(1,))\n",
       "            (5): BatchNorm1d(96, eps=1e-05, momentum=0.1, affine=True, track_running_stats=True)\n",
       "            (6): GELU(approximate=none)\n",
       "          )\n",
       "        )\n",
       "      )\n",
       "      (1): ModuleList(\n",
       "        (0): PreNorm(\n",
       "          (norm): LayerNorm((96,), eps=1e-05, elementwise_affine=True)\n",
       "          (fn): Attention(\n",
       "            (qkv): Linear(in_features=96, out_features=288, bias=False)\n",
       "            (attn_drop): Dropout(p=0.0, inplace=False)\n",
       "            (proj): Linear(in_features=96, out_features=96, bias=True)\n",
       "            (proj_drop): Dropout(p=0.0, inplace=False)\n",
       "          )\n",
       "        )\n",
       "        (1): FeedForward(\n",
       "          (net): Sequential(\n",
       "            (0): Conv1d(96, 192, kernel_size=(1,), stride=(1,))\n",
       "            (1): BatchNorm1d(192, eps=1e-05, momentum=0.1, affine=True, track_running_stats=True)\n",
       "            (2): GELU(approximate=none)\n",
       "            (3): Dropout(p=0.0, inplace=False)\n",
       "            (4): Conv1d(192, 96, kernel_size=(1,), stride=(1,))\n",
       "            (5): BatchNorm1d(96, eps=1e-05, momentum=0.1, affine=True, track_running_stats=True)\n",
       "            (6): GELU(approximate=none)\n",
       "          )\n",
       "        )\n",
       "      )\n",
       "      (2): ModuleList(\n",
       "        (0): PreNorm(\n",
       "          (norm): LayerNorm((96,), eps=1e-05, elementwise_affine=True)\n",
       "          (fn): Attention(\n",
       "            (qkv): Linear(in_features=96, out_features=288, bias=False)\n",
       "            (attn_drop): Dropout(p=0.0, inplace=False)\n",
       "            (proj): Linear(in_features=96, out_features=96, bias=True)\n",
       "            (proj_drop): Dropout(p=0.0, inplace=False)\n",
       "          )\n",
       "        )\n",
       "        (1): FeedForward(\n",
       "          (net): Sequential(\n",
       "            (0): Conv1d(96, 192, kernel_size=(1,), stride=(1,))\n",
       "            (1): BatchNorm1d(192, eps=1e-05, momentum=0.1, affine=True, track_running_stats=True)\n",
       "            (2): GELU(approximate=none)\n",
       "            (3): Dropout(p=0.0, inplace=False)\n",
       "            (4): Conv1d(192, 96, kernel_size=(1,), stride=(1,))\n",
       "            (5): BatchNorm1d(96, eps=1e-05, momentum=0.1, affine=True, track_running_stats=True)\n",
       "            (6): GELU(approximate=none)\n",
       "          )\n",
       "        )\n",
       "      )\n",
       "      (3): ModuleList(\n",
       "        (0): PreNorm(\n",
       "          (norm): LayerNorm((96,), eps=1e-05, elementwise_affine=True)\n",
       "          (fn): Attention(\n",
       "            (qkv): Linear(in_features=96, out_features=288, bias=False)\n",
       "            (attn_drop): Dropout(p=0.0, inplace=False)\n",
       "            (proj): Linear(in_features=96, out_features=96, bias=True)\n",
       "            (proj_drop): Dropout(p=0.0, inplace=False)\n",
       "          )\n",
       "        )\n",
       "        (1): FeedForward(\n",
       "          (net): Sequential(\n",
       "            (0): Conv1d(96, 192, kernel_size=(1,), stride=(1,))\n",
       "            (1): BatchNorm1d(192, eps=1e-05, momentum=0.1, affine=True, track_running_stats=True)\n",
       "            (2): GELU(approximate=none)\n",
       "            (3): Dropout(p=0.0, inplace=False)\n",
       "            (4): Conv1d(192, 96, kernel_size=(1,), stride=(1,))\n",
       "            (5): BatchNorm1d(96, eps=1e-05, momentum=0.1, affine=True, track_running_stats=True)\n",
       "            (6): GELU(approximate=none)\n",
       "          )\n",
       "        )\n",
       "      )\n",
       "      (4): ModuleList(\n",
       "        (0): PreNorm(\n",
       "          (norm): LayerNorm((96,), eps=1e-05, elementwise_affine=True)\n",
       "          (fn): Attention(\n",
       "            (qkv): Linear(in_features=96, out_features=288, bias=False)\n",
       "            (attn_drop): Dropout(p=0.0, inplace=False)\n",
       "            (proj): Linear(in_features=96, out_features=96, bias=True)\n",
       "            (proj_drop): Dropout(p=0.0, inplace=False)\n",
       "          )\n",
       "        )\n",
       "        (1): FeedForward(\n",
       "          (net): Sequential(\n",
       "            (0): Conv1d(96, 192, kernel_size=(1,), stride=(1,))\n",
       "            (1): BatchNorm1d(192, eps=1e-05, momentum=0.1, affine=True, track_running_stats=True)\n",
       "            (2): GELU(approximate=none)\n",
       "            (3): Dropout(p=0.0, inplace=False)\n",
       "            (4): Conv1d(192, 96, kernel_size=(1,), stride=(1,))\n",
       "            (5): BatchNorm1d(96, eps=1e-05, momentum=0.1, affine=True, track_running_stats=True)\n",
       "            (6): GELU(approximate=none)\n",
       "          )\n",
       "        )\n",
       "      )\n",
       "      (5): ModuleList(\n",
       "        (0): PreNorm(\n",
       "          (norm): LayerNorm((96,), eps=1e-05, elementwise_affine=True)\n",
       "          (fn): Attention(\n",
       "            (qkv): Linear(in_features=96, out_features=288, bias=False)\n",
       "            (attn_drop): Dropout(p=0.0, inplace=False)\n",
       "            (proj): Linear(in_features=96, out_features=96, bias=True)\n",
       "            (proj_drop): Dropout(p=0.0, inplace=False)\n",
       "          )\n",
       "        )\n",
       "        (1): FeedForward(\n",
       "          (net): Sequential(\n",
       "            (0): Conv1d(96, 192, kernel_size=(1,), stride=(1,))\n",
       "            (1): BatchNorm1d(192, eps=1e-05, momentum=0.1, affine=True, track_running_stats=True)\n",
       "            (2): GELU(approximate=none)\n",
       "            (3): Dropout(p=0.0, inplace=False)\n",
       "            (4): Conv1d(192, 96, kernel_size=(1,), stride=(1,))\n",
       "            (5): BatchNorm1d(96, eps=1e-05, momentum=0.1, affine=True, track_running_stats=True)\n",
       "            (6): GELU(approximate=none)\n",
       "          )\n",
       "        )\n",
       "      )\n",
       "      (6): ModuleList(\n",
       "        (0): PreNorm(\n",
       "          (norm): LayerNorm((96,), eps=1e-05, elementwise_affine=True)\n",
       "          (fn): Attention(\n",
       "            (qkv): Linear(in_features=96, out_features=288, bias=False)\n",
       "            (attn_drop): Dropout(p=0.0, inplace=False)\n",
       "            (proj): Linear(in_features=96, out_features=96, bias=True)\n",
       "            (proj_drop): Dropout(p=0.0, inplace=False)\n",
       "          )\n",
       "        )\n",
       "        (1): FeedForward(\n",
       "          (net): Sequential(\n",
       "            (0): Conv1d(96, 192, kernel_size=(1,), stride=(1,))\n",
       "            (1): BatchNorm1d(192, eps=1e-05, momentum=0.1, affine=True, track_running_stats=True)\n",
       "            (2): GELU(approximate=none)\n",
       "            (3): Dropout(p=0.0, inplace=False)\n",
       "            (4): Conv1d(192, 96, kernel_size=(1,), stride=(1,))\n",
       "            (5): BatchNorm1d(96, eps=1e-05, momentum=0.1, affine=True, track_running_stats=True)\n",
       "            (6): GELU(approximate=none)\n",
       "          )\n",
       "        )\n",
       "      )\n",
       "      (7): ModuleList(\n",
       "        (0): PreNorm(\n",
       "          (norm): LayerNorm((96,), eps=1e-05, elementwise_affine=True)\n",
       "          (fn): Attention(\n",
       "            (qkv): Linear(in_features=96, out_features=288, bias=False)\n",
       "            (attn_drop): Dropout(p=0.0, inplace=False)\n",
       "            (proj): Linear(in_features=96, out_features=96, bias=True)\n",
       "            (proj_drop): Dropout(p=0.0, inplace=False)\n",
       "          )\n",
       "        )\n",
       "        (1): FeedForward(\n",
       "          (net): Sequential(\n",
       "            (0): Conv1d(96, 192, kernel_size=(1,), stride=(1,))\n",
       "            (1): BatchNorm1d(192, eps=1e-05, momentum=0.1, affine=True, track_running_stats=True)\n",
       "            (2): GELU(approximate=none)\n",
       "            (3): Dropout(p=0.0, inplace=False)\n",
       "            (4): Conv1d(192, 96, kernel_size=(1,), stride=(1,))\n",
       "            (5): BatchNorm1d(96, eps=1e-05, momentum=0.1, affine=True, track_running_stats=True)\n",
       "            (6): GELU(approximate=none)\n",
       "          )\n",
       "        )\n",
       "      )\n",
       "    )\n",
       "  )\n",
       "  (post_transformer_ln): LayerNorm((96,), eps=1e-05, elementwise_affine=True)\n",
       "  (cls_layer): OutputLayer(\n",
       "    (net): Sequential(\n",
       "      (0): Linear(in_features=96, out_features=1, bias=True)\n",
       "    )\n",
       "  )\n",
       ")"
      ]
     },
     "execution_count": 6,
     "metadata": {},
     "output_type": "execute_result"
    }
   ],
   "source": [
    "net = vit1.VisionTransformer()\n",
    "# net = Net()\n",
    "net.to(device)"
   ]
  },
  {
   "cell_type": "code",
   "execution_count": 7,
   "id": "d65c171c-f082-4448-abe4-1444958ed1f2",
   "metadata": {},
   "outputs": [
    {
     "name": "stdout",
     "output_type": "stream",
     "text": [
      "624385\n"
     ]
    }
   ],
   "source": [
    "total_params = sum(p.numel() for p in net.parameters())\n",
    "print(total_params)"
   ]
  },
  {
   "cell_type": "code",
   "execution_count": 8,
   "id": "c045d6ac-76ec-42ba-9f9a-9b65535f0472",
   "metadata": {},
   "outputs": [],
   "source": [
    "# loss_function = torch.nn.BCELoss()\n",
    "loss_function = torch.nn.L1Loss()"
   ]
  },
  {
   "cell_type": "code",
   "execution_count": 9,
   "id": "48e4a546-8017-40d6-baf6-50a4cbb409e6",
   "metadata": {},
   "outputs": [],
   "source": [
    "import torch.optim as optim\n",
    "\n",
    "optimizer = optim.Adam(net.parameters(), lr=0.001, weight_decay=1e-5)"
   ]
  },
  {
   "cell_type": "code",
   "execution_count": 10,
   "id": "63c625bb-d472-4d76-9c4f-67f943f2c13f",
   "metadata": {},
   "outputs": [],
   "source": [
    "trainloss = []\n",
    "testloss = []"
   ]
  },
  {
   "cell_type": "code",
   "execution_count": 11,
   "id": "d751baee-363b-411e-89cb-f9c93da0678e",
   "metadata": {},
   "outputs": [],
   "source": [
    "EPOCHS = 50\n",
    "count = 0\n",
    "\n",
    "lowestLoss = 0\n",
    "lowestNet = 0"
   ]
  },
  {
   "cell_type": "code",
   "execution_count": 12,
   "id": "alternate-wiring",
   "metadata": {
    "tags": []
   },
   "outputs": [
    {
     "data": {
      "application/vnd.jupyter.widget-view+json": {
       "model_id": "85fa51c47a9641078f1884d8625851f2",
       "version_major": 2,
       "version_minor": 0
      },
      "text/plain": [
       "  0%|          | 0/50 [00:00<?, ?it/s]"
      ]
     },
     "metadata": {},
     "output_type": "display_data"
    },
    {
     "name": "stdout",
     "output_type": "stream",
     "text": [
      "100% Completed\n"
     ]
    }
   ],
   "source": [
    "from tqdm.notebook import tqdm\n",
    "\n",
    "for epoch in tqdm(range(EPOCHS)):    \n",
    "    for data in trainset:\n",
    "        X, y = data\n",
    "        X = X.to(device)\n",
    "        y = y.to(device)\n",
    "\n",
    "        net.zero_grad()\n",
    "        output = net(X)\n",
    "        loss = loss_function(output, y)\n",
    "        loss.backward()\n",
    "        optimizer.step()\n",
    "        \n",
    "    count += 1 \n",
    "\n",
    "    if count % 1 == 0:\n",
    "        trainloss.append(getTrainAccuracy(net, trainset))\n",
    "\n",
    "        testLoss = getAccuracy(net, testset)\n",
    "        testloss.append(testLoss)\n",
    "\n",
    "        if testLoss > lowestLoss:\n",
    "            lowestLoss = testLoss\n",
    "            lowestNet = epoch\n",
    "\n",
    "            torch.save(net, f\"nets/net{epoch}.pt\")\n",
    "\n",
    "\n",
    "print(\"100% Completed\")"
   ]
  },
  {
   "cell_type": "code",
   "execution_count": 13,
   "id": "e47ed27e-8189-4029-8a58-5c2b6df6d5bd",
   "metadata": {
    "tags": []
   },
   "outputs": [
    {
     "name": "stdout",
     "output_type": "stream",
     "text": [
      "22\n",
      "0.868421052631579\n"
     ]
    }
   ],
   "source": [
    "print(lowestNet)\n",
    "print(lowestLoss)"
   ]
  },
  {
   "cell_type": "code",
   "execution_count": 14,
   "id": "ef936ec7-78f7-46f3-a42b-2e1787d91c64",
   "metadata": {},
   "outputs": [],
   "source": [
    "# lowestNet = 99"
   ]
  },
  {
   "cell_type": "code",
   "execution_count": 15,
   "id": "ad15c882-791f-4f2c-865c-62226145dfdc",
   "metadata": {},
   "outputs": [],
   "source": [
    "net = torch.load(f\"nets/net{lowestNet}.pt\")\n",
    "# net = torch.load(f\"anm2.pt\")"
   ]
  },
  {
   "cell_type": "code",
   "execution_count": 16,
   "id": "e708ea8a-6bd1-4160-be33-c6a28252f6c7",
   "metadata": {
    "tags": []
   },
   "outputs": [
    {
     "name": "stdout",
     "output_type": "stream",
     "text": [
      "0.868421052631579\n"
     ]
    }
   ],
   "source": [
    "pos = 0\n",
    "neg = 0\n",
    "\n",
    "wrong = 0\n",
    "right = 0\n",
    "total = 0\n",
    "\n",
    "with torch.no_grad():\n",
    "    for data in testset:\n",
    "        X, y = data\n",
    "\n",
    "        X = X.to(device)\n",
    "        y = y.to(device)\n",
    "        \n",
    "        net.eval()\n",
    "\n",
    "        output = torch.clamp(net(X), min=0.0, max=1.0)\n",
    "\n",
    "        for i in range(len(output)):\n",
    "            if y[i][0] == round(float(output[i][0])):\n",
    "                right += 1\n",
    "            else:\n",
    "                wrong += 1\n",
    "\n",
    "            total += 1\n",
    "\n",
    "print(right / total)"
   ]
  },
  {
   "cell_type": "code",
   "execution_count": 17,
   "id": "49126299-1c59-4cdd-baf3-21de69c4a725",
   "metadata": {},
   "outputs": [
    {
     "data": {
      "text/plain": [
       "tensor(0., device='cuda:0')"
      ]
     },
     "execution_count": 17,
     "metadata": {},
     "output_type": "execute_result"
    }
   ],
   "source": [
    "output[i][0]"
   ]
  },
  {
   "cell_type": "code",
   "execution_count": 18,
   "id": "7d0337e0-3743-48ef-9a53-05ad01e278c7",
   "metadata": {},
   "outputs": [],
   "source": [
    "RES = 1000"
   ]
  },
  {
   "cell_type": "code",
   "execution_count": 19,
   "id": "4ad1b8c9-2938-44ee-88a5-bd7e86ec3862",
   "metadata": {},
   "outputs": [],
   "source": [
    "falsePos = [0] * RES\n",
    "truePos = [0] * RES\n",
    "falseNeg = [0] * RES\n",
    "trueNeg = [0] * RES"
   ]
  },
  {
   "cell_type": "code",
   "execution_count": 20,
   "id": "rising-scientist",
   "metadata": {},
   "outputs": [
    {
     "data": {
      "application/vnd.jupyter.widget-view+json": {
       "model_id": "a00e1a371a7f4d7fb128631e8d9c0514",
       "version_major": 2,
       "version_minor": 0
      },
      "text/plain": [
       "  0%|          | 0/19 [00:00<?, ?it/s]"
      ]
     },
     "metadata": {},
     "output_type": "display_data"
    }
   ],
   "source": [
    "from tqdm.notebook import tqdm\n",
    "\n",
    "with torch.no_grad():\n",
    "    for data in tqdm(testset):\n",
    "        X, y = data\n",
    "        \n",
    "        X = X.to(device)\n",
    "        y = y.to(device)\n",
    "        \n",
    "        net.eval()\n",
    "\n",
    "        output = net(X)\n",
    "        \n",
    "        for i in range(RES):\n",
    "            loss = wrongAns(output, y, 2 * i / (RES - 1) - 0.5)\n",
    "            truePos[i] += loss[0]\n",
    "            falsePos[i] += loss[1]\n",
    "            trueNeg[i] += loss[2]\n",
    "            falseNeg[i] += loss[3]"
   ]
  },
  {
   "cell_type": "code",
   "execution_count": 21,
   "id": "d25d45a6-1228-475b-bcf6-993104292401",
   "metadata": {},
   "outputs": [
    {
     "name": "stdout",
     "output_type": "stream",
     "text": [
      "Accuracy: 0.8736842105263158\n",
      "577\n"
     ]
    },
    {
     "data": {
      "image/png": "[encoded data removed]",
      "text/plain": [
       "<Figure size 640x480 with 1 Axes>"
      ]
     },
     "metadata": {},
     "output_type": "display_data"
    }
   ],
   "source": [
    "hAcu = 0\n",
    "\n",
    "falsePosRate = []\n",
    "truePosRate = []\n",
    "\n",
    "for i in range(len(truePos)):\n",
    "    falsePosRate.append(falsePos[i] / (falsePos[i] + trueNeg[i]))\n",
    "    truePosRate.append(truePos[i] / (truePos[i] + falseNeg[i]))\n",
    "\n",
    "for i in range(RES):\n",
    "    if hAcu < truePos[i] + trueNeg[i]:\n",
    "        hAcu = truePos[i] + trueNeg[i]\n",
    "        lowestIndex = i\n",
    "\n",
    "print(f\"Accuracy: {(truePos[lowestIndex] + trueNeg[lowestIndex]) / (falsePos[0] + falseNeg[0] + truePos[0] + trueNeg[0])}\")\n",
    "print(lowestIndex)\n",
    "    \n",
    "plt.plot(falsePosRate, truePosRate)\n",
    "plt.grid()"
   ]
  },
  {
   "cell_type": "code",
   "execution_count": 22,
   "id": "3c8b679e-aca0-4f71-8704-f0190e516276",
   "metadata": {},
   "outputs": [
    {
     "name": "stdout",
     "output_type": "stream",
     "text": [
      "0.9301307624113475\n"
     ]
    }
   ],
   "source": [
    "import sklearn.metrics\n",
    "\n",
    "auc = sklearn.metrics.auc(falsePosRate, truePosRate)\n",
    "\n",
    "print(auc)"
   ]
  },
  {
   "cell_type": "code",
   "execution_count": 23,
   "id": "center-impression",
   "metadata": {},
   "outputs": [
    {
     "data": {
      "image/png": "[encoded data removed]",
      "text/plain": [
       "<Figure size 640x480 with 1 Axes>"
      ]
     },
     "metadata": {},
     "output_type": "display_data"
    }
   ],
   "source": [
    "plt.plot(testloss)\n",
    "plt.plot(trainloss)\n",
    "plt.ylim([0.0, 1.0])\n",
    "plt.grid()"
   ]
  },
  {
   "cell_type": "code",
   "execution_count": 24,
   "id": "million-updating",
   "metadata": {},
   "outputs": [
    {
     "data": {
      "image/png": "[encoded data removed]",
      "text/plain": [
       "<Figure size 640x480 with 1 Axes>"
      ]
     },
     "metadata": {},
     "output_type": "display_data"
    }
   ],
   "source": [
    "avgTrainLoss = getAvgLoss(trainloss)\n",
    "avgTestLoss = getAvgLoss(testloss)\n",
    "\n",
    "plt.plot(avgTestLoss)\n",
    "plt.plot(avgTrainLoss)\n",
    "plt.grid()"
   ]
  },
  {
   "cell_type": "code",
   "execution_count": 25,
   "id": "b8ff8edf-98e0-4a6b-b34a-bb1a9ce2521b",
   "metadata": {},
   "outputs": [],
   "source": [
    "data = iter(testset)"
   ]
  },
  {
   "cell_type": "code",
   "execution_count": 33,
   "id": "removed-article",
   "metadata": {},
   "outputs": [
    {
     "name": "stdout",
     "output_type": "stream",
     "text": [
      "tensor([0.], device='cuda:0')\n"
     ]
    },
    {
     "data": {
      "text/plain": [
       "<matplotlib.image.AxesImage at 0x14e7fe65040>"
      ]
     },
     "execution_count": 33,
     "metadata": {},
     "output_type": "execute_result"
    },
    {
     "data": {
      "image/png": "[encoded data removed]",
      "text/plain": [
       "<Figure size 640x480 with 1 Axes>"
      ]
     },
     "metadata": {},
     "output_type": "display_data"
    }
   ],
   "source": [
    "X, y = data.next()\n",
    "\n",
    "X = X.to(device)\n",
    "y = y.to(device)\n",
    "        \n",
    "output = net(X)\n",
    "\n",
    "print(y[0])\n",
    "plt.imshow(X[0].view((32, 32)).cpu())"
   ]
  },
  {
   "cell_type": "code",
   "execution_count": 34,
   "id": "d3a1f1d3-58c6-4304-8378-e29f9d967ee8",
   "metadata": {},
   "outputs": [],
   "source": [
    "i = 0"
   ]
  },
  {
   "cell_type": "code",
   "execution_count": 35,
   "id": "0adbef04-aa51-4295-854c-63a72b350f85",
   "metadata": {},
   "outputs": [
    {
     "name": "stdout",
     "output_type": "stream",
     "text": [
      "tensor([0.], device='cuda:0')\n",
      "tensor([-0.0358], device='cuda:0', grad_fn=<SelectBackward0>)\n"
     ]
    },
    {
     "data": {
      "text/plain": [
       "1"
      ]
     },
     "execution_count": 35,
     "metadata": {},
     "output_type": "execute_result"
    },
    {
     "data": {
      "image/png": "[encoded data removed]",
      "text/plain": [
       "<Figure size 640x480 with 1 Axes>"
      ]
     },
     "metadata": {},
     "output_type": "display_data"
    }
   ],
   "source": [
    "print(y[i])\n",
    "print(output[i])\n",
    "plt.imshow(X[i].view((32, 32)).cpu())\n",
    "\n",
    "i += 1\n",
    "i %= 100\n",
    "\n",
    "i"
   ]
  },
  {
   "cell_type": "code",
   "execution_count": 29,
   "id": "d2aa0380-2713-4244-92dc-fcac9d04390f",
   "metadata": {},
   "outputs": [
    {
     "name": "stdout",
     "output_type": "stream",
     "text": [
      "tensor([0., 0., 0., 0., 1., 0., 0., 1., 0., 0.], device='cuda:0')\n"
     ]
    }
   ],
   "source": [
    "print(y.view(-1))"
   ]
  },
  {
   "cell_type": "code",
   "execution_count": 30,
   "id": "5a835a5d-de00-445e-9e58-b9dca249aff5",
   "metadata": {},
   "outputs": [
    {
     "name": "stdout",
     "output_type": "stream",
     "text": [
      "tensor([ 1.0070, -0.0419, -0.0258, -0.0288,  1.0122, -0.0302, -0.0352,  1.0095,\n",
      "        -0.0301,  0.0886], device='cuda:0', grad_fn=<ViewBackward0>)\n"
     ]
    }
   ],
   "source": [
    "print(output.view(-1))\n"
   ]
  },
  {
   "cell_type": "code",
   "execution_count": 31,
   "id": "186dee92-403c-4d96-a855-bc0b9133a389",
   "metadata": {},
   "outputs": [
    {
     "name": "stdout",
     "output_type": "stream",
     "text": [
      "tensor([[[[1.1562, 1.1772, 1.1387,  ..., 1.1696, 1.2009, 1.2217],\n",
      "          [1.2596, 1.2315, 1.2547,  ..., 1.0393, 1.0533, 0.9914],\n",
      "          [0.9957, 0.9826, 0.9823,  ..., 1.1136, 1.1574, 1.1057],\n",
      "          ...,\n",
      "          [1.1923, 1.1358, 1.1224,  ..., 1.1582, 1.1119, 1.0980],\n",
      "          [1.1061, 1.1165, 1.0676,  ..., 1.0873, 1.1256, 1.1736],\n",
      "          [1.1739, 1.1885, 1.1527,  ..., 1.2282, 1.1693, 1.1516]]],\n",
      "\n",
      "\n",
      "        [[[0.9649, 1.0270, 0.9998,  ..., 0.7750, 0.8261, 0.8036],\n",
      "          [0.7793, 0.7796, 0.7836,  ..., 0.8072, 0.8354, 0.8076],\n",
      "          [0.8726, 0.8516, 0.8533,  ..., 0.8886, 0.8751, 0.8332],\n",
      "          ...,\n",
      "          [0.8293, 0.8621, 0.8372,  ..., 0.8968, 0.9074, 0.8635],\n",
      "          [0.8597, 0.8754, 0.8596,  ..., 0.7272, 0.7201, 0.7988],\n",
      "          [0.8006, 0.8279, 0.8738,  ..., 0.9432, 0.9866, 0.9787]]],\n",
      "\n",
      "\n",
      "        [[[0.8868, 0.8456, 0.8804,  ..., 0.9027, 0.8928, 0.9460],\n",
      "          [0.9207, 0.9177, 0.9218,  ..., 0.8574, 0.7909, 0.7994],\n",
      "          [0.8053, 0.7922, 0.8029,  ..., 1.0513, 1.0653, 1.0652],\n",
      "          ...,\n",
      "          [0.8149, 0.8394, 0.8625,  ..., 0.9463, 0.9604, 0.9605],\n",
      "          [0.9399, 0.9390, 0.9832,  ..., 0.9304, 0.9056, 0.8747],\n",
      "          [0.8833, 0.8850, 0.8874,  ..., 0.9321, 0.9146, 0.8955]]],\n",
      "\n",
      "\n",
      "        ...,\n",
      "\n",
      "\n",
      "        [[[1.2327, 1.2046, 1.2327,  ..., 1.2878, 1.2830, 1.3138],\n",
      "          [1.2989, 1.2540, 1.2688,  ..., 1.3509, 1.3007, 1.2568],\n",
      "          [1.2634, 1.2067, 1.1937,  ..., 1.1943, 1.1806, 1.1819],\n",
      "          ...,\n",
      "          [1.1582, 1.1651, 1.1661,  ..., 1.2611, 1.2670, 1.2428],\n",
      "          [1.2621, 1.2451, 1.2360,  ..., 1.1585, 1.1422, 1.1325],\n",
      "          [1.1358, 1.1309, 1.0768,  ..., 1.2367, 1.2383, 1.2512]]],\n",
      "\n",
      "\n",
      "        [[[1.1377, 1.1144, 1.1293,  ..., 0.9669, 0.9992, 0.9938],\n",
      "          [0.9868, 0.9471, 0.9329,  ..., 1.0407, 0.9814, 0.9720],\n",
      "          [0.9717, 0.9952, 1.0318,  ..., 0.8594, 0.8677, 0.8670],\n",
      "          ...,\n",
      "          [0.8392, 0.8510, 0.8460,  ..., 0.8880, 0.9098, 0.8939],\n",
      "          [0.9229, 0.9348, 0.9557,  ..., 0.8504, 0.8436, 0.8037],\n",
      "          [0.8175, 0.8005, 0.7980,  ..., 1.1527, 1.1407, 1.2056]]],\n",
      "\n",
      "\n",
      "        [[[0.9486, 0.9399, 0.9525,  ..., 0.9045, 0.8939, 0.8280],\n",
      "          [0.8541, 0.8508, 0.8887,  ..., 1.0505, 1.0731, 1.0557],\n",
      "          [1.0448, 1.0052, 0.9784,  ..., 0.9125, 0.8586, 0.8186],\n",
      "          ...,\n",
      "          [0.8975, 0.9097, 0.9202,  ..., 1.1817, 1.2006, 1.2292],\n",
      "          [1.1915, 1.1933, 1.2471,  ..., 0.8625, 0.8662, 0.8528],\n",
      "          [0.8409, 0.8160, 0.8486,  ..., 0.9988, 0.9679, 0.9912]]]],\n",
      "       device='cuda:0')\n"
     ]
    }
   ],
   "source": [
    "print(X)"
   ]
  },
  {
   "cell_type": "code",
   "execution_count": null,
   "id": "ffd4529b-f2cc-41db-a82c-f24d796be412",
   "metadata": {},
   "outputs": [],
   "source": []
  },
  {
   "cell_type": "code",
   "execution_count": 32,
   "id": "4e18b9a2-1fff-42f1-bb17-986b644d9022",
   "metadata": {},
   "outputs": [
    {
     "data": {
      "text/plain": [
       "8"
      ]
     },
     "execution_count": 32,
     "metadata": {},
     "output_type": "execute_result"
    }
   ],
   "source": [
    "len(trainset)"
   ]
  },
  {
   "cell_type": "code",
   "execution_count": null,
   "id": "df7d5bcb-7d11-4864-83d2-a3ac2fd3c49e",
   "metadata": {},
   "outputs": [],
   "source": []
  }
 ],
 "metadata": {
  "kernelspec": {
   "display_name": "Python 3 (ipykernel)",
   "language": "python",
   "name": "python3"
  },
  "language_info": {
   "codemirror_mode": {
    "name": "ipython",
    "version": 3
   },
   "file_extension": ".py",
   "mimetype": "text/x-python",
   "name": "python",
   "nbconvert_exporter": "python",
   "pygments_lexer": "ipython3",
   "version": "3.9.5"
  }
 },
 "nbformat": 4,
 "nbformat_minor": 5
}
