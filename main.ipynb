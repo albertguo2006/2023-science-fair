{
 "cells": [
  {
   "cell_type": "code",
   "execution_count": 1,
   "id": "worthy-adventure",
   "metadata": {},
   "outputs": [
    {
     "name": "stderr",
     "output_type": "stream",
     "text": [
      "c:\\programdata\\miniconda3\\lib\\site-packages\\tqdm\\auto.py:22: TqdmWarning: IProgress not found. Please update jupyter and ipywidgets. See https://ipywidgets.readthedocs.io/en/stable/user_install.html\n",
      "  from .autonotebook import tqdm as notebook_tqdm\n"
     ]
    }
   ],
   "source": [
    "import numpy as np\n",
    "import matplotlib.pyplot as plt\n",
    "import torch\n",
    "import torchvision\n",
    "from PIL import Image\n",
    "from torch import nn, Tensor\n",
    "import torch.nn.functional as F\n",
    "import math\n",
    "from typing import Tuple\n",
    "from torch.nn import TransformerEncoder, TransformerEncoderLayer\n",
    "from simpletransformers.classification import ClassificationModel, ClassificationArgs\n",
    "import pandas as pd\n",
    "import logging\n",
    "\n",
    "import vit\n",
    "from helper import *"
   ]
  },
  {
   "cell_type": "code",
   "execution_count": 2,
   "id": "f5b6d242-acad-4baa-a3cb-bc066d321373",
   "metadata": {},
   "outputs": [],
   "source": [
    "USE_CUDA = True"
   ]
  },
  {
   "cell_type": "code",
   "execution_count": 3,
   "id": "0e2bfece-e5ca-45e2-9776-6aff05b2a5cc",
   "metadata": {},
   "outputs": [
    {
     "name": "stdout",
     "output_type": "stream",
     "text": [
      "Running on the GPU\n"
     ]
    }
   ],
   "source": [
    "if torch.cuda.is_available() and USE_CUDA == True:\n",
    "    device = torch.device(\"cuda:0\")\n",
    "    print(\"Running on the GPU\")\n",
    "else:\n",
    "    device = torch.device(\"cpu\")\n",
    "    print(\"Running on the CPU\")"
   ]
  },
  {
   "cell_type": "code",
   "execution_count": 4,
   "id": "5e4625b6-05c9-494b-b6f8-1c1b25e82633",
   "metadata": {},
   "outputs": [],
   "source": [
    "train = geneDataset(\"train\")\n",
    "test = geneDataset(\"test\")"
   ]
  },
  {
   "cell_type": "code",
   "execution_count": 5,
   "id": "94a7712f-62a8-4a01-b22e-61aa5c5e9e28",
   "metadata": {},
   "outputs": [],
   "source": [
    "trainset = torch.utils.data.DataLoader(train, batch_size=40, shuffle=True)\n",
    "testset = torch.utils.data.DataLoader(test, batch_size=40, shuffle=True)"
   ]
  },
  {
   "cell_type": "code",
   "execution_count": 6,
   "id": "de82e425-e9af-4032-a5c8-d080fa9dd49f",
   "metadata": {},
   "outputs": [
    {
     "name": "stdout",
     "output_type": "stream",
     "text": [
      "variable not yet declared\n"
     ]
    },
    {
     "data": {
      "text/plain": [
       "0"
      ]
     },
     "execution_count": 6,
     "metadata": {},
     "output_type": "execute_result"
    }
   ],
   "source": [
    "import gc\n",
    "\n",
    "try:\n",
    "    del net\n",
    "    del X\n",
    "    del y\n",
    "    \n",
    "except:\n",
    "    print(\"variable not yet declared\")\n",
    "\n",
    "gc.collect()"
   ]
  },
  {
   "cell_type": "code",
   "execution_count": 7,
   "id": "d48e992a-52b4-4dcd-a107-42664d8244d6",
   "metadata": {},
   "outputs": [],
   "source": [
    "class Net(nn.Module):\n",
    "    def __init__(self):\n",
    "        super().__init__()\n",
    "        self.conv1 = nn.Conv2d(1, 6, 5)\n",
    "        self.pool = nn.MaxPool2d(2, 2)\n",
    "        self.conv2 = nn.Conv2d(6, 16, 5)\n",
    "        self.fc1 = nn.Linear(16 * 5 * 5, 120)\n",
    "        self.fc2 = nn.Linear(120, 84)\n",
    "        self.fc3 = nn.Linear(84, 2)\n",
    "\n",
    "    def forward(self, x):\n",
    "        x = self.pool(F.relu(self.conv1(x)))\n",
    "        x = self.pool(F.relu(self.conv2(x)))\n",
    "        x = torch.flatten(x, 1) # flatten all dimensions except batch\n",
    "        x = F.relu(self.fc1(x))\n",
    "        x = F.relu(self.fc2(x))\n",
    "        x = self.fc3(x)\n",
    "        return x.type(torch.FloatTensor)\n"
   ]
  },
  {
   "cell_type": "code",
   "execution_count": 8,
   "id": "cdd2f98d-b8e4-4ae3-b5ee-3a1c85c453a7",
   "metadata": {},
   "outputs": [
    {
     "data": {
      "text/plain": [
       "Net(\n",
       "  (conv1): Conv2d(1, 6, kernel_size=(5, 5), stride=(1, 1))\n",
       "  (pool): MaxPool2d(kernel_size=2, stride=2, padding=0, dilation=1, ceil_mode=False)\n",
       "  (conv2): Conv2d(6, 16, kernel_size=(5, 5), stride=(1, 1))\n",
       "  (fc1): Linear(in_features=400, out_features=120, bias=True)\n",
       "  (fc2): Linear(in_features=120, out_features=84, bias=True)\n",
       "  (fc3): Linear(in_features=84, out_features=2, bias=True)\n",
       ")"
      ]
     },
     "execution_count": 8,
     "metadata": {},
     "output_type": "execute_result"
    }
   ],
   "source": [
    "# net = vit.VisionTransformer()\n",
    "net = Net()\n",
    "net.to(device)"
   ]
  },
  {
   "cell_type": "code",
   "execution_count": 9,
   "id": "d65c171c-f082-4448-abe4-1444958ed1f2",
   "metadata": {},
   "outputs": [
    {
     "name": "stdout",
     "output_type": "stream",
     "text": [
      "61026\n"
     ]
    }
   ],
   "source": [
    "total_params = sum(p.numel() for p in net.parameters())\n",
    "print(total_params)"
   ]
  },
  {
   "cell_type": "code",
   "execution_count": 10,
   "id": "c045d6ac-76ec-42ba-9f9a-9b65535f0472",
   "metadata": {},
   "outputs": [],
   "source": [
    "loss_function = torch.nn.L1Loss()"
   ]
  },
  {
   "cell_type": "code",
   "execution_count": 11,
   "id": "9e125699-e2e8-4bc6-8b8e-07eef2de705a",
   "metadata": {},
   "outputs": [],
   "source": [
    "def getTestLoss():\n",
    "    loss = 0\n",
    "    \n",
    "    for data in testset:\n",
    "        X, y = data\n",
    "        X = X.to(device)\n",
    "\n",
    "        output = net(X)\n",
    "        loss += loss_function(output, y)\n",
    "    \n",
    "    return(loss)"
   ]
  },
  {
   "cell_type": "code",
   "execution_count": 12,
   "id": "89ae0198-7825-4e38-ad51-e80f3e0b219d",
   "metadata": {},
   "outputs": [],
   "source": [
    "pos = 0\n",
    "neg = 0\n",
    "\n",
    "def getAccuracy(net):\n",
    "    wrong = 0\n",
    "    right = 0\n",
    "    total = 0\n",
    "\n",
    "    with torch.no_grad():\n",
    "        for data in testset:\n",
    "            X, y = data\n",
    "\n",
    "            X = X.to(device)\n",
    "            y = y.to(device)\n",
    "\n",
    "            output = net(X)\n",
    "\n",
    "            for i in range(len(output)):\n",
    "                if y[i][0] == round(float(output[i][0])):\n",
    "                    right += 1\n",
    "                else:\n",
    "                    wrong += 1\n",
    "\n",
    "                total += 1\n",
    "\n",
    "    return (right / total)"
   ]
  },
  {
   "cell_type": "code",
   "execution_count": 13,
   "id": "48e4a546-8017-40d6-baf6-50a4cbb409e6",
   "metadata": {},
   "outputs": [],
   "source": [
    "import torch.optim as optim\n",
    "\n",
    "optimizer = optim.Adam(net.parameters(), lr=0.0005)"
   ]
  },
  {
   "cell_type": "code",
   "execution_count": 14,
   "id": "63c625bb-d472-4d76-9c4f-67f943f2c13f",
   "metadata": {},
   "outputs": [],
   "source": [
    "trainloss = []\n",
    "testloss = []"
   ]
  },
  {
   "cell_type": "code",
   "execution_count": 15,
   "id": "d751baee-363b-411e-89cb-f9c93da0678e",
   "metadata": {},
   "outputs": [],
   "source": [
    "EPOCHS = 15\n",
    "count = 0\n",
    "\n",
    "lowestLoss = 0\n",
    "lowestNet = 0"
   ]
  },
  {
   "cell_type": "code",
   "execution_count": 16,
   "id": "alternate-wiring",
   "metadata": {},
   "outputs": [
    {
     "name": "stderr",
     "output_type": "stream",
     "text": [
      "c:\\programdata\\miniconda3\\lib\\site-packages\\torch\\nn\\modules\\loss.py:96: UserWarning: Using a target size (torch.Size([40, 1])) that is different to the input size (torch.Size([40, 2])). This will likely lead to incorrect results due to broadcasting. Please ensure they have the same size.\n",
      "  return F.l1_loss(input, target, reduction=self.reduction)\n",
      "c:\\programdata\\miniconda3\\lib\\site-packages\\torch\\nn\\modules\\loss.py:96: UserWarning: Using a target size (torch.Size([1, 1])) that is different to the input size (torch.Size([1, 2])). This will likely lead to incorrect results due to broadcasting. Please ensure they have the same size.\n",
      "  return F.l1_loss(input, target, reduction=self.reduction)\n"
     ]
    },
    {
     "name": "stdout",
     "output_type": "stream",
     "text": [
      "6.67% Completed\n",
      "13.33% Completed\n",
      "20.0% Completed\n",
      "26.67% Completed\n",
      "33.33% Completed\n",
      "40.0% Completed\n",
      "46.67% Completed\n",
      "53.33% Completed\n",
      "60.0% Completed\n",
      "66.67% Completed\n",
      "73.33% Completed\n",
      "80.0% Completed\n",
      "86.67% Completed\n",
      "93.33% Completed\n",
      "100.0% Completed\n",
      "100% Completed\n"
     ]
    }
   ],
   "source": [
    "for epoch in range(EPOCHS):    \n",
    "    for data in trainset:\n",
    "        X, y = data\n",
    "        X = X.to(device)\n",
    "\n",
    "        net.zero_grad()\n",
    "        output = net(X)\n",
    "        loss = loss_function(output, y)\n",
    "        loss.backward()\n",
    "        optimizer.step()\n",
    "        \n",
    "    count += 1 \n",
    "\n",
    "    print(f\"{round((count * 100 / EPOCHS), 2)}% Completed\")\n",
    "\n",
    "    trainloss.append(float(loss))\n",
    "\n",
    "    testLoss = getAccuracy(net)\n",
    "    testloss.append(testLoss)\n",
    "\n",
    "    if testLoss > lowestLoss:\n",
    "        lowestLoss = testLoss\n",
    "        lowestNet = epoch\n",
    "\n",
    "    # torch.save(net, f\"nets/net{epoch}.pt\")\n",
    "\n",
    "\n",
    "print(\"100% Completed\")"
   ]
  },
  {
   "cell_type": "code",
   "execution_count": 17,
   "id": "e47ed27e-8189-4029-8a58-5c2b6df6d5bd",
   "metadata": {},
   "outputs": [
    {
     "name": "stdout",
     "output_type": "stream",
     "text": [
      "9\n"
     ]
    }
   ],
   "source": [
    "print(lowestNet)"
   ]
  },
  {
   "cell_type": "code",
   "execution_count": 18,
   "id": "ef936ec7-78f7-46f3-a42b-2e1787d91c64",
   "metadata": {},
   "outputs": [],
   "source": [
    "# lowestNet = 99"
   ]
  },
  {
   "cell_type": "code",
   "execution_count": 19,
   "id": "ad15c882-791f-4f2c-865c-62226145dfdc",
   "metadata": {},
   "outputs": [],
   "source": [
    "# net = torch.load(f\"nets/net{lowestNet}.pt\")"
   ]
  },
  {
   "cell_type": "code",
   "execution_count": 20,
   "id": "e708ea8a-6bd1-4160-be33-c6a28252f6c7",
   "metadata": {},
   "outputs": [
    {
     "name": "stdout",
     "output_type": "stream",
     "text": [
      "0.7842105263157895\n"
     ]
    }
   ],
   "source": [
    "pos = 0\n",
    "neg = 0\n",
    "\n",
    "\n",
    "wrong = 0\n",
    "right = 0\n",
    "total = 0\n",
    "\n",
    "with torch.no_grad():\n",
    "    for data in testset:\n",
    "        X, y = data\n",
    "\n",
    "        X = X.to(device)\n",
    "        y = y.to(device)\n",
    "\n",
    "        output = net(X)\n",
    "\n",
    "        for i in range(len(output)):\n",
    "            if y[i][0] == round(float(output[i][0])):\n",
    "                right += 1\n",
    "            else:\n",
    "                wrong += 1\n",
    "\n",
    "            total += 1\n",
    "\n",
    "print(right / total)"
   ]
  },
  {
   "cell_type": "code",
   "execution_count": 21,
   "id": "7d0337e0-3743-48ef-9a53-05ad01e278c7",
   "metadata": {},
   "outputs": [],
   "source": [
    "RES = 1000"
   ]
  },
  {
   "cell_type": "code",
   "execution_count": 22,
   "id": "4ad1b8c9-2938-44ee-88a5-bd7e86ec3862",
   "metadata": {},
   "outputs": [],
   "source": [
    "falsePos = [0] * RES\n",
    "truePos = [0] * RES\n",
    "falseNeg = [0] * RES\n",
    "trueNeg = [0] * RES"
   ]
  },
  {
   "cell_type": "code",
   "execution_count": 23,
   "id": "rising-scientist",
   "metadata": {},
   "outputs": [
    {
     "name": "stdout",
     "output_type": "stream",
     "text": [
      "20.0% Completed\n",
      "40.0% Completed\n",
      "60.0% Completed\n",
      "80.0% Completed\n",
      "100.0% Completed\n"
     ]
    }
   ],
   "source": [
    "count = 0\n",
    "\n",
    "with torch.no_grad():\n",
    "    for data in testset:\n",
    "        X, y = data\n",
    "        \n",
    "        X = X.to(device)\n",
    "        y = y.to(device)\n",
    "\n",
    "        output = net(X)\n",
    "        \n",
    "        for i in range(RES):\n",
    "            loss = wrongAns(output, y, 2 * i / (RES - 1) - 0.5)\n",
    "            truePos[i] += loss[0]\n",
    "            falsePos[i] += loss[1]\n",
    "            trueNeg[i] += loss[2]\n",
    "            falseNeg[i] += loss[3]\n",
    "        \n",
    "        count += 1\n",
    "        \n",
    "        if count % 1 == 0:\n",
    "            print(f\"{round(count * 100 / len(testset), 2)}% Completed\")"
   ]
  },
  {
   "cell_type": "code",
   "execution_count": 24,
   "id": "d25d45a6-1228-475b-bcf6-993104292401",
   "metadata": {},
   "outputs": [
    {
     "name": "stdout",
     "output_type": "stream",
     "text": [
      "Accuracy: 0.8526315789473684\n",
      "258\n"
     ]
    },
    {
     "data": {
      "image/png": "[encoded data removed]",
      "text/plain": [
       "<Figure size 640x480 with 1 Axes>"
      ]
     },
     "metadata": {},
     "output_type": "display_data"
    }
   ],
   "source": [
    "hAcu = 0\n",
    "\n",
    "falsePosRate = []\n",
    "truePosRate = []\n",
    "\n",
    "for i in range(len(truePos)):\n",
    "    falsePosRate.append(falsePos[i] / (falsePos[i] + trueNeg[i]))\n",
    "    truePosRate.append(truePos[i] / (truePos[i] + falseNeg[i]))\n",
    "\n",
    "for i in range(RES):\n",
    "    if hAcu < truePos[i] + trueNeg[i]:\n",
    "        hAcu = truePos[i] + trueNeg[i]\n",
    "        lowestIndex = i\n",
    "\n",
    "print(f\"Accuracy: {(truePos[lowestIndex] + trueNeg[lowestIndex]) / (falsePos[0] + falseNeg[0] + truePos[0] + trueNeg[0])}\")\n",
    "print(lowestIndex)\n",
    "    \n",
    "plt.plot(falsePosRate, truePosRate)\n",
    "plt.grid()"
   ]
  },
  {
   "cell_type": "code",
   "execution_count": 25,
   "id": "3c8b679e-aca0-4f71-8704-f0190e516276",
   "metadata": {},
   "outputs": [
    {
     "name": "stdout",
     "output_type": "stream",
     "text": [
      "0.8597162177142224\n"
     ]
    }
   ],
   "source": [
    "import sklearn.metrics\n",
    "\n",
    "auc = sklearn.metrics.auc(falsePosRate, truePosRate)\n",
    "\n",
    "print(auc)"
   ]
  },
  {
   "cell_type": "code",
   "execution_count": 26,
   "id": "center-impression",
   "metadata": {},
   "outputs": [
    {
     "data": {
      "image/png": "[encoded data removed]",
      "text/plain": [
       "<Figure size 640x480 with 1 Axes>"
      ]
     },
     "metadata": {},
     "output_type": "display_data"
    }
   ],
   "source": [
    "plt.plot(testloss)\n",
    "plt.plot(trainloss)\n",
    "plt.grid()"
   ]
  },
  {
   "cell_type": "code",
   "execution_count": 27,
   "id": "million-updating",
   "metadata": {},
   "outputs": [
    {
     "data": {
      "image/png": "[encoded data removed]",
      "text/plain": [
       "<Figure size 640x480 with 1 Axes>"
      ]
     },
     "metadata": {},
     "output_type": "display_data"
    }
   ],
   "source": [
    "avgTrainLoss = getAvgLoss(trainloss)\n",
    "avgTestLoss = getAvgLoss(testloss)\n",
    "\n",
    "plt.plot(avgTestLoss)\n",
    "plt.plot(avgTrainLoss)\n",
    "plt.grid()"
   ]
  },
  {
   "cell_type": "code",
   "execution_count": 28,
   "id": "b8ff8edf-98e0-4a6b-b34a-bb1a9ce2521b",
   "metadata": {},
   "outputs": [],
   "source": [
    "data = iter(testset)"
   ]
  },
  {
   "cell_type": "code",
   "execution_count": 29,
   "id": "removed-article",
   "metadata": {},
   "outputs": [
    {
     "name": "stdout",
     "output_type": "stream",
     "text": [
      "tensor([1.], device='cuda:0')\n"
     ]
    },
    {
     "data": {
      "text/plain": [
       "<matplotlib.image.AxesImage at 0x1908ff74700>"
      ]
     },
     "execution_count": 29,
     "metadata": {},
     "output_type": "execute_result"
    },
    {
     "data": {
      "image/png": "[encoded data removed]",
      "text/plain": [
       "<Figure size 640x480 with 1 Axes>"
      ]
     },
     "metadata": {},
     "output_type": "display_data"
    }
   ],
   "source": [
    "X, y = data.next()\n",
    "\n",
    "X = X.to(device)\n",
    "y = y.to(device)\n",
    "        \n",
    "output = net(X)\n",
    "\n",
    "print(y[0])\n",
    "plt.imshow(X[0].view((32, 32)).cpu())"
   ]
  },
  {
   "cell_type": "code",
   "execution_count": 30,
   "id": "d3a1f1d3-58c6-4304-8378-e29f9d967ee8",
   "metadata": {},
   "outputs": [],
   "source": [
    "i = 0"
   ]
  },
  {
   "cell_type": "code",
   "execution_count": 31,
   "id": "0adbef04-aa51-4295-854c-63a72b350f85",
   "metadata": {},
   "outputs": [
    {
     "name": "stdout",
     "output_type": "stream",
     "text": [
      "tensor([1.], device='cuda:0')\n",
      "tensor([0.2000, 0.1785], grad_fn=<SelectBackward0>)\n"
     ]
    },
    {
     "data": {
      "image/png": "[encoded data removed]",
      "text/plain": [
       "<Figure size 640x480 with 1 Axes>"
      ]
     },
     "metadata": {},
     "output_type": "display_data"
    }
   ],
   "source": [
    "print(y[i])\n",
    "print(output[i])\n",
    "plt.imshow(X[i].view((32, 32)).cpu())\n",
    "\n",
    "i += 1\n",
    "i %= 20"
   ]
  },
  {
   "cell_type": "code",
   "execution_count": 32,
   "id": "d2aa0380-2713-4244-92dc-fcac9d04390f",
   "metadata": {},
   "outputs": [
    {
     "name": "stdout",
     "output_type": "stream",
     "text": [
      "tensor([1., 1., 0., 1., 0., 1., 1., 1., 0., 0., 1., 1., 1., 0., 1., 1., 0., 0.,\n",
      "        1., 1., 1., 0., 0., 0., 0., 1., 0., 1., 0., 0., 0., 1., 0., 0., 1., 1.,\n",
      "        1., 0., 0., 1.], device='cuda:0')\n"
     ]
    }
   ],
   "source": [
    "print(y.view(-1))"
   ]
  },
  {
   "cell_type": "code",
   "execution_count": 33,
   "id": "5a835a5d-de00-445e-9e58-b9dca249aff5",
   "metadata": {},
   "outputs": [
    {
     "name": "stdout",
     "output_type": "stream",
     "text": [
      "tensor([ 1.9998e-01,  1.7846e-01,  1.8397e-01,  1.6194e-01, -1.1997e-02,\n",
      "        -1.0606e-02, -1.1883e-02, -7.6938e-03, -5.5219e-03, -6.7478e-03,\n",
      "         1.0762e+00,  1.0562e+00,  9.1848e-01,  8.9136e-01,  7.3190e-01,\n",
      "         7.0872e-01,  7.2708e-03,  1.4435e-02, -1.6676e-03, -4.4173e-03,\n",
      "         3.1729e-01,  2.9490e-01,  1.7183e-01,  1.4776e-01,  9.0486e-01,\n",
      "         8.7448e-01, -1.0527e-02, -1.4372e-02,  8.2332e-01,  7.9010e-01,\n",
      "         6.3374e-01,  6.1321e-01,  1.2382e-04,  4.8968e-03, -5.1535e-03,\n",
      "         4.9615e-05,  1.0293e+00,  1.0059e+00, -2.9989e-03,  1.9601e-03,\n",
      "         7.5797e-02,  5.4505e-02, -3.0524e-03, -8.5601e-04,  1.9773e-01,\n",
      "         1.8007e-01, -8.5314e-04,  7.5912e-03,  8.6913e-04, -3.5438e-03,\n",
      "         1.0118e+00,  9.8537e-01,  1.0756e-02,  2.2904e-02,  9.6377e-01,\n",
      "         9.4286e-01,  6.4591e-03,  1.1506e-02, -4.1008e-03, -1.7557e-03,\n",
      "        -8.7079e-03, -4.2188e-03, -1.5459e-03, -4.1749e-04,  1.0395e-02,\n",
      "         2.0560e-02, -8.9558e-03, -5.3995e-03,  8.9228e-01,  8.6368e-01,\n",
      "         1.0515e+00,  1.0292e+00,  4.9729e-01,  4.7018e-01,  2.8779e-01,\n",
      "         2.6753e-01,  1.4578e-02,  2.4711e-02,  8.5965e-01,  8.3997e-01],\n",
      "       grad_fn=<ViewBackward0>)\n"
     ]
    }
   ],
   "source": [
    "print(output.view(-1))\n"
   ]
  },
  {
   "cell_type": "code",
   "execution_count": 34,
   "id": "186dee92-403c-4d96-a855-bc0b9133a389",
   "metadata": {},
   "outputs": [
    {
     "name": "stdout",
     "output_type": "stream",
     "text": [
      "tensor([[[[ 1.2368,  1.1839,  1.1434,  ...,  0.8672,  0.9017,  0.8890],\n",
      "          [ 0.9524,  1.0685,  1.0841,  ...,  0.9711,  0.9950,  1.0569],\n",
      "          [ 1.1092,  1.0412,  1.0914,  ...,  1.2176,  1.1878,  1.0922],\n",
      "          ...,\n",
      "          [ 0.8732,  0.8881,  0.9170,  ...,  1.0976,  1.1586,  1.1082],\n",
      "          [ 1.1420,  1.1143,  1.1297,  ...,  1.2424,  1.2080,  1.1924],\n",
      "          [ 1.2076,  1.2560,  1.3147,  ...,  1.2365,  1.2572,  1.3024]]],\n",
      "\n",
      "\n",
      "        [[[ 0.9203,  1.2087,  1.2643,  ...,  0.9907,  0.9978,  1.0426],\n",
      "          [ 1.0802,  1.0166,  1.0121,  ...,  0.8769,  0.9454,  1.0164],\n",
      "          [ 0.9718,  1.0531,  1.0720,  ...,  0.9551,  1.0023,  1.0713],\n",
      "          ...,\n",
      "          [ 0.9788,  0.9607,  1.0282,  ...,  1.0897,  1.0497,  0.8496],\n",
      "          [ 0.9357,  0.8482,  0.8101,  ...,  1.1095,  1.1459,  1.0597],\n",
      "          [ 1.0747,  1.0683,  1.1124,  ...,  0.9134,  0.8802,  0.9275]]],\n",
      "\n",
      "\n",
      "        [[[ 0.5688,  0.5226,  0.4980,  ...,  1.1730,  1.0572,  1.1070],\n",
      "          [ 1.2056,  1.3914,  1.4241,  ...,  0.9136,  1.0904,  1.0304],\n",
      "          [ 0.9879,  1.1320,  1.2532,  ...,  0.7239,  0.7019,  0.8648],\n",
      "          ...,\n",
      "          [ 1.3216,  1.2282,  1.2069,  ...,  0.8337,  0.8903,  0.9143],\n",
      "          [ 0.8436,  0.8370,  0.8044,  ...,  0.7679,  0.7404,  0.8873],\n",
      "          [ 0.7344,  0.7469,  0.6396,  ...,  0.7189,  0.6098,  0.8501]]],\n",
      "\n",
      "\n",
      "        ...,\n",
      "\n",
      "\n",
      "        [[[ 1.0583,  1.1120,  1.0546,  ...,  0.9876,  0.9646,  1.0038],\n",
      "          [ 0.9563,  0.8576,  0.8732,  ...,  0.6748,  0.8037,  0.8217],\n",
      "          [ 0.8155,  0.9063,  1.0020,  ...,  1.0419,  1.1283,  1.1753],\n",
      "          ...,\n",
      "          [ 1.4303,  1.3962,  1.3521,  ...,  0.8271,  0.7999,  0.9827],\n",
      "          [ 1.0137,  0.9733,  1.0733,  ...,  1.3354,  1.3697,  1.3606],\n",
      "          [ 1.2307,  1.2004,  1.1944,  ...,  1.0477,  1.2002,  1.1854]]],\n",
      "\n",
      "\n",
      "        [[[ 0.3054,  0.3498,  0.2934,  ...,  0.4394,  0.4196,  0.4065],\n",
      "          [ 0.3483,  0.2879,  0.2574,  ...,  0.4379,  0.3743,  0.3666],\n",
      "          [ 0.4199,  0.4352,  0.4498,  ..., -0.1207, -0.1546, -0.0558],\n",
      "          ...,\n",
      "          [ 0.1209,  0.0350,  0.1216,  ...,  0.7279,  0.6338,  0.5893],\n",
      "          [ 0.6210,  0.4387,  0.4345,  ...,  0.4415,  0.3938,  0.4628],\n",
      "          [ 0.5046,  0.5136,  0.4629,  ...,  0.3454,  0.3359,  0.4275]]],\n",
      "\n",
      "\n",
      "        [[[ 1.5693,  1.4923,  1.5627,  ...,  1.5545,  1.3569,  1.3162],\n",
      "          [ 1.3283,  1.3348,  1.3127,  ...,  0.9706,  1.1103,  1.0003],\n",
      "          [ 1.0420,  1.1047,  1.1366,  ...,  1.3962,  1.3432,  1.3028],\n",
      "          ...,\n",
      "          [ 1.0495,  1.1313,  1.2306,  ...,  1.2548,  1.2633,  1.2254],\n",
      "          [ 1.1405,  1.2661,  1.2577,  ...,  1.4425,  1.4509,  1.3984],\n",
      "          [ 1.4092,  1.3676,  1.4464,  ...,  1.4854,  1.4765,  1.5597]]]],\n",
      "       device='cuda:0')\n"
     ]
    }
   ],
   "source": [
    "print(X)"
   ]
  },
  {
   "cell_type": "code",
   "execution_count": 35,
   "id": "39a6ec66-1d5c-4d9b-92d6-3e784b12fd5d",
   "metadata": {},
   "outputs": [],
   "source": [
    "def wrongAns(output, expected, threshold):\n",
    "    falseNeg = 0\n",
    "    trueNeg = 0\n",
    "    falsePos = 0\n",
    "    truePos = 0\n",
    "    total = 0\n",
    "    \n",
    "    for i in range(len(output)):\n",
    "        if int(expected[i][0]) > 0.5:\n",
    "            if float(output[i][0]) < threshold:\n",
    "                falseNeg += 1\n",
    "            \n",
    "            else:\n",
    "                truePos += 1\n",
    "        else:\n",
    "            if float(output[i][0]) >= threshold:\n",
    "                falsePos += 1\n",
    "                \n",
    "            else:\n",
    "                trueNeg += 1\n",
    "\n",
    "        total += 1\n",
    "    \n",
    "    return(truePos, falsePos, trueNeg, falseNeg)"
   ]
  },
  {
   "cell_type": "code",
   "execution_count": null,
   "id": "ffd4529b-f2cc-41db-a82c-f24d796be412",
   "metadata": {},
   "outputs": [],
   "source": []
  },
  {
   "cell_type": "code",
   "execution_count": null,
   "id": "4e18b9a2-1fff-42f1-bb17-986b644d9022",
   "metadata": {},
   "outputs": [],
   "source": []
  }
 ],
 "metadata": {
  "kernelspec": {
   "display_name": "Python 3 (ipykernel)",
   "language": "python",
   "name": "python3"
  },
  "language_info": {
   "codemirror_mode": {
    "name": "ipython",
    "version": 3
   },
   "file_extension": ".py",
   "mimetype": "text/x-python",
   "name": "python",
   "nbconvert_exporter": "python",
   "pygments_lexer": "ipython3",
   "version": "3.9.5"
  }
 },
 "nbformat": 4,
 "nbformat_minor": 5
}
